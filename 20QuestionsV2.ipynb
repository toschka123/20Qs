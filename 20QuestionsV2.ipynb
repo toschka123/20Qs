{
 "cells": [
  {
   "cell_type": "code",
   "execution_count": null,
   "metadata": {},
   "outputs": [],
   "source": [
    "import rdflib\n",
    "import html\n",
    "g = rdflib.Graph().parse('./fb15k-wikitop2021-yago-facts.nt', format='ntriples')\n",
    "g += rdflib.Graph().parse('./fb15k-wikitop2021-yago-full-types.nt', format='ntriples')\n",
    "\n",
    "from rdflib.namespace import RDF\n",
    "for line in open('fb15k-wikitop2021.tsv').readlines()[1:]:\n",
    "    subject = rdflib.URIRef( line.split('\\t')[6][1:-1] ) # take the URI in column 6\n",
    "    g.add( (subject, RDF.type, rdflib.URIRef('http://example.com/popularEntity')) )\n",
    "    \n",
    "g.remove((None, rdflib.URIRef('http://schema.org/image') , None))\n",
    "g.remove((None, rdflib.URIRef('http://schema.org/url') , None))\n",
    "g.serialize(destination='20q-updated.ttl', format='turtle')"
   ]
  },
  {
   "cell_type": "code",
   "execution_count": null,
   "metadata": {},
   "outputs": [],
   "source": [
    "r = g.query(\"\"\"\n",
    "select *  where \n",
    "{\n",
    "    ?s <http://www.w3.org/1999/02/22-rdf-syntax-ns#type> <http://example.com/popularEntity> .\n",
    "    ?s <http://schema.org/url> ?o .\n",
    "} \n",
    "\"\"\")\n",
    "for b in r.bindings:\n",
    "    print(*[f'{x}' for x in b.values()])"
   ]
  },
  {
   "cell_type": "markdown",
   "metadata": {},
   "source": [
    "## Code"
   ]
  },
  {
   "cell_type": "code",
   "execution_count": 1,
   "metadata": {},
   "outputs": [],
   "source": [
    "%load_ext ipython_sparql_pandas"
   ]
  },
  {
   "cell_type": "code",
   "execution_count": 3,
   "metadata": {},
   "outputs": [],
   "source": [
    "from SPARQLWrapper import SPARQLWrapper, JSON\n",
    "sparql = SPARQLWrapper('http://DESKTOP-D6TQ7G4:7200/repositories/newtry')\n",
    "sparql.setReturnFormat(JSON)"
   ]
  },
  {
   "cell_type": "code",
   "execution_count": 4,
   "metadata": {},
   "outputs": [],
   "source": [
    "#from the query results extract a list that contains the counts after splitting on certain attributes\n",
    "PosAttr=['?s <http://www.w3.org/1999/02/22-rdf-syntax-ns#type> <http://example.com/popularEntity> .']\n",
    "NegAttr=[]\n",
    "AttrHistory = ['<http://www.w3.org/1999/02/22-rdf-syntax-ns#type> <http://example.com/popularEntity>']\n",
    "def extractCountAndAttr(result):\n",
    "    number = []\n",
    "    listOfObj = []\n",
    "    listOfPred= []\n",
    "    #ret = result.queryAndConvert()\n",
    "    for attr in result[\"results\"][\"bindings\"]:\n",
    "        listOfObj.append(attr['o'][\"value\"])\n",
    "        listOfPred.append(attr['p'][\"value\"])\n",
    "    return(listOfObj,listOfPred)\n",
    "\n",
    "def generateQuestion(listOfPred, listOfObj, index):\n",
    "    if ('<' + str(listOfPred[index]) +'> <'+str(listOfObj[index])+ '>') in AttrHistory:\n",
    "        return generateQuestion(listOfPred, listOfObj, index+1)\n",
    "        \n",
    "    else:\n",
    "        AttrHistory.append('<' + str(listOfPred[index]) +'> <'+str(listOfObj[index])+ '>')\n",
    "    userAnswer = input(f'Does the thing you are looking for have the attribute: {listOfPred[index].split(\"/\")[-1]} {listOfObj[index].split(\"/\")[-1]}?' )\n",
    "    \n",
    "    if userAnswer.startswith('y'):\n",
    "        PosAttr.append('?s <' + str(listOfPred[index]) +'> <'+str(listOfObj[index])+ '>.')    \n",
    "        \n",
    "    elif userAnswer.startswith('n'):\n",
    "        NegAttr.append('FILTER NOT EXISTS {{ \\n ?s <' + str(listOfPred[index]) +'> <'+str(listOfObj[index])+ '>. }}')   \n",
    "        \n",
    "    else:\n",
    "        return generateQuestion(listOfPred, listOfObj, index+1)\n",
    "    NegFilters = \"\\n\".join(NegAttr)\n",
    "    PosFilters = \"\\n\".join(PosAttr)\n",
    "    return (PosFilters, NegFilters)\n",
    "\n",
    "\n",
    "  \n",
    "def updateQuery(left, PosFilters, NegFilters):\n",
    "    FilterQuestion =  (f\"\"\"\n",
    "            select (count(*) as ?count) ?p ?o  where \n",
    "            {{\n",
    "            \n",
    "            {PosFilters}\n",
    "             ?s ?p ?o .\n",
    "            {NegFilters}\n",
    "            }} \n",
    "            \n",
    "            group by ?p ?o \n",
    "            ORDER BY ABS( {left} - ?count )\n",
    "            Limit 25\n",
    "            \n",
    "            \"\"\") \n",
    "        \n",
    "    return FilterQuestion"
   ]
  },
  {
   "cell_type": "code",
   "execution_count": 5,
   "metadata": {},
   "outputs": [],
   "source": [
    "def numberleft(PosFilters,NegFilters):\n",
    "    query =  f\"\"\"\n",
    "            select ?s where \n",
    "            {{\n",
    "            \n",
    "            {PosFilters}\n",
    "            ?s <http://www.w3.org/1999/02/22-rdf-syntax-ns#type> <http://example.com/popularEntity> .\n",
    "            {NegFilters} \n",
    "            \n",
    "            }}\n",
    "            \n",
    "            \"\"\" \n",
    "    sparql.setQuery(query)\n",
    "    sparql.setReturnFormat(JSON)\n",
    "    qres = sparql.query().convert() \n",
    "    return len(qres[\"results\"][\"bindings\"])"
   ]
  },
  {
   "cell_type": "code",
   "execution_count": 6,
   "metadata": {},
   "outputs": [],
   "source": [
    "def popentities(PosFilters,NegFilters):\n",
    "    query =  f\"\"\"\n",
    "            select ?s where \n",
    "            {{\n",
    "            \n",
    "            {PosFilters}\n",
    "            ?s <http://www.w3.org/1999/02/22-rdf-syntax-ns#type> <http://example.com/popularEntity> .\n",
    "            {NegFilters} \n",
    "            \n",
    "            }}\n",
    "            \n",
    "            \"\"\" \n",
    "    sparql.setQuery(query)\n",
    "    sparql.setReturnFormat(JSON)\n",
    "    qres = sparql.query().convert() \n",
    "    return qres[\"results\"][\"bindings\"]"
   ]
  },
  {
   "cell_type": "code",
   "execution_count": 7,
   "metadata": {},
   "outputs": [],
   "source": [
    "# resets are variables\n",
    "def game_reset():\n",
    "    PosAttr= ['?s <http://www.w3.org/1999/02/22-rdf-syntax-ns#type> <http://example.com/popularEntity> .']\n",
    "    NegAttr= ['']\n",
    "    AttrHistory = ['<http://www.w3.org/1999/02/22-rdf-syntax-ns#type> <http://example.com/popularEntity>']\n",
    "    left = numberleft(\"\".join(PosAttr), \"\".join(NegAttr))\n",
    "    FilterQuestion =  f\"\"\"\n",
    "        select (count(*) as ?count) ?p ?o  where \n",
    "        {{\n",
    "\n",
    "        ?s <http://www.w3.org/1999/02/22-rdf-syntax-ns#type> <http://example.com/popularEntity> .\n",
    "        ?s ?p ?o .\n",
    "        FILTER (!isBlank(?o)) \n",
    "        }} \n",
    "        group by ?p ?o \n",
    "        ORDER BY ABS( %s - ?count )\n",
    "        limit 10\n",
    "        \"\"\" %((left/2))\n",
    "    sparql.setQuery(FilterQuestion)\n",
    "    sparql.setReturnFormat(JSON)\n",
    "    qres = sparql.query().convert()\n",
    "    listOfObj ,listOfPred = extractCountAndAttr(qres)\n",
    "    return (left, qres, PosAttr, NegAttr, AttrHistory)"
   ]
  },
  {
   "cell_type": "code",
   "execution_count": 8,
   "metadata": {},
   "outputs": [
    {
     "name": "stdout",
     "output_type": "stream",
     "text": [
      "Question: 1\n"
     ]
    },
    {
     "name": "stdin",
     "output_type": "stream",
     "text": [
      "Does the thing you are looking for have the attribute: 22-rdf-syntax-ns#type Person? y\n"
     ]
    },
    {
     "name": "stdout",
     "output_type": "stream",
     "text": [
      "Question: 2\n"
     ]
    },
    {
     "name": "stdin",
     "output_type": "stream",
     "text": [
      "Does the thing you are looking for have the attribute: knowsLanguage English_language? n\n"
     ]
    },
    {
     "name": "stdout",
     "output_type": "stream",
     "text": [
      "Question: 3\n"
     ]
    },
    {
     "name": "stdin",
     "output_type": "stream",
     "text": [
      "Does the thing you are looking for have the attribute: hasOccupation Actor? n\n"
     ]
    },
    {
     "name": "stdout",
     "output_type": "stream",
     "text": [
      "Question: 4\n"
     ]
    },
    {
     "name": "stdin",
     "output_type": "stream",
     "text": [
      "Does the thing you are looking for have the attribute: nationality United_States? y\n"
     ]
    },
    {
     "name": "stdout",
     "output_type": "stream",
     "text": [
      "Question: 5\n"
     ]
    },
    {
     "name": "stdin",
     "output_type": "stream",
     "text": [
      "Does the thing you are looking for have the attribute: hasOccupation Film_producer? n\n"
     ]
    },
    {
     "name": "stdout",
     "output_type": "stream",
     "text": [
      "Question: 6\n"
     ]
    },
    {
     "name": "stdin",
     "output_type": "stream",
     "text": [
      "Does the thing you are looking for have the attribute: hasOccupation Stage_actor? n\n"
     ]
    },
    {
     "name": "stdout",
     "output_type": "stream",
     "text": [
      "Question: 7\n"
     ]
    },
    {
     "name": "stdin",
     "output_type": "stream",
     "text": [
      "Does the thing you are looking for have the attribute: hasOccupation Guitarist? n\n"
     ]
    },
    {
     "name": "stdout",
     "output_type": "stream",
     "text": [
      "Question: 8\n"
     ]
    },
    {
     "name": "stdin",
     "output_type": "stream",
     "text": [
      "Does the thing you are looking for have the attribute: hasOccupation Screenwriter? n\n"
     ]
    },
    {
     "name": "stdout",
     "output_type": "stream",
     "text": [
      "Question: 9\n"
     ]
    },
    {
     "name": "stdin",
     "output_type": "stream",
     "text": [
      "Does the thing you are looking for have the attribute: hasOccupation Songwriter? y\n"
     ]
    },
    {
     "name": "stdout",
     "output_type": "stream",
     "text": [
      "Question: 10\n"
     ]
    },
    {
     "name": "stdin",
     "output_type": "stream",
     "text": [
      "Does the thing you are looking for have the attribute: hasOccupation Pianist? y\n"
     ]
    },
    {
     "name": "stdout",
     "output_type": "stream",
     "text": [
      "Question: 11\n"
     ]
    },
    {
     "name": "stdin",
     "output_type": "stream",
     "text": [
      "Does the thing you are looking for have the attribute: award Academy_Award_for_Best_Original_Musical? y\n"
     ]
    },
    {
     "name": "stdout",
     "output_type": "stream",
     "text": [
      "Question: 12\n"
     ]
    },
    {
     "name": "stdin",
     "output_type": "stream",
     "text": [
      "Does the thing you are looking for have the attribute: image Alan%20Menken%202013%20%28cropped%29.jpg? y\n"
     ]
    },
    {
     "name": "stdout",
     "output_type": "stream",
     "text": [
      "Your Answer is: Alan_Menken\n"
     ]
    }
   ],
   "source": [
    "#without printing results\n",
    "import random\n",
    "\n",
    "# Resets all variables\n",
    "left,qres,PosAttr,NegAttr,AttrHistory = game_reset()\n",
    "i=0\n",
    "outofguess = []\n",
    "\n",
    "while i < 20:\n",
    "   \n",
    "    # list of Pred and Obj for questions\n",
    "    listOfObj ,listOfPred = extractCountAndAttr(qres)\n",
    "    \n",
    "    # if only 1 popular entity is left break\n",
    "    if left<=1:\n",
    "        break\n",
    "    \n",
    "    # ask question and add filters to query\n",
    "    print('Question: %s' %(i+1))\n",
    "    PosFilters, NegFilters = generateQuestion(listOfPred, listOfObj, 0)\n",
    "    \n",
    "    # number of popular entities left\n",
    "    left = numberleft(PosFilters, NegFilters)\n",
    "    \n",
    "    # run query\n",
    "    query = updateQuery(left/2,PosFilters, NegFilters)\n",
    "    sparql.setQuery(query)\n",
    "    qres = sparql.queryAndConvert()\n",
    "    \n",
    "    i+=1\n",
    "\n",
    "# Prints answer\n",
    "if i != 20:\n",
    "    for attr in popentities(PosFilters, NegFilters):\n",
    "        print(*[f'Your Answer is: {x.split(\"/\")[-1]}' for x in [attr['s']['value']]][0:10]) \n",
    "\n",
    "# ran out of questions\n",
    "else:\n",
    "    print('Final Question:')\n",
    "    for j in popentities(PosFilters, NegFilters):\n",
    "            outofguess.append(f'{j[0].split(\"/\")[-1][:40]:40s}')\n",
    "    guess = random.choice(outofguess)\n",
    "    print(guess)\n",
    "    answer = (input('Is this correct?').startswith('y'))\n",
    "    if answer is True:\n",
    "        print('Win')\n",
    "    else:\n",
    "        print('game over')"
   ]
  },
  {
   "cell_type": "code",
   "execution_count": 9,
   "metadata": {},
   "outputs": [
    {
     "name": "stdout",
     "output_type": "stream",
     "text": [
      "Question: 1\n"
     ]
    },
    {
     "name": "stdin",
     "output_type": "stream",
     "text": [
      "Does the thing you are looking for have the attribute: 22-rdf-syntax-ns#type Person? n\n"
     ]
    },
    {
     "name": "stdout",
     "output_type": "stream",
     "text": [
      "remaining entities: 8409\n",
      "3490                                     22-rdf-syntax-ns#type                    Organization                            \n",
      "2955                                     22-rdf-syntax-ns#type                    Place                                   \n",
      "2489                                     22-rdf-syntax-ns#type                    CreativeWork                            \n",
      "2119                                     22-rdf-syntax-ns#type                    AdministrativeArea                      \n",
      "1854                                     22-rdf-syntax-ns#type                    Movie                                   \n",
      "1789                                     countryOfOrigin                          United_States                           \n",
      "1040                                     22-rdf-syntax-ns#type                    City                                    \n",
      "929                                      22-rdf-syntax-ns#type                    SportsOrganization                      \n",
      "899                                      22-rdf-syntax-ns#type                    NGO                                     \n",
      "816                                      22-rdf-syntax-ns#type                    Corporation                             \n",
      "734                                      sport                                    Association_football                    \n",
      "624                                      22-rdf-syntax-ns#type                    EducationalOrganization                 \n",
      "559                                      22-rdf-syntax-ns#type                    CollegeOrUniversity                     \n",
      "447                                      genre                                    Action_film                             \n",
      "424                                      countryOfOrigin                          United_Kingdom                          \n",
      "322                                      22-rdf-syntax-ns#type                    SportsTeam                              \n",
      "313                                      contentLocation                          New_York_City                           \n",
      "299                                      22-rdf-syntax-ns#type                    Music_genre                             \n",
      "285                                      22-rdf-syntax-ns#type                    CreativeWorkSeries                      \n",
      "275                                      22-rdf-syntax-ns#type                    Country                                 \n",
      "275                                      22-rdf-syntax-ns#type                    TVSeries                                \n",
      "270                                      genre                                    Fantasy_film                            \n",
      "258                                      inLanguage                               English_language                        \n",
      "237                                      22-rdf-syntax-ns#type                    University                              \n",
      "219                                      genre                                    Science_fiction_film                    \n",
      "Question: 2\n"
     ]
    },
    {
     "name": "stdin",
     "output_type": "stream",
     "text": [
      "Does the thing you are looking for have the attribute: 22-rdf-syntax-ns#type Organization? y\n"
     ]
    },
    {
     "name": "stdout",
     "output_type": "stream",
     "text": [
      "remaining entities: 3490\n",
      "1843                                     22-rdf-syntax-ns#type                    Place                                   \n",
      "1141                                     22-rdf-syntax-ns#type                    AdministrativeArea                      \n",
      "929                                      22-rdf-syntax-ns#type                    SportsOrganization                      \n",
      "899                                      22-rdf-syntax-ns#type                    NGO                                     \n",
      "816                                      22-rdf-syntax-ns#type                    Corporation                             \n",
      "767                                      22-rdf-syntax-ns#type                    City                                    \n",
      "734                                      sport                                    Association_football                    \n",
      "624                                      22-rdf-syntax-ns#type                    EducationalOrganization                 \n",
      "559                                      22-rdf-syntax-ns#type                    CollegeOrUniversity                     \n",
      "322                                      22-rdf-syntax-ns#type                    SportsTeam                              \n",
      "273                                      22-rdf-syntax-ns#type                    Country                                 \n",
      "237                                      22-rdf-syntax-ns#type                    University                              \n",
      "197                                      memberOf                                 United_Nations                          \n",
      "192                                      22-rdf-syntax-ns#type                    Sovereign_state                         \n",
      "192                                      memberOf                                 UNESCO                                  \n",
      "188                                      22-rdf-syntax-ns#type                    MusicGroup                              \n",
      "188                                      22-rdf-syntax-ns#type                    PerformingGroup                         \n",
      "187                                      memberOf                                 Organisation_for_the_Prohibition_of_Chem\n",
      "186                                      memberOf                                 Interpol                                \n",
      "185                                      memberOf                                 International_Telecommunication_Union   \n",
      "184                                      memberOf                                 International_Bank_for_Reconstruction_an\n",
      "183                                      memberOf                                 Universal_Postal_Union                  \n",
      "180                                      memberOf                                 International_Finance_Corporation       \n",
      "177                                      memberOf                                 Multilateral_Investment_Guarantee_Agency\n",
      "168                                      memberOf                                 International_Development_Association   \n",
      "Question: 3\n"
     ]
    },
    {
     "name": "stdin",
     "output_type": "stream",
     "text": [
      "Does the thing you are looking for have the attribute: 22-rdf-syntax-ns#type Place? n\n"
     ]
    },
    {
     "name": "stdout",
     "output_type": "stream",
     "text": [
      "remaining entities: 1647\n",
      "861                                      22-rdf-syntax-ns#type                    NGO                                     \n",
      "734                                      sport                                    Association_football                    \n",
      "928                                      22-rdf-syntax-ns#type                    SportsOrganization                      \n",
      "322                                      22-rdf-syntax-ns#type                    SportsTeam                              \n",
      "188                                      22-rdf-syntax-ns#type                    MusicGroup                              \n",
      "188                                      22-rdf-syntax-ns#type                    PerformingGroup                         \n",
      "135                                      22-rdf-syntax-ns#type                    Record_label                            \n",
      "124                                      22-rdf-syntax-ns#type                    Business                                \n",
      "57                                       22-rdf-syntax-ns#type                    Video_game_developer                    \n",
      "51                                       sport                                    American_football                       \n",
      "49                                       genre                                    Alternative_rock                        \n",
      "49                                       genre                                    Rock_music                              \n",
      "45                                       sport                                    Basketball                              \n",
      "45                                       sport                                    Ice_hockey                              \n",
      "42                                       sport                                    Baseball                                \n",
      "40                                       22-rdf-syntax-ns#type                    Political_party                         \n",
      "38                                       genre                                    Hard_rock                               \n",
      "36                                       award                                    Rock_and_Roll_Hall_of_Fame              \n",
      "29                                       parentOrganization                       Universal_Music_Group                   \n",
      "27                                       22-rdf-syntax-ns#type                    Video_game_publisher                    \n",
      "26                                       genre                                    Progressive_rock                        \n",
      "24                                       foundingDate                             1996                                    \n",
      "23                                       memberOf                                 Wi-Fi_Alliance                          \n",
      "22                                       foundingDate                             1967                                    \n",
      "22                                       foundingDate                             1970                                    \n",
      "Question: 4\n"
     ]
    },
    {
     "name": "stdin",
     "output_type": "stream",
     "text": [
      "Does the thing you are looking for have the attribute: 22-rdf-syntax-ns#type NGO? y\n"
     ]
    },
    {
     "name": "stdout",
     "output_type": "stream",
     "text": [
      "remaining entities: 861\n",
      "625                                      sport                                    Association_football                    \n",
      "206                                      22-rdf-syntax-ns#type                    SportsTeam                              \n",
      "51                                       sport                                    American_football                       \n",
      "812                                      22-rdf-syntax-ns#type                    SportsOrganization                      \n",
      "45                                       sport                                    Basketball                              \n",
      "45                                       sport                                    Ice_hockey                              \n",
      "42                                       sport                                    Baseball                                \n",
      "40                                       22-rdf-syntax-ns#type                    Political_party                         \n",
      "16                                       award                                    Prince_of_Wales_Trophy                  \n",
      "16                                       foundingDate                             1967                                    \n",
      "15                                       award                                    Presidents'_Trophy                      \n",
      "14                                       foundingDate                             1946                                    \n",
      "13                                       award                                    Clarence_S._Campbell_Bowl               \n",
      "11                                       foundingDate                             1905                                    \n",
      "11                                       foundingDate                             1923                                    \n",
      "11                                       foundingDate                             1995                                    \n",
      "10                                       22-rdf-syntax-ns#type                    Sports_club                             \n",
      "10                                       foundingDate                             1909                                    \n",
      "10                                       foundingDate                             1912                                    \n",
      "10                                       foundingDate                             1919                                    \n",
      "10                                       foundingDate                             1960                                    \n",
      "10                                       foundingDate                             1966                                    \n",
      "9                                        foundingDate                             1904                                    \n",
      "9                                        foundingDate                             1910                                    \n",
      "9                                        foundingDate                             1950                                    \n",
      "Question: 5\n"
     ]
    },
    {
     "name": "stdin",
     "output_type": "stream",
     "text": [
      "Does the thing you are looking for have the attribute: sport Association_football? n\n"
     ]
    },
    {
     "name": "stdout",
     "output_type": "stream",
     "text": [
      "remaining entities: 236\n",
      "178                                      22-rdf-syntax-ns#type                    SportsTeam                              \n",
      "50                                       sport                                    American_football                       \n",
      "187                                      22-rdf-syntax-ns#type                    SportsOrganization                      \n",
      "45                                       sport                                    Ice_hockey                              \n",
      "42                                       sport                                    Baseball                                \n",
      "41                                       sport                                    Basketball                              \n",
      "40                                       22-rdf-syntax-ns#type                    Political_party                         \n",
      "16                                       award                                    Prince_of_Wales_Trophy                  \n",
      "15                                       award                                    Presidents'_Trophy                      \n",
      "13                                       award                                    Clarence_S._Campbell_Bowl               \n",
      "11                                       foundingDate                             1967                                    \n",
      "9                                        foundingDate                             1946                                    \n",
      "9                                        foundingDate                             1960                                    \n",
      "6                                        memberOf                                 Progressive_Alliance                    \n",
      "6                                        foundingDate                             1894                                    \n",
      "6                                        foundingDate                             1970                                    \n",
      "5                                        memberOf                                 International_Democrat_Union            \n",
      "5                                        foundingDate                             1950                                    \n",
      "5                                        foundingDate                             1966                                    \n",
      "5                                        foundingDate                             1969                                    \n",
      "5                                        foundingDate                             1993                                    \n",
      "5                                        foundingDate                             1997                                    \n",
      "4                                        foundingDate                             1968                                    \n",
      "4                                        foundingDate                             1972                                    \n",
      "3                                        22-rdf-syntax-ns#type                    Communist_party                         \n",
      "Question: 6\n"
     ]
    },
    {
     "name": "stdin",
     "output_type": "stream",
     "text": [
      "Does the thing you are looking for have the attribute: 22-rdf-syntax-ns#type SportsTeam? y\n"
     ]
    },
    {
     "name": "stdout",
     "output_type": "stream",
     "text": [
      "remaining entities: 178\n",
      "49                                       sport                                    American_football                       \n",
      "45                                       sport                                    Ice_hockey                              \n",
      "42                                       sport                                    Baseball                                \n",
      "41                                       sport                                    Basketball                              \n",
      "16                                       award                                    Prince_of_Wales_Trophy                  \n",
      "15                                       award                                    Presidents'_Trophy                      \n",
      "13                                       award                                    Clarence_S._Campbell_Bowl               \n",
      "11                                       foundingDate                             1967                                    \n",
      "9                                        foundingDate                             1960                                    \n",
      "8                                        foundingDate                             1946                                    \n",
      "6                                        foundingDate                             1894                                    \n",
      "6                                        foundingDate                             1970                                    \n",
      "5                                        foundingDate                             1966                                    \n",
      "5                                        foundingDate                             1969                                    \n",
      "5                                        foundingDate                             1993                                    \n",
      "5                                        foundingDate                             1997                                    \n",
      "4                                        foundingDate                             1950                                    \n",
      "4                                        foundingDate                             1968                                    \n",
      "4                                        foundingDate                             1972                                    \n",
      "3                                        22-rdf-syntax-ns#type                    National_sports_team                    \n",
      "3                                        foundingDate                             1887                                    \n",
      "3                                        foundingDate                             1920                                    \n",
      "3                                        foundingDate                             1926                                    \n",
      "3                                        foundingDate                             1971                                    \n",
      "3                                        foundingDate                             1974                                    \n",
      "Question: 7\n"
     ]
    },
    {
     "name": "stdin",
     "output_type": "stream",
     "text": [
      "Does the thing you are looking for have the attribute: sport American_football? n\n"
     ]
    },
    {
     "name": "stdout",
     "output_type": "stream",
     "text": [
      "remaining entities: 129\n",
      "44                                       sport                                    Ice_hockey                              \n",
      "41                                       sport                                    Baseball                                \n",
      "41                                       sport                                    Basketball                              \n",
      "15                                       award                                    Prince_of_Wales_Trophy                  \n",
      "14                                       award                                    Presidents'_Trophy                      \n",
      "13                                       award                                    Clarence_S._Campbell_Bowl               \n",
      "10                                       foundingDate                             1967                                    \n",
      "6                                        foundingDate                             1946                                    \n",
      "6                                        foundingDate                             1970                                    \n",
      "5                                        foundingDate                             1894                                    \n",
      "5                                        foundingDate                             1969                                    \n",
      "5                                        foundingDate                             1993                                    \n",
      "5                                        foundingDate                             1997                                    \n",
      "4                                        foundingDate                             1950                                    \n",
      "4                                        foundingDate                             1972                                    \n",
      "3                                        22-rdf-syntax-ns#type                    National_sports_team                    \n",
      "3                                        foundingDate                             1926                                    \n",
      "3                                        foundingDate                             1966                                    \n",
      "3                                        foundingDate                             1968                                    \n",
      "3                                        foundingDate                             1971                                    \n",
      "3                                        foundingDate                             1974                                    \n",
      "2                                        location                                 Massachusetts                           \n",
      "2                                        location                                 Phoenix,_Arizona                        \n",
      "2                                        location                                 Seattle                                 \n",
      "2                                        foundingDate                             1883                                    \n",
      "Question: 8\n"
     ]
    },
    {
     "name": "stdin",
     "output_type": "stream",
     "text": [
      "Does the thing you are looking for have the attribute: sport Ice_hockey? n\n"
     ]
    },
    {
     "name": "stdout",
     "output_type": "stream",
     "text": [
      "remaining entities: 85\n",
      "41                                       sport                                    Baseball                                \n",
      "40                                       sport                                    Basketball                              \n",
      "7                                        foundingDate                             1967                                    \n",
      "6                                        foundingDate                             1946                                    \n",
      "5                                        foundingDate                             1894                                    \n",
      "5                                        foundingDate                             1969                                    \n",
      "4                                        foundingDate                             1950                                    \n",
      "3                                        22-rdf-syntax-ns#type                    National_sports_team                    \n",
      "3                                        foundingDate                             1968                                    \n",
      "3                                        foundingDate                             1970                                    \n",
      "2                                        location                                 Phoenix,_Arizona                        \n",
      "2                                        location                                 Seattle                                 \n",
      "2                                        foundingDate                             1883                                    \n",
      "2                                        foundingDate                             1901                                    \n",
      "2                                        foundingDate                             1920                                    \n",
      "2                                        foundingDate                             1962                                    \n",
      "2                                        foundingDate                             1977                                    \n",
      "2                                        foundingDate                             1988                                    \n",
      "2                                        foundingDate                             1989                                    \n",
      "2                                        foundingDate                             1993                                    \n",
      "2                                        foundingDate                             1995                                    \n",
      "2                                        foundingDate                             1998                                    \n",
      "1                                        image                                    %E7%94%B2%E5%AD%90%E5%9C%92%20%285066521\n",
      "1                                        image                                    %E7%A5%9E%E5%AE%AE%202017%20%28262304797\n",
      "1                                        image                                    2009%20Eastern%20Conference%20Finals%20G\n",
      "Question: 9\n"
     ]
    },
    {
     "name": "stdin",
     "output_type": "stream",
     "text": [
      "Does the thing you are looking for have the attribute: sport Baseball? y\n"
     ]
    },
    {
     "name": "stdout",
     "output_type": "stream",
     "text": [
      "remaining entities: 41\n",
      "5                                        foundingDate                             1894                                    \n",
      "5                                        foundingDate                             1969                                    \n",
      "4                                        foundingDate                             1950                                    \n",
      "2                                        foundingDate                             1883                                    \n",
      "2                                        foundingDate                             1901                                    \n",
      "2                                        foundingDate                             1962                                    \n",
      "2                                        foundingDate                             1977                                    \n",
      "2                                        foundingDate                             1993                                    \n",
      "2                                        foundingDate                             1998                                    \n",
      "1                                        image                                    %E7%94%B2%E5%AD%90%E5%9C%92%20%285066521\n",
      "1                                        image                                    %E7%A5%9E%E5%AE%AE%202017%20%28262304797\n",
      "1                                        image                                    Angels%20Stadium.JPG                    \n",
      "1                                        logo                                     Arizona%20Diamondbacks%20cap%20logo.svg \n",
      "1                                        logo                                     Bosb.png                                \n",
      "1                                        logo                                     Buffaloesinsignia.png                   \n",
      "1                                        image                                    Carp%20VS%20Fighters%202009%20%28in%20MA\n",
      "1                                        image                                    Chiba%20Marinestadium%20Nightgames.jpg  \n",
      "1                                        logo                                     Chicago%20Cubs%20logo.svg               \n",
      "1                                        logo                                     Chunichi%20dragons%20insignia.png       \n",
      "1                                        image                                    Cleveland%20Indians%20primary%20logo.svg\n",
      "1                                        logo                                     Hanshin%20tigers%20insignia.PNG         \n",
      "1                                        logo                                     Hiroshima%20carp%20insignia.png         \n",
      "1                                        logo                                     Houston%20Astros%20cap%20logo.svg       \n",
      "1                                        image                                    Kobo%20Park%20Miyagi%282017%29.jpg      \n",
      "1                                        image                                    Kyocera%20Dome%20Osaka%20%2815984073809%\n",
      "Question: 10\n"
     ]
    },
    {
     "name": "stdin",
     "output_type": "stream",
     "text": [
      "Does the thing you are looking for have the attribute: foundingDate 1894? y\n"
     ]
    },
    {
     "ename": "QueryBadFormed",
     "evalue": "QueryBadFormed: A bad request has been sent to the endpoint: probably the SPARQL query is badly formed. \n\nResponse:\nb'MALFORMED QUERY: Not a valid (absolute) IRI: 1894'",
     "output_type": "error",
     "traceback": [
      "\u001b[1;31m---------------------------------------------------------------------------\u001b[0m",
      "\u001b[1;31mHTTPError\u001b[0m                                 Traceback (most recent call last)",
      "File \u001b[1;32mE:\\Conda\\lib\\site-packages\\SPARQLWrapper\\Wrapper.py:926\u001b[0m, in \u001b[0;36mSPARQLWrapper._query\u001b[1;34m(self)\u001b[0m\n\u001b[0;32m    925\u001b[0m \u001b[38;5;28;01melse\u001b[39;00m:\n\u001b[1;32m--> 926\u001b[0m     response \u001b[38;5;241m=\u001b[39m \u001b[43murlopener\u001b[49m\u001b[43m(\u001b[49m\u001b[43mrequest\u001b[49m\u001b[43m)\u001b[49m\n\u001b[0;32m    927\u001b[0m \u001b[38;5;28;01mreturn\u001b[39;00m response, \u001b[38;5;28mself\u001b[39m\u001b[38;5;241m.\u001b[39mreturnFormat\n",
      "File \u001b[1;32mE:\\Conda\\lib\\urllib\\request.py:214\u001b[0m, in \u001b[0;36murlopen\u001b[1;34m(url, data, timeout, cafile, capath, cadefault, context)\u001b[0m\n\u001b[0;32m    213\u001b[0m     opener \u001b[38;5;241m=\u001b[39m _opener\n\u001b[1;32m--> 214\u001b[0m \u001b[38;5;28;01mreturn\u001b[39;00m \u001b[43mopener\u001b[49m\u001b[38;5;241;43m.\u001b[39;49m\u001b[43mopen\u001b[49m\u001b[43m(\u001b[49m\u001b[43murl\u001b[49m\u001b[43m,\u001b[49m\u001b[43m \u001b[49m\u001b[43mdata\u001b[49m\u001b[43m,\u001b[49m\u001b[43m \u001b[49m\u001b[43mtimeout\u001b[49m\u001b[43m)\u001b[49m\n",
      "File \u001b[1;32mE:\\Conda\\lib\\urllib\\request.py:523\u001b[0m, in \u001b[0;36mOpenerDirector.open\u001b[1;34m(self, fullurl, data, timeout)\u001b[0m\n\u001b[0;32m    522\u001b[0m     meth \u001b[38;5;241m=\u001b[39m \u001b[38;5;28mgetattr\u001b[39m(processor, meth_name)\n\u001b[1;32m--> 523\u001b[0m     response \u001b[38;5;241m=\u001b[39m \u001b[43mmeth\u001b[49m\u001b[43m(\u001b[49m\u001b[43mreq\u001b[49m\u001b[43m,\u001b[49m\u001b[43m \u001b[49m\u001b[43mresponse\u001b[49m\u001b[43m)\u001b[49m\n\u001b[0;32m    525\u001b[0m \u001b[38;5;28;01mreturn\u001b[39;00m response\n",
      "File \u001b[1;32mE:\\Conda\\lib\\urllib\\request.py:632\u001b[0m, in \u001b[0;36mHTTPErrorProcessor.http_response\u001b[1;34m(self, request, response)\u001b[0m\n\u001b[0;32m    631\u001b[0m \u001b[38;5;28;01mif\u001b[39;00m \u001b[38;5;129;01mnot\u001b[39;00m (\u001b[38;5;241m200\u001b[39m \u001b[38;5;241m<\u001b[39m\u001b[38;5;241m=\u001b[39m code \u001b[38;5;241m<\u001b[39m \u001b[38;5;241m300\u001b[39m):\n\u001b[1;32m--> 632\u001b[0m     response \u001b[38;5;241m=\u001b[39m \u001b[38;5;28;43mself\u001b[39;49m\u001b[38;5;241;43m.\u001b[39;49m\u001b[43mparent\u001b[49m\u001b[38;5;241;43m.\u001b[39;49m\u001b[43merror\u001b[49m\u001b[43m(\u001b[49m\n\u001b[0;32m    633\u001b[0m \u001b[43m        \u001b[49m\u001b[38;5;124;43m'\u001b[39;49m\u001b[38;5;124;43mhttp\u001b[39;49m\u001b[38;5;124;43m'\u001b[39;49m\u001b[43m,\u001b[49m\u001b[43m \u001b[49m\u001b[43mrequest\u001b[49m\u001b[43m,\u001b[49m\u001b[43m \u001b[49m\u001b[43mresponse\u001b[49m\u001b[43m,\u001b[49m\u001b[43m \u001b[49m\u001b[43mcode\u001b[49m\u001b[43m,\u001b[49m\u001b[43m \u001b[49m\u001b[43mmsg\u001b[49m\u001b[43m,\u001b[49m\u001b[43m \u001b[49m\u001b[43mhdrs\u001b[49m\u001b[43m)\u001b[49m\n\u001b[0;32m    635\u001b[0m \u001b[38;5;28;01mreturn\u001b[39;00m response\n",
      "File \u001b[1;32mE:\\Conda\\lib\\urllib\\request.py:561\u001b[0m, in \u001b[0;36mOpenerDirector.error\u001b[1;34m(self, proto, *args)\u001b[0m\n\u001b[0;32m    560\u001b[0m args \u001b[38;5;241m=\u001b[39m (\u001b[38;5;28mdict\u001b[39m, \u001b[38;5;124m'\u001b[39m\u001b[38;5;124mdefault\u001b[39m\u001b[38;5;124m'\u001b[39m, \u001b[38;5;124m'\u001b[39m\u001b[38;5;124mhttp_error_default\u001b[39m\u001b[38;5;124m'\u001b[39m) \u001b[38;5;241m+\u001b[39m orig_args\n\u001b[1;32m--> 561\u001b[0m \u001b[38;5;28;01mreturn\u001b[39;00m \u001b[38;5;28;43mself\u001b[39;49m\u001b[38;5;241;43m.\u001b[39;49m\u001b[43m_call_chain\u001b[49m\u001b[43m(\u001b[49m\u001b[38;5;241;43m*\u001b[39;49m\u001b[43margs\u001b[49m\u001b[43m)\u001b[49m\n",
      "File \u001b[1;32mE:\\Conda\\lib\\urllib\\request.py:494\u001b[0m, in \u001b[0;36mOpenerDirector._call_chain\u001b[1;34m(self, chain, kind, meth_name, *args)\u001b[0m\n\u001b[0;32m    493\u001b[0m func \u001b[38;5;241m=\u001b[39m \u001b[38;5;28mgetattr\u001b[39m(handler, meth_name)\n\u001b[1;32m--> 494\u001b[0m result \u001b[38;5;241m=\u001b[39m \u001b[43mfunc\u001b[49m\u001b[43m(\u001b[49m\u001b[38;5;241;43m*\u001b[39;49m\u001b[43margs\u001b[49m\u001b[43m)\u001b[49m\n\u001b[0;32m    495\u001b[0m \u001b[38;5;28;01mif\u001b[39;00m result \u001b[38;5;129;01mis\u001b[39;00m \u001b[38;5;129;01mnot\u001b[39;00m \u001b[38;5;28;01mNone\u001b[39;00m:\n",
      "File \u001b[1;32mE:\\Conda\\lib\\urllib\\request.py:641\u001b[0m, in \u001b[0;36mHTTPDefaultErrorHandler.http_error_default\u001b[1;34m(self, req, fp, code, msg, hdrs)\u001b[0m\n\u001b[0;32m    640\u001b[0m \u001b[38;5;28;01mdef\u001b[39;00m \u001b[38;5;21mhttp_error_default\u001b[39m(\u001b[38;5;28mself\u001b[39m, req, fp, code, msg, hdrs):\n\u001b[1;32m--> 641\u001b[0m     \u001b[38;5;28;01mraise\u001b[39;00m HTTPError(req\u001b[38;5;241m.\u001b[39mfull_url, code, msg, hdrs, fp)\n",
      "\u001b[1;31mHTTPError\u001b[0m: HTTP Error 400: ",
      "\nDuring handling of the above exception, another exception occurred:\n",
      "\u001b[1;31mQueryBadFormed\u001b[0m                            Traceback (most recent call last)",
      "Input \u001b[1;32mIn [9]\u001b[0m, in \u001b[0;36m<cell line: 9>\u001b[1;34m()\u001b[0m\n\u001b[0;32m     20\u001b[0m PosFilters, NegFilters \u001b[38;5;241m=\u001b[39m generateQuestion(listOfPred, listOfObj, \u001b[38;5;241m0\u001b[39m)\n\u001b[0;32m     22\u001b[0m \u001b[38;5;66;03m# number of popular entities left\u001b[39;00m\n\u001b[1;32m---> 23\u001b[0m left \u001b[38;5;241m=\u001b[39m \u001b[43mnumberleft\u001b[49m\u001b[43m(\u001b[49m\u001b[43mPosFilters\u001b[49m\u001b[43m,\u001b[49m\u001b[43m \u001b[49m\u001b[43mNegFilters\u001b[49m\u001b[43m)\u001b[49m\n\u001b[0;32m     25\u001b[0m \u001b[38;5;66;03m# run query\u001b[39;00m\n\u001b[0;32m     26\u001b[0m query \u001b[38;5;241m=\u001b[39m updateQuery(left\u001b[38;5;241m/\u001b[39m\u001b[38;5;241m2\u001b[39m,PosFilters, NegFilters)\n",
      "Input \u001b[1;32mIn [5]\u001b[0m, in \u001b[0;36mnumberleft\u001b[1;34m(PosFilters, NegFilters)\u001b[0m\n\u001b[0;32m     13\u001b[0m sparql\u001b[38;5;241m.\u001b[39msetQuery(query)\n\u001b[0;32m     14\u001b[0m sparql\u001b[38;5;241m.\u001b[39msetReturnFormat(JSON)\n\u001b[1;32m---> 15\u001b[0m qres \u001b[38;5;241m=\u001b[39m \u001b[43msparql\u001b[49m\u001b[38;5;241;43m.\u001b[39;49m\u001b[43mquery\u001b[49m\u001b[43m(\u001b[49m\u001b[43m)\u001b[49m\u001b[38;5;241m.\u001b[39mconvert() \n\u001b[0;32m     16\u001b[0m \u001b[38;5;28;01mreturn\u001b[39;00m \u001b[38;5;28mlen\u001b[39m(qres[\u001b[38;5;124m\"\u001b[39m\u001b[38;5;124mresults\u001b[39m\u001b[38;5;124m\"\u001b[39m][\u001b[38;5;124m\"\u001b[39m\u001b[38;5;124mbindings\u001b[39m\u001b[38;5;124m\"\u001b[39m])\n",
      "File \u001b[1;32mE:\\Conda\\lib\\site-packages\\SPARQLWrapper\\Wrapper.py:960\u001b[0m, in \u001b[0;36mSPARQLWrapper.query\u001b[1;34m(self)\u001b[0m\n\u001b[0;32m    942\u001b[0m \u001b[38;5;28;01mdef\u001b[39;00m \u001b[38;5;21mquery\u001b[39m(\u001b[38;5;28mself\u001b[39m) \u001b[38;5;241m-\u001b[39m\u001b[38;5;241m>\u001b[39m \u001b[38;5;124m\"\u001b[39m\u001b[38;5;124mQueryResult\u001b[39m\u001b[38;5;124m\"\u001b[39m:\n\u001b[0;32m    943\u001b[0m \u001b[38;5;250m    \u001b[39m\u001b[38;5;124;03m\"\"\"\u001b[39;00m\n\u001b[0;32m    944\u001b[0m \u001b[38;5;124;03m    Execute the query.\u001b[39;00m\n\u001b[0;32m    945\u001b[0m \u001b[38;5;124;03m    Exceptions can be raised if either the URI is wrong or the HTTP sends back an error (this is also the\u001b[39;00m\n\u001b[1;32m   (...)\u001b[0m\n\u001b[0;32m    958\u001b[0m \u001b[38;5;124;03m    :rtype: :class:`QueryResult` instance\u001b[39;00m\n\u001b[0;32m    959\u001b[0m \u001b[38;5;124;03m    \"\"\"\u001b[39;00m\n\u001b[1;32m--> 960\u001b[0m     \u001b[38;5;28;01mreturn\u001b[39;00m QueryResult(\u001b[38;5;28;43mself\u001b[39;49m\u001b[38;5;241;43m.\u001b[39;49m\u001b[43m_query\u001b[49m\u001b[43m(\u001b[49m\u001b[43m)\u001b[49m)\n",
      "File \u001b[1;32mE:\\Conda\\lib\\site-packages\\SPARQLWrapper\\Wrapper.py:930\u001b[0m, in \u001b[0;36mSPARQLWrapper._query\u001b[1;34m(self)\u001b[0m\n\u001b[0;32m    928\u001b[0m \u001b[38;5;28;01mexcept\u001b[39;00m urllib\u001b[38;5;241m.\u001b[39merror\u001b[38;5;241m.\u001b[39mHTTPError \u001b[38;5;28;01mas\u001b[39;00m e:\n\u001b[0;32m    929\u001b[0m     \u001b[38;5;28;01mif\u001b[39;00m e\u001b[38;5;241m.\u001b[39mcode \u001b[38;5;241m==\u001b[39m \u001b[38;5;241m400\u001b[39m:\n\u001b[1;32m--> 930\u001b[0m         \u001b[38;5;28;01mraise\u001b[39;00m QueryBadFormed(e\u001b[38;5;241m.\u001b[39mread())\n\u001b[0;32m    931\u001b[0m     \u001b[38;5;28;01melif\u001b[39;00m e\u001b[38;5;241m.\u001b[39mcode \u001b[38;5;241m==\u001b[39m \u001b[38;5;241m404\u001b[39m:\n\u001b[0;32m    932\u001b[0m         \u001b[38;5;28;01mraise\u001b[39;00m EndPointNotFound(e\u001b[38;5;241m.\u001b[39mread())\n",
      "\u001b[1;31mQueryBadFormed\u001b[0m: QueryBadFormed: A bad request has been sent to the endpoint: probably the SPARQL query is badly formed. \n\nResponse:\nb'MALFORMED QUERY: Not a valid (absolute) IRI: 1894'"
     ]
    }
   ],
   "source": [
    "# with count print\n",
    "import random\n",
    "\n",
    "# Resets all variables\n",
    "left,qres,PosAttr,NegAttr,AttrHistory = game_reset()\n",
    "i=0\n",
    "outofguess = []\n",
    "\n",
    "while i < 20:\n",
    "    \n",
    "    # list of Pred and Obj for questions\n",
    "    listOfObj ,listOfPred = extractCountAndAttr(qres)\n",
    "    \n",
    "    # if only 1 popular entity is left break\n",
    "    if left<=1:\n",
    "        break\n",
    "     \n",
    "    # ask question and add filters to query\n",
    "    print('Question: %s' %(i+1))\n",
    "    PosFilters, NegFilters = generateQuestion(listOfPred, listOfObj, 0)\n",
    "    \n",
    "    # number of popular entities left\n",
    "    left = numberleft(PosFilters, NegFilters)\n",
    "    \n",
    "    # run query\n",
    "    query = updateQuery(left/2,PosFilters, NegFilters)\n",
    "    sparql.setQuery(query)\n",
    "    qres = sparql.queryAndConvert()\n",
    "    \n",
    "    # prints splits for top Pred and Objs \n",
    "    print('remaining entities:', left)\n",
    "    for r in qres[\"results\"][\"bindings\"]:\n",
    "        print(*[f'{x.split(\"/\")[-1][:40]:40s}' for x in [r['count'][\"value\"],r['p'][\"value\"],r['o'][\"value\"]]])\n",
    "        \n",
    "    i+=1\n",
    "\n",
    "# Prints answer\n",
    "if i != 20:\n",
    "    for attr in popentities(PosFilters, NegFilters):\n",
    "        print(*[f'Your Answer is: {x.split(\"/\")[-1]}' for x in [attr['s']['value']]][0:10])\n",
    "        \n",
    "# ran out of questions\n",
    "else:\n",
    "    print('Final Question:')\n",
    "    for j in popentities(PosFilters, NegFilters):\n",
    "            outofguess.append(f'{j[0].split(\"/\")[-1][:40]:40s}')\n",
    "    guess = random.choice(outofguess)\n",
    "    print(guess)\n",
    "    answer = (input('Is this correct?').startswith('y'))\n",
    "    if answer is True:\n",
    "        print('Win')\n",
    "    else:\n",
    "        print('game over')"
   ]
  },
  {
   "cell_type": "code",
   "execution_count": null,
   "metadata": {},
   "outputs": [],
   "source": [
    "# with guess print\n",
    "import random\n",
    "\n",
    "# Resets all variables\n",
    "left, qres, PosAttr, NegAttr, AttrHistory = game_reset()\n",
    "i=0\n",
    "outofguess = []\n",
    "\n",
    "while i < 20:\n",
    "   \n",
    "    # list of Pred and Obj for questions\n",
    "    listOfObj ,listOfPred = extractCountAndAttr(qres)\n",
    "    \n",
    "    # if only 1 popular entity is left break\n",
    "    if left<=1:\n",
    "        break\n",
    "        \n",
    "    # ask question and add filters to query\n",
    "    print('Question: %s' %(i+1))\n",
    "    PosFilters, NegFilters = generateQuestion(listOfPred, listOfObj, 0)\n",
    "    \n",
    "    # number of popular entities left\n",
    "    left = numberleft(PosFilters, NegFilters)\n",
    "    \n",
    "    # run query\n",
    "    query = updateQuery(left/2, PosFilters, NegFilters)\n",
    "    sparql.setQuery(query)\n",
    "    qres = sparql.queryAndConvert()\n",
    "    \n",
    "    # prints possible entities left\n",
    "    print('Possible Guesses:')\n",
    "    for subject in popentities(PosFilters, NegFilters):\n",
    "        print(*[f'{x.split(\"/\")[-1]}' for x in [subject['s']['value']]][0:10]) \n",
    "        \n",
    "    print()\n",
    "    i+=1\n",
    "\n",
    "# Prints answer\n",
    "if i != 20:\n",
    "    for attr in popentities(PosFilters, NegFilters):\n",
    "        print(*[f'Your Answer is: {x.split(\"/\")[-1]}' for x in [attr['s']['value']]][0:10])\n",
    "        \n",
    "# ran out of questions\n",
    "else:\n",
    "    print('Final Question:')\n",
    "    for j in popentities(PosFilters, NegFilters):\n",
    "            outofguess.append(f'{j[0].split(\"/\")[-1][:40]:40s}')\n",
    "    guess = random.choice(outofguess)\n",
    "    print(guess)\n",
    "    answer = (input('Is this correct?').startswith('y'))\n",
    "    if answer is True:\n",
    "        print('Win')\n",
    "    else:\n",
    "        print('game over')"
   ]
  },
  {
   "cell_type": "markdown",
   "metadata": {},
   "source": [
    "### Notes\n",
    "- football teams \n",
    "    - some football teams do not have the type football team"
   ]
  }
 ],
 "metadata": {
  "kernelspec": {
   "display_name": "Python 3 (ipykernel)",
   "language": "python",
   "name": "python3"
  },
  "language_info": {
   "codemirror_mode": {
    "name": "ipython",
    "version": 3
   },
   "file_extension": ".py",
   "mimetype": "text/x-python",
   "name": "python",
   "nbconvert_exporter": "python",
   "pygments_lexer": "ipython3",
   "version": "3.9.7"
  }
 },
 "nbformat": 4,
 "nbformat_minor": 4
}
