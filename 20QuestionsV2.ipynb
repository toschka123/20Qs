{
 "cells": [
  {
   "cell_type": "code",
   "execution_count": null,
   "metadata": {},
   "outputs": [],
   "source": [
    "import rdflib\n",
    "import html\n",
    "g = rdflib.Graph().parse('./fb15k-wikitop2021-yago-facts.nt', format='ntriples')\n",
    "g += rdflib.Graph().parse('./fb15k-wikitop2021-yago-full-types.nt', format='ntriples')\n",
    "\n",
    "from rdflib.namespace import RDF\n",
    "for line in open('fb15k-wikitop2021.tsv').readlines()[1:]:\n",
    "    subject = rdflib.URIRef( line.split('\\t')[6][1:-1] ) # take the URI in column 6\n",
    "    g.add( (subject, RDF.type, rdflib.URIRef('http://example.com/popularEntity')) )\n",
    "    \n",
    "g.remove((None, rdflib.URIRef('http://schema.org/image') , None))\n",
    "g.remove((None, rdflib.URIRef('http://schema.org/url') , None))\n",
    "g.serialize(destination='20q-updated.ttl', format='turtle')"
   ]
  },
  {
   "cell_type": "code",
   "execution_count": null,
   "metadata": {},
   "outputs": [],
   "source": [
    "r = g.query(\"\"\"\n",
    "select *  where \n",
    "{\n",
    "    ?s <http://www.w3.org/1999/02/22-rdf-syntax-ns#type> <http://example.com/popularEntity> .\n",
    "    ?s <http://schema.org/url> ?o .\n",
    "} \n",
    "\"\"\")\n",
    "for b in r.bindings:\n",
    "    print(*[f'{x}' for x in b.values()])"
   ]
  },
  {
   "cell_type": "markdown",
   "metadata": {},
   "source": [
    "## Code"
   ]
  },
  {
   "cell_type": "code",
   "execution_count": 1,
   "metadata": {},
   "outputs": [],
   "source": [
    "%load_ext ipython_sparql_pandas"
   ]
  },
  {
   "cell_type": "code",
   "execution_count": 2,
   "metadata": {},
   "outputs": [],
   "source": [
    "from SPARQLWrapper import SPARQLWrapper, JSON\n",
    "sparql = SPARQLWrapper('http://DESKTOP-CELL0BF:7200/repositories/20qbig')\n",
    "sparql.setReturnFormat(JSON)"
   ]
  },
  {
   "cell_type": "code",
   "execution_count": 3,
   "metadata": {},
   "outputs": [],
   "source": [
    "#from the query results extract a list that contains the counts after splitting on certain attributes\n",
    "PosAttr=['?s <http://www.w3.org/1999/02/22-rdf-syntax-ns#type> <http://example.com/popularEntity> .']\n",
    "NegAttr=[]\n",
    "AttrHistory = ['<http://www.w3.org/1999/02/22-rdf-syntax-ns#type> <http://example.com/popularEntity>']\n",
    "def extractCountAndAttr(result):\n",
    "    number = []\n",
    "    listOfObj = []\n",
    "    listOfPred= []\n",
    "    #ret = result.queryAndConvert()\n",
    "    for attr in result[\"results\"][\"bindings\"]:\n",
    "        listOfObj.append(attr['o'][\"value\"])\n",
    "        listOfPred.append(attr['p'][\"value\"])\n",
    "    return(listOfObj,listOfPred)\n",
    "\n",
    "def generateQuestion(listOfPred, listOfObj, index):\n",
    "    if ('<' + str(listOfPred[index]) +'> <'+str(listOfObj[index])+ '>') in AttrHistory:\n",
    "        return generateQuestion(listOfPred, listOfObj, index+1)\n",
    "        \n",
    "    else:\n",
    "        AttrHistory.append('<' + str(listOfPred[index]) +'> <'+str(listOfObj[index])+ '>')\n",
    "    userAnswer = input(f'Does the thing you are looking for have the attribute: {listOfPred[index].split(\"/\")[-1]} {listOfObj[index].split(\"/\")[-1]}?' )\n",
    "    \n",
    "    if userAnswer.startswith('y'):\n",
    "        PosAttr.append('?s <' + str(listOfPred[index]) +'> <'+str(listOfObj[index])+ '>.')    \n",
    "        \n",
    "    elif userAnswer.startswith('n'):\n",
    "        NegAttr.append('FILTER NOT EXISTS {{ \\n ?s <' + str(listOfPred[index]) +'> <'+str(listOfObj[index])+ '>. }}')   \n",
    "        \n",
    "    else:\n",
    "        return generateQuestion(listOfPred, listOfObj, index+1)\n",
    "    NegFilters = \"\\n\".join(NegAttr)\n",
    "    PosFilters = \"\\n\".join(PosAttr)\n",
    "    return (PosFilters, NegFilters)\n",
    "\n",
    "\n",
    "  \n",
    "def updateQuery(left, PosFilters, NegFilters):\n",
    "    FilterQuestion =  (f\"\"\"\n",
    "            select (count(*) as ?count) ?p ?o  where \n",
    "            {{\n",
    "            \n",
    "            {PosFilters}\n",
    "             ?s ?p ?o .\n",
    "            {NegFilters}\n",
    "            FILTER (!isBlank(?o)) \n",
    "            }} \n",
    "            \n",
    "            group by ?p ?o \n",
    "            ORDER BY ABS( {left} - ?count )\n",
    "            Limit 25\n",
    "            \n",
    "            \"\"\") \n",
    "        \n",
    "    return FilterQuestion"
   ]
  },
  {
   "cell_type": "code",
   "execution_count": 4,
   "metadata": {},
   "outputs": [],
   "source": [
    "def numberleft(PosFilters,NegFilters):\n",
    "    query =  f\"\"\"\n",
    "            select ?s where \n",
    "            {{\n",
    "            \n",
    "            {PosFilters}\n",
    "            ?s <http://www.w3.org/1999/02/22-rdf-syntax-ns#type> <http://example.com/popularEntity> .\n",
    "            {NegFilters} \n",
    "            \n",
    "            }}\n",
    "            \n",
    "            \"\"\" \n",
    "    sparql.setQuery(query)\n",
    "    sparql.setReturnFormat(JSON)\n",
    "    qres = sparql.query().convert() \n",
    "    return len(qres[\"results\"][\"bindings\"])"
   ]
  },
  {
   "cell_type": "code",
   "execution_count": 5,
   "metadata": {},
   "outputs": [],
   "source": [
    "def popentities(PosFilters,NegFilters):\n",
    "    query =  f\"\"\"\n",
    "            select ?s where \n",
    "            {{\n",
    "            \n",
    "            {PosFilters}\n",
    "            ?s <http://www.w3.org/1999/02/22-rdf-syntax-ns#type> <http://example.com/popularEntity> .\n",
    "            {NegFilters} \n",
    "            \n",
    "            }}\n",
    "            \n",
    "            \"\"\" \n",
    "    sparql.setQuery(query)\n",
    "    sparql.setReturnFormat(JSON)\n",
    "    qres = sparql.query().convert() \n",
    "    return qres[\"results\"][\"bindings\"]"
   ]
  },
  {
   "cell_type": "code",
   "execution_count": 6,
   "metadata": {},
   "outputs": [],
   "source": [
    "# resets are variables\n",
    "def game_reset():\n",
    "    PosAttr= ['?s <http://www.w3.org/1999/02/22-rdf-syntax-ns#type> <http://example.com/popularEntity> .']\n",
    "    NegAttr= ['']\n",
    "    AttrHistory = ['<http://www.w3.org/1999/02/22-rdf-syntax-ns#type> <http://example.com/popularEntity>']\n",
    "    left = numberleft(\"\".join(PosAttr), \"\".join(NegAttr))\n",
    "    FilterQuestion =  f\"\"\"\n",
    "        select (count(*) as ?count) ?p ?o  where \n",
    "        {{\n",
    "\n",
    "        ?s <http://www.w3.org/1999/02/22-rdf-syntax-ns#type> <http://example.com/popularEntity> .\n",
    "        ?s ?p ?o .\n",
    "        FILTER (!isBlank(?o)) \n",
    "        }} \n",
    "        group by ?p ?o \n",
    "        ORDER BY ABS( %s - ?count )\n",
    "        limit 10\n",
    "        \"\"\" %((left/2))\n",
    "    sparql.setQuery(FilterQuestion)\n",
    "    sparql.setReturnFormat(JSON)\n",
    "    qres = sparql.query().convert()\n",
    "    listOfObj ,listOfPred = extractCountAndAttr(qres)\n",
    "    return (left, qres, PosAttr, NegAttr, AttrHistory)"
   ]
  },
  {
   "cell_type": "code",
   "execution_count": 7,
   "metadata": {},
   "outputs": [
    {
     "name": "stdout",
     "output_type": "stream",
     "text": [
      "Question: 1\n"
     ]
    },
    {
     "name": "stdin",
     "output_type": "stream",
     "text": [
      "Does the thing you are looking for have the attribute: 22-rdf-syntax-ns#type Person? n\n"
     ]
    },
    {
     "name": "stdout",
     "output_type": "stream",
     "text": [
      "Question: 2\n"
     ]
    },
    {
     "name": "stdin",
     "output_type": "stream",
     "text": [
      "Does the thing you are looking for have the attribute: 22-rdf-syntax-ns#type Organization? y\n"
     ]
    },
    {
     "name": "stdout",
     "output_type": "stream",
     "text": [
      "Question: 3\n"
     ]
    },
    {
     "name": "stdin",
     "output_type": "stream",
     "text": [
      "Does the thing you are looking for have the attribute: 22-rdf-syntax-ns#type Place? n\n"
     ]
    },
    {
     "name": "stdout",
     "output_type": "stream",
     "text": [
      "Question: 4\n"
     ]
    },
    {
     "name": "stdin",
     "output_type": "stream",
     "text": [
      "Does the thing you are looking for have the attribute: 22-rdf-syntax-ns#type NGO? n\n"
     ]
    },
    {
     "name": "stdout",
     "output_type": "stream",
     "text": [
      "Question: 5\n"
     ]
    },
    {
     "name": "stdin",
     "output_type": "stream",
     "text": [
      "Does the thing you are looking for have the attribute: 22-rdf-syntax-ns#type MusicGroup? y\n"
     ]
    },
    {
     "name": "stdout",
     "output_type": "stream",
     "text": [
      "Question: 6\n"
     ]
    },
    {
     "name": "stdin",
     "output_type": "stream",
     "text": [
      "Does the thing you are looking for have the attribute: genre Alternative_rock? y\n"
     ]
    },
    {
     "name": "stdout",
     "output_type": "stream",
     "text": [
      "Question: 7\n"
     ]
    },
    {
     "name": "stdin",
     "output_type": "stream",
     "text": [
      "Does the thing you are looking for have the attribute: genre Rock_music? n\n"
     ]
    },
    {
     "name": "stdout",
     "output_type": "stream",
     "text": [
      "Question: 8\n"
     ]
    },
    {
     "name": "stdin",
     "output_type": "stream",
     "text": [
      "Does the thing you are looking for have the attribute: genre Alternative_metal? y\n"
     ]
    },
    {
     "name": "stdout",
     "output_type": "stream",
     "text": [
      "Question: 9\n"
     ]
    },
    {
     "name": "stdin",
     "output_type": "stream",
     "text": [
      "Does the thing you are looking for have the attribute: genre Hard_rock? y\n"
     ]
    },
    {
     "name": "stdout",
     "output_type": "stream",
     "text": [
      "Question: 10\n"
     ]
    },
    {
     "name": "stdin",
     "output_type": "stream",
     "text": [
      "Does the thing you are looking for have the attribute: award Canada's_Walk_of_Fame? n\n"
     ]
    },
    {
     "name": "stdout",
     "output_type": "stream",
     "text": [
      "Question: 11\n"
     ]
    },
    {
     "name": "stdin",
     "output_type": "stream",
     "text": [
      "Does the thing you are looking for have the attribute: image Skillet%20acoutic.jpg? n\n"
     ]
    },
    {
     "name": "stdout",
     "output_type": "stream",
     "text": [
      "Your Answer is: Soundgarden\n"
     ]
    }
   ],
   "source": [
    "#without printing results\n",
    "import random\n",
    "\n",
    "# Resets all variables\n",
    "left,qres,PosAttr,NegAttr,AttrHistory = game_reset()\n",
    "i=0\n",
    "outofguess = []\n",
    "\n",
    "while i < 20:\n",
    "   \n",
    "    # list of Pred and Obj for questions\n",
    "    listOfObj ,listOfPred = extractCountAndAttr(qres)\n",
    "    \n",
    "    # if only 1 popular entity is left break\n",
    "    if left<=1:\n",
    "        break\n",
    "    \n",
    "    # ask question and add filters to query\n",
    "    print('Question: %s' %(i+1))\n",
    "    PosFilters, NegFilters = generateQuestion(listOfPred, listOfObj, 0)\n",
    "    \n",
    "    # number of popular entities left\n",
    "    left = numberleft(PosFilters, NegFilters)\n",
    "    \n",
    "    # run query\n",
    "    query = updateQuery(left/2,PosFilters, NegFilters)\n",
    "    sparql.setQuery(query)\n",
    "    qres = sparql.queryAndConvert()\n",
    "    \n",
    "    i+=1\n",
    "\n",
    "# Prints answer\n",
    "if i != 20:\n",
    "    for attr in popentities(PosFilters, NegFilters):\n",
    "        print(*[f'Your Answer is: {x.split(\"/\")[-1]}' for x in [attr['s']['value']]][0:10]) \n",
    "\n",
    "# ran out of questions\n",
    "else:\n",
    "    print('Final Question:')\n",
    "    for j in popentities(PosFilters, NegFilters):\n",
    "            outofguess.append(f'{j[0].split(\"/\")[-1][:40]:40s}')\n",
    "    guess = random.choice(outofguess)\n",
    "    print(guess)\n",
    "    answer = (input('Is this correct?').startswith('y'))\n",
    "    if answer is True:\n",
    "        print('Win')\n",
    "    else:\n",
    "        print('game over')"
   ]
  },
  {
   "cell_type": "code",
   "execution_count": 11,
   "metadata": {},
   "outputs": [
    {
     "name": "stdout",
     "output_type": "stream",
     "text": [
      "Question: 1\n"
     ]
    },
    {
     "name": "stdin",
     "output_type": "stream",
     "text": [
      "Does the thing you are looking for have the attribute: 22-rdf-syntax-ns#type Person? n\n"
     ]
    },
    {
     "name": "stdout",
     "output_type": "stream",
     "text": [
      "remaining entities: 8409\n",
      "3490                                     22-rdf-syntax-ns#type                    Organization                            \n",
      "2955                                     22-rdf-syntax-ns#type                    Place                                   \n",
      "2489                                     22-rdf-syntax-ns#type                    CreativeWork                            \n",
      "2119                                     22-rdf-syntax-ns#type                    AdministrativeArea                      \n",
      "1854                                     22-rdf-syntax-ns#type                    Movie                                   \n",
      "1789                                     countryOfOrigin                          United_States                           \n",
      "1040                                     22-rdf-syntax-ns#type                    City                                    \n",
      "929                                      22-rdf-syntax-ns#type                    SportsOrganization                      \n",
      "899                                      22-rdf-syntax-ns#type                    NGO                                     \n",
      "816                                      22-rdf-syntax-ns#type                    Corporation                             \n",
      "Question: 2\n"
     ]
    },
    {
     "name": "stdin",
     "output_type": "stream",
     "text": [
      "Does the thing you are looking for have the attribute: 22-rdf-syntax-ns#type Organization? n\n"
     ]
    },
    {
     "name": "stdout",
     "output_type": "stream",
     "text": [
      "remaining entities: 4919\n",
      "2489                                     22-rdf-syntax-ns#type                    CreativeWork                            \n",
      "1854                                     22-rdf-syntax-ns#type                    Movie                                   \n",
      "1789                                     countryOfOrigin                          United_States                           \n",
      "1112                                     22-rdf-syntax-ns#type                    Place                                   \n",
      "978                                      22-rdf-syntax-ns#type                    AdministrativeArea                      \n",
      "447                                      genre                                    Action_film                             \n",
      "424                                      countryOfOrigin                          United_Kingdom                          \n",
      "313                                      contentLocation                          New_York_City                           \n",
      "299                                      22-rdf-syntax-ns#type                    Music_genre                             \n",
      "285                                      22-rdf-syntax-ns#type                    CreativeWorkSeries                      \n",
      "Question: 3\n"
     ]
    },
    {
     "name": "stdin",
     "output_type": "stream",
     "text": [
      "Does the thing you are looking for have the attribute: 22-rdf-syntax-ns#type CreativeWork? n\n"
     ]
    },
    {
     "name": "stdout",
     "output_type": "stream",
     "text": [
      "remaining entities: 2430\n",
      "1112                                     22-rdf-syntax-ns#type                    Place                                   \n",
      "978                                      22-rdf-syntax-ns#type                    AdministrativeArea                      \n",
      "273                                      22-rdf-syntax-ns#type                    City                                    \n",
      "189                                      22-rdf-syntax-ns#type                    Event                                   \n",
      "170                                      22-rdf-syntax-ns#type                    Occupation                              \n",
      "91                                       22-rdf-syntax-ns#type                    Profession                              \n",
      "85                                       22-rdf-syntax-ns#type                    Capital_city                            \n",
      "84                                       22-rdf-syntax-ns#type                    MedicalEntity                           \n",
      "80                                       22-rdf-syntax-ns#type                    State                                   \n",
      "79                                       22-rdf-syntax-ns#type                    MedicalCondition                        \n",
      "Question: 4\n"
     ]
    },
    {
     "name": "stdin",
     "output_type": "stream",
     "text": [
      "Does the thing you are looking for have the attribute: 22-rdf-syntax-ns#type Place? n\n"
     ]
    },
    {
     "name": "stdout",
     "output_type": "stream",
     "text": [
      "remaining entities: 1318\n",
      "189                                      22-rdf-syntax-ns#type                    Event                                   \n",
      "170                                      22-rdf-syntax-ns#type                    Occupation                              \n",
      "91                                       22-rdf-syntax-ns#type                    Profession                              \n",
      "84                                       22-rdf-syntax-ns#type                    MedicalEntity                           \n",
      "79                                       22-rdf-syntax-ns#type                    MedicalCondition                        \n",
      "62                                       22-rdf-syntax-ns#type                    Product                                 \n",
      "62                                       22-rdf-syntax-ns#type                    Award                                   \n",
      "58                                       22-rdf-syntax-ns#type                    Language                                \n",
      "58                                       22-rdf-syntax-ns#type                    Ethnic_group                            \n",
      "55                                       22-rdf-syntax-ns#type                    Modern_language                         \n",
      "Question: 5\n"
     ]
    },
    {
     "name": "stdin",
     "output_type": "stream",
     "text": [
      "Does the thing you are looking for have the attribute: 22-rdf-syntax-ns#type Event? n\n"
     ]
    },
    {
     "name": "stdout",
     "output_type": "stream",
     "text": [
      "remaining entities: 1129\n",
      "170                                      22-rdf-syntax-ns#type                    Occupation                              \n",
      "91                                       22-rdf-syntax-ns#type                    Profession                              \n",
      "84                                       22-rdf-syntax-ns#type                    MedicalEntity                           \n",
      "79                                       22-rdf-syntax-ns#type                    MedicalCondition                        \n",
      "62                                       22-rdf-syntax-ns#type                    Product                                 \n",
      "61                                       22-rdf-syntax-ns#type                    Award                                   \n",
      "58                                       22-rdf-syntax-ns#type                    Language                                \n",
      "58                                       22-rdf-syntax-ns#type                    Ethnic_group                            \n",
      "55                                       22-rdf-syntax-ns#type                    Modern_language                         \n",
      "48                                       url                                                                              \n",
      "Question: 6\n"
     ]
    },
    {
     "name": "stdin",
     "output_type": "stream",
     "text": [
      "Does the thing you are looking for have the attribute: 22-rdf-syntax-ns#type Occupation? n\n"
     ]
    },
    {
     "name": "stdout",
     "output_type": "stream",
     "text": [
      "remaining entities: 959\n",
      "84                                       22-rdf-syntax-ns#type                    MedicalEntity                           \n",
      "79                                       22-rdf-syntax-ns#type                    MedicalCondition                        \n",
      "62                                       22-rdf-syntax-ns#type                    Product                                 \n",
      "61                                       22-rdf-syntax-ns#type                    Award                                   \n",
      "58                                       22-rdf-syntax-ns#type                    Language                                \n",
      "58                                       22-rdf-syntax-ns#type                    Ethnic_group                            \n",
      "55                                       22-rdf-syntax-ns#type                    Modern_language                         \n",
      "48                                       url                                                                              \n",
      "36                                       22-rdf-syntax-ns#type                    Discipline_(academia)                   \n",
      "32                                       22-rdf-syntax-ns#type                    Literary_award                          \n",
      "Question: 7\n"
     ]
    },
    {
     "name": "stdin",
     "output_type": "stream",
     "text": [
      "Does the thing you are looking for have the attribute: 22-rdf-syntax-ns#type MedicalEntity? n\n"
     ]
    },
    {
     "name": "stdout",
     "output_type": "stream",
     "text": [
      "remaining entities: 875\n",
      "62                                       22-rdf-syntax-ns#type                    Product                                 \n",
      "61                                       22-rdf-syntax-ns#type                    Award                                   \n",
      "58                                       22-rdf-syntax-ns#type                    Language                                \n",
      "58                                       22-rdf-syntax-ns#type                    Ethnic_group                            \n",
      "55                                       22-rdf-syntax-ns#type                    Modern_language                         \n",
      "48                                       url                                                                              \n",
      "32                                       22-rdf-syntax-ns#type                    Literary_award                          \n",
      "31                                       22-rdf-syntax-ns#type                    Grammy_Award                            \n",
      "30                                       22-rdf-syntax-ns#type                    Discipline_(academia)                   \n",
      "29                                       22-rdf-syntax-ns#type                    War                                     \n",
      "Question: 8\n"
     ]
    },
    {
     "name": "stdin",
     "output_type": "stream",
     "text": [
      "Does the thing you are looking for have the attribute: 22-rdf-syntax-ns#type Product? n\n"
     ]
    },
    {
     "name": "stdout",
     "output_type": "stream",
     "text": [
      "remaining entities: 813\n",
      "61                                       22-rdf-syntax-ns#type                    Award                                   \n",
      "58                                       22-rdf-syntax-ns#type                    Ethnic_group                            \n",
      "48                                       url                                                                              \n",
      "32                                       22-rdf-syntax-ns#type                    Literary_award                          \n",
      "31                                       22-rdf-syntax-ns#type                    Grammy_Award                            \n",
      "30                                       22-rdf-syntax-ns#type                    Discipline_(academia)                   \n",
      "29                                       22-rdf-syntax-ns#type                    War                                     \n",
      "26                                       22-rdf-syntax-ns#type                    Academy_Awards                          \n",
      "23                                       22-rdf-syntax-ns#type                    Primetime_Emmy_Award                    \n",
      "22                                       url                                                                              \n",
      "Question: 9\n"
     ]
    },
    {
     "name": "stdin",
     "output_type": "stream",
     "text": [
      "Does the thing you are looking for have the attribute: 22-rdf-syntax-ns#type Award? n\n"
     ]
    },
    {
     "name": "stdout",
     "output_type": "stream",
     "text": [
      "remaining entities: 752\n",
      "58                                       22-rdf-syntax-ns#type                    Ethnic_group                            \n",
      "32                                       22-rdf-syntax-ns#type                    Literary_award                          \n",
      "30                                       22-rdf-syntax-ns#type                    Discipline_(academia)                   \n",
      "29                                       22-rdf-syntax-ns#type                    War                                     \n",
      "28                                       22-rdf-syntax-ns#type                    Grammy_Award                            \n",
      "26                                       url                                                                              \n",
      "26                                       22-rdf-syntax-ns#type                    Academy_Awards                          \n",
      "20                                       url                                                                              \n",
      "734                                      22-rdf-syntax-ns#type                    Thing                                   \n",
      "18                                       22-rdf-syntax-ns#type                    Service                                 \n",
      "Question: 10\n"
     ]
    },
    {
     "name": "stdin",
     "output_type": "stream",
     "text": [
      "Does the thing you are looking for have the attribute: 22-rdf-syntax-ns#type Ethnic_group? n\n"
     ]
    },
    {
     "name": "stdout",
     "output_type": "stream",
     "text": [
      "remaining entities: 694\n",
      "32                                       22-rdf-syntax-ns#type                    Literary_award                          \n",
      "30                                       22-rdf-syntax-ns#type                    Discipline_(academia)                   \n",
      "29                                       22-rdf-syntax-ns#type                    War                                     \n",
      "28                                       22-rdf-syntax-ns#type                    Grammy_Award                            \n",
      "26                                       url                                                                              \n",
      "26                                       22-rdf-syntax-ns#type                    Academy_Awards                          \n",
      "20                                       url                                                                              \n",
      "676                                      22-rdf-syntax-ns#type                    Thing                                   \n",
      "18                                       22-rdf-syntax-ns#type                    Service                                 \n",
      "17                                       22-rdf-syntax-ns#type                    MTV_Video_Music_Award                   \n",
      "Question: 11\n"
     ]
    },
    {
     "name": "stdin",
     "output_type": "stream",
     "text": [
      "Does the thing you are looking for have the attribute: 22-rdf-syntax-ns#type Literary_award? n\n"
     ]
    },
    {
     "name": "stdout",
     "output_type": "stream",
     "text": [
      "remaining entities: 662\n",
      "30                                       22-rdf-syntax-ns#type                    Discipline_(academia)                   \n",
      "29                                       22-rdf-syntax-ns#type                    War                                     \n",
      "28                                       22-rdf-syntax-ns#type                    Grammy_Award                            \n",
      "26                                       url                                                                              \n",
      "26                                       22-rdf-syntax-ns#type                    Academy_Awards                          \n",
      "20                                       url                                                                              \n",
      "644                                      22-rdf-syntax-ns#type                    Thing                                   \n",
      "18                                       22-rdf-syntax-ns#type                    Service                                 \n",
      "17                                       22-rdf-syntax-ns#type                    MTV_Video_Music_Award                   \n",
      "17                                       url                                      index.html                              \n",
      "Question: 12\n"
     ]
    },
    {
     "name": "stdin",
     "output_type": "stream",
     "text": [
      "Does the thing you are looking for have the attribute: 22-rdf-syntax-ns#type Discipline_(academia)? n\n"
     ]
    },
    {
     "name": "stdout",
     "output_type": "stream",
     "text": [
      "remaining entities: 632\n",
      "29                                       22-rdf-syntax-ns#type                    War                                     \n",
      "28                                       22-rdf-syntax-ns#type                    Grammy_Award                            \n",
      "26                                       url                                                                              \n",
      "26                                       22-rdf-syntax-ns#type                    Academy_Awards                          \n",
      "20                                       url                                                                              \n",
      "614                                      22-rdf-syntax-ns#type                    Thing                                   \n",
      "18                                       22-rdf-syntax-ns#type                    Service                                 \n",
      "17                                       22-rdf-syntax-ns#type                    MTV_Video_Music_Award                   \n",
      "17                                       url                                      index.html                              \n",
      "15                                       22-rdf-syntax-ns#type                    TelevisionChannel                       \n",
      "Question: 13\n"
     ]
    },
    {
     "name": "stdin",
     "output_type": "stream",
     "text": [
      "Does the thing you are looking for have the attribute: 22-rdf-syntax-ns#type War? n\n"
     ]
    },
    {
     "name": "stdout",
     "output_type": "stream",
     "text": [
      "remaining entities: 603\n",
      "28                                       22-rdf-syntax-ns#type                    Grammy_Award                            \n",
      "26                                       url                                                                              \n",
      "26                                       22-rdf-syntax-ns#type                    Academy_Awards                          \n",
      "20                                       url                                                                              \n",
      "585                                      22-rdf-syntax-ns#type                    Thing                                   \n",
      "18                                       22-rdf-syntax-ns#type                    Service                                 \n",
      "17                                       22-rdf-syntax-ns#type                    MTV_Video_Music_Award                   \n",
      "17                                       url                                      index.html                              \n",
      "15                                       22-rdf-syntax-ns#type                    TelevisionChannel                       \n",
      "15                                       22-rdf-syntax-ns#type                    BroadcastChannel                        \n",
      "Question: 14\n"
     ]
    },
    {
     "name": "stdin",
     "output_type": "stream",
     "text": [
      "Does the thing you are looking for have the attribute: 22-rdf-syntax-ns#type Grammy_Award? n\n"
     ]
    },
    {
     "name": "stdout",
     "output_type": "stream",
     "text": [
      "remaining entities: 575\n",
      "26                                       22-rdf-syntax-ns#type                    Academy_Awards                          \n",
      "20                                       url                                                                              \n",
      "557                                      22-rdf-syntax-ns#type                    Thing                                   \n",
      "18                                       22-rdf-syntax-ns#type                    Service                                 \n",
      "17                                       22-rdf-syntax-ns#type                    MTV_Video_Music_Award                   \n",
      "17                                       url                                      index.html                              \n",
      "15                                       22-rdf-syntax-ns#type                    TelevisionChannel                       \n",
      "15                                       22-rdf-syntax-ns#type                    BroadcastChannel                        \n",
      "14                                       22-rdf-syntax-ns#type                    Primetime_Emmy_Award                    \n",
      "14                                       22-rdf-syntax-ns#type                    Screen_Actors_Guild_Awards              \n",
      "Question: 15\n"
     ]
    },
    {
     "name": "stdin",
     "output_type": "stream",
     "text": [
      "Does the thing you are looking for have the attribute: 22-rdf-syntax-ns#type Academy_Awards? n\n"
     ]
    },
    {
     "name": "stdout",
     "output_type": "stream",
     "text": [
      "remaining entities: 549\n",
      "531                                      22-rdf-syntax-ns#type                    Thing                                   \n",
      "18                                       22-rdf-syntax-ns#type                    Service                                 \n",
      "17                                       22-rdf-syntax-ns#type                    MTV_Video_Music_Award                   \n",
      "17                                       url                                      index.html                              \n",
      "15                                       22-rdf-syntax-ns#type                    TelevisionChannel                       \n",
      "15                                       22-rdf-syntax-ns#type                    BroadcastChannel                        \n",
      "14                                       22-rdf-syntax-ns#type                    Primetime_Emmy_Award                    \n",
      "14                                       22-rdf-syntax-ns#type                    Screen_Actors_Guild_Awards              \n",
      "14                                       22-rdf-syntax-ns#type                    British_Academy_Film_Awards             \n",
      "14                                       url                                                                              \n",
      "Question: 16\n"
     ]
    },
    {
     "name": "stdin",
     "output_type": "stream",
     "text": [
      "Does the thing you are looking for have the attribute: 22-rdf-syntax-ns#type Thing? n\n"
     ]
    },
    {
     "name": "stdout",
     "output_type": "stream",
     "text": [
      "remaining entities: 18\n",
      "18                                       22-rdf-syntax-ns#type                    popularEntity                           \n",
      "Question: 17\n"
     ]
    },
    {
     "ename": "IndexError",
     "evalue": "list index out of range",
     "output_type": "error",
     "traceback": [
      "\u001b[1;31m---------------------------------------------------------------------------\u001b[0m",
      "\u001b[1;31mIndexError\u001b[0m                                Traceback (most recent call last)",
      "\u001b[1;32m<ipython-input-11-f6bd4eadd037>\u001b[0m in \u001b[0;36m<module>\u001b[1;34m\u001b[0m\n\u001b[0;32m     18\u001b[0m     \u001b[1;31m# ask question and add filters to query\u001b[0m\u001b[1;33m\u001b[0m\u001b[1;33m\u001b[0m\u001b[1;33m\u001b[0m\u001b[0m\n\u001b[0;32m     19\u001b[0m     \u001b[0mprint\u001b[0m\u001b[1;33m(\u001b[0m\u001b[1;34m'Question: %s'\u001b[0m \u001b[1;33m%\u001b[0m\u001b[1;33m(\u001b[0m\u001b[0mi\u001b[0m\u001b[1;33m+\u001b[0m\u001b[1;36m1\u001b[0m\u001b[1;33m)\u001b[0m\u001b[1;33m)\u001b[0m\u001b[1;33m\u001b[0m\u001b[1;33m\u001b[0m\u001b[0m\n\u001b[1;32m---> 20\u001b[1;33m     \u001b[0mPosFilters\u001b[0m\u001b[1;33m,\u001b[0m \u001b[0mNegFilters\u001b[0m \u001b[1;33m=\u001b[0m \u001b[0mgenerateQuestion\u001b[0m\u001b[1;33m(\u001b[0m\u001b[0mlistOfPred\u001b[0m\u001b[1;33m,\u001b[0m \u001b[0mlistOfObj\u001b[0m\u001b[1;33m,\u001b[0m \u001b[1;36m0\u001b[0m\u001b[1;33m)\u001b[0m\u001b[1;33m\u001b[0m\u001b[1;33m\u001b[0m\u001b[0m\n\u001b[0m\u001b[0;32m     21\u001b[0m \u001b[1;33m\u001b[0m\u001b[0m\n\u001b[0;32m     22\u001b[0m     \u001b[1;31m# number of popular entities left\u001b[0m\u001b[1;33m\u001b[0m\u001b[1;33m\u001b[0m\u001b[1;33m\u001b[0m\u001b[0m\n",
      "\u001b[1;32m<ipython-input-3-c5fa4f7f5aac>\u001b[0m in \u001b[0;36mgenerateQuestion\u001b[1;34m(listOfPred, listOfObj, index)\u001b[0m\n\u001b[0;32m     15\u001b[0m \u001b[1;32mdef\u001b[0m \u001b[0mgenerateQuestion\u001b[0m\u001b[1;33m(\u001b[0m\u001b[0mlistOfPred\u001b[0m\u001b[1;33m,\u001b[0m \u001b[0mlistOfObj\u001b[0m\u001b[1;33m,\u001b[0m \u001b[0mindex\u001b[0m\u001b[1;33m)\u001b[0m\u001b[1;33m:\u001b[0m\u001b[1;33m\u001b[0m\u001b[1;33m\u001b[0m\u001b[0m\n\u001b[0;32m     16\u001b[0m     \u001b[1;32mif\u001b[0m \u001b[1;33m(\u001b[0m\u001b[1;34m'<'\u001b[0m \u001b[1;33m+\u001b[0m \u001b[0mstr\u001b[0m\u001b[1;33m(\u001b[0m\u001b[0mlistOfPred\u001b[0m\u001b[1;33m[\u001b[0m\u001b[0mindex\u001b[0m\u001b[1;33m]\u001b[0m\u001b[1;33m)\u001b[0m \u001b[1;33m+\u001b[0m\u001b[1;34m'> <'\u001b[0m\u001b[1;33m+\u001b[0m\u001b[0mstr\u001b[0m\u001b[1;33m(\u001b[0m\u001b[0mlistOfObj\u001b[0m\u001b[1;33m[\u001b[0m\u001b[0mindex\u001b[0m\u001b[1;33m]\u001b[0m\u001b[1;33m)\u001b[0m\u001b[1;33m+\u001b[0m \u001b[1;34m'>'\u001b[0m\u001b[1;33m)\u001b[0m \u001b[1;32min\u001b[0m \u001b[0mAttrHistory\u001b[0m\u001b[1;33m:\u001b[0m\u001b[1;33m\u001b[0m\u001b[1;33m\u001b[0m\u001b[0m\n\u001b[1;32m---> 17\u001b[1;33m         \u001b[1;32mreturn\u001b[0m \u001b[0mgenerateQuestion\u001b[0m\u001b[1;33m(\u001b[0m\u001b[0mlistOfPred\u001b[0m\u001b[1;33m,\u001b[0m \u001b[0mlistOfObj\u001b[0m\u001b[1;33m,\u001b[0m \u001b[0mindex\u001b[0m\u001b[1;33m+\u001b[0m\u001b[1;36m1\u001b[0m\u001b[1;33m)\u001b[0m\u001b[1;33m\u001b[0m\u001b[1;33m\u001b[0m\u001b[0m\n\u001b[0m\u001b[0;32m     18\u001b[0m \u001b[1;33m\u001b[0m\u001b[0m\n\u001b[0;32m     19\u001b[0m     \u001b[1;32melse\u001b[0m\u001b[1;33m:\u001b[0m\u001b[1;33m\u001b[0m\u001b[1;33m\u001b[0m\u001b[0m\n",
      "\u001b[1;32m<ipython-input-3-c5fa4f7f5aac>\u001b[0m in \u001b[0;36mgenerateQuestion\u001b[1;34m(listOfPred, listOfObj, index)\u001b[0m\n\u001b[0;32m     14\u001b[0m \u001b[1;33m\u001b[0m\u001b[0m\n\u001b[0;32m     15\u001b[0m \u001b[1;32mdef\u001b[0m \u001b[0mgenerateQuestion\u001b[0m\u001b[1;33m(\u001b[0m\u001b[0mlistOfPred\u001b[0m\u001b[1;33m,\u001b[0m \u001b[0mlistOfObj\u001b[0m\u001b[1;33m,\u001b[0m \u001b[0mindex\u001b[0m\u001b[1;33m)\u001b[0m\u001b[1;33m:\u001b[0m\u001b[1;33m\u001b[0m\u001b[1;33m\u001b[0m\u001b[0m\n\u001b[1;32m---> 16\u001b[1;33m     \u001b[1;32mif\u001b[0m \u001b[1;33m(\u001b[0m\u001b[1;34m'<'\u001b[0m \u001b[1;33m+\u001b[0m \u001b[0mstr\u001b[0m\u001b[1;33m(\u001b[0m\u001b[0mlistOfPred\u001b[0m\u001b[1;33m[\u001b[0m\u001b[0mindex\u001b[0m\u001b[1;33m]\u001b[0m\u001b[1;33m)\u001b[0m \u001b[1;33m+\u001b[0m\u001b[1;34m'> <'\u001b[0m\u001b[1;33m+\u001b[0m\u001b[0mstr\u001b[0m\u001b[1;33m(\u001b[0m\u001b[0mlistOfObj\u001b[0m\u001b[1;33m[\u001b[0m\u001b[0mindex\u001b[0m\u001b[1;33m]\u001b[0m\u001b[1;33m)\u001b[0m\u001b[1;33m+\u001b[0m \u001b[1;34m'>'\u001b[0m\u001b[1;33m)\u001b[0m \u001b[1;32min\u001b[0m \u001b[0mAttrHistory\u001b[0m\u001b[1;33m:\u001b[0m\u001b[1;33m\u001b[0m\u001b[1;33m\u001b[0m\u001b[0m\n\u001b[0m\u001b[0;32m     17\u001b[0m         \u001b[1;32mreturn\u001b[0m \u001b[0mgenerateQuestion\u001b[0m\u001b[1;33m(\u001b[0m\u001b[0mlistOfPred\u001b[0m\u001b[1;33m,\u001b[0m \u001b[0mlistOfObj\u001b[0m\u001b[1;33m,\u001b[0m \u001b[0mindex\u001b[0m\u001b[1;33m+\u001b[0m\u001b[1;36m1\u001b[0m\u001b[1;33m)\u001b[0m\u001b[1;33m\u001b[0m\u001b[1;33m\u001b[0m\u001b[0m\n\u001b[0;32m     18\u001b[0m \u001b[1;33m\u001b[0m\u001b[0m\n",
      "\u001b[1;31mIndexError\u001b[0m: list index out of range"
     ]
    }
   ],
   "source": [
    "# with count print\n",
    "import random\n",
    "\n",
    "# Resets all variables\n",
    "left,qres,PosAttr,NegAttr,AttrHistory = game_reset()\n",
    "i=0\n",
    "outofguess = []\n",
    "\n",
    "while i < 20:\n",
    "    \n",
    "    # list of Pred and Obj for questions\n",
    "    listOfObj ,listOfPred = extractCountAndAttr(qres)\n",
    "    \n",
    "    # if only 1 popular entity is left break\n",
    "    if left<=1:\n",
    "        break\n",
    "     \n",
    "    # ask question and add filters to query\n",
    "    print('Question: %s' %(i+1))\n",
    "    PosFilters, NegFilters = generateQuestion(listOfPred, listOfObj, 0)\n",
    "    \n",
    "    # number of popular entities left\n",
    "    left = numberleft(PosFilters, NegFilters)\n",
    "    \n",
    "    # run query\n",
    "    query = updateQuery(left/2,PosFilters, NegFilters)\n",
    "    sparql.setQuery(query)\n",
    "    qres = sparql.queryAndConvert()\n",
    "    \n",
    "    # prints splits for top Pred and Objs \n",
    "    print('remaining entities:', left)\n",
    "    for r in qres[\"results\"][\"bindings\"]:\n",
    "        print(*[f'{x.split(\"/\")[-1][:40]:40s}' for x in [r['count'][\"value\"],r['p'][\"value\"],r['o'][\"value\"]]])\n",
    "        \n",
    "    i+=1\n",
    "\n",
    "# Prints answer\n",
    "if i != 20:\n",
    "    for attr in popentities(PosFilters, NegFilters):\n",
    "        print(*[f'Your Answer is: {x.split(\"/\")[-1]}' for x in [attr['s']['value']]][0:10])\n",
    "        \n",
    "# ran out of questions\n",
    "else:\n",
    "    print('Final Question:')\n",
    "    for j in popentities(PosFilters, NegFilters):\n",
    "            outofguess.append(f'{j[0].split(\"/\")[-1][:40]:40s}')\n",
    "    guess = random.choice(outofguess)\n",
    "    print(guess)\n",
    "    answer = (input('Is this correct?').startswith('y'))\n",
    "    if answer is True:\n",
    "        print('Win')\n",
    "    else:\n",
    "        print('game over')"
   ]
  },
  {
   "cell_type": "code",
   "execution_count": null,
   "metadata": {},
   "outputs": [],
   "source": [
    "# with guess print\n",
    "import random\n",
    "\n",
    "# Resets all variables\n",
    "left, qres, PosAttr, NegAttr, AttrHistory = game_reset()\n",
    "i=0\n",
    "outofguess = []\n",
    "\n",
    "while i < 20:\n",
    "   \n",
    "    # list of Pred and Obj for questions\n",
    "    listOfObj ,listOfPred = extractCountAndAttr(qres)\n",
    "    \n",
    "    # if only 1 popular entity is left break\n",
    "    if left<=1:\n",
    "        break\n",
    "        \n",
    "    # ask question and add filters to query\n",
    "    print('Question: %s' %(i+1))\n",
    "    PosFilters, NegFilters = generateQuestion(listOfPred, listOfObj, 0)\n",
    "    \n",
    "    # number of popular entities left\n",
    "    left = numberleft(PosFilters, NegFilters)\n",
    "    \n",
    "    # run query\n",
    "    query = updateQuery(left/2, PosFilters, NegFilters)\n",
    "    sparql.setQuery(query)\n",
    "    qres = sparql.queryAndConvert()\n",
    "    \n",
    "    # prints possible entities left\n",
    "    print('Possible Guesses:')\n",
    "    for subject in popentities(PosFilters, NegFilters):\n",
    "        print(*[f'{x.split(\"/\")[-1]}' for x in [subject['s']['value']]][0:10]) \n",
    "        \n",
    "    print()\n",
    "    i+=1\n",
    "\n",
    "# Prints answer\n",
    "if i != 20:\n",
    "    for attr in popentities(PosFilters, NegFilters):\n",
    "        print(*[f'Your Answer is: {x.split(\"/\")[-1]}' for x in [attr['s']['value']]][0:10])\n",
    "        \n",
    "# ran out of questions\n",
    "else:\n",
    "    print('Final Question:')\n",
    "    for j in popentities(PosFilters, NegFilters):\n",
    "            outofguess.append(f'{j[0].split(\"/\")[-1][:40]:40s}')\n",
    "    guess = random.choice(outofguess)\n",
    "    print(guess)\n",
    "    answer = (input('Is this correct?').startswith('y'))\n",
    "    if answer is True:\n",
    "        print('Win')\n",
    "    else:\n",
    "        print('game over')"
   ]
  },
  {
   "cell_type": "markdown",
   "metadata": {},
   "source": [
    "### Notes\n",
    "- football teams \n",
    "    - some football teams do not have the type football team"
   ]
  }
 ],
 "metadata": {
  "kernelspec": {
   "display_name": "Python 3",
   "language": "python",
   "name": "python3"
  },
  "language_info": {
   "codemirror_mode": {
    "name": "ipython",
    "version": 3
   },
   "file_extension": ".py",
   "mimetype": "text/x-python",
   "name": "python",
   "nbconvert_exporter": "python",
   "pygments_lexer": "ipython3",
   "version": "3.8.3"
  }
 },
 "nbformat": 4,
 "nbformat_minor": 4
}
