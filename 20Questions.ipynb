{
 "cells": [
  {
   "cell_type": "code",
   "execution_count": 37,
   "metadata": {},
   "outputs": [],
   "source": [
    "import rdflib\n",
    "import html\n",
    "g = rdflib.Graph().parse('./fb15k-wikitop2021-yago-facts.nt', format='ntriples')\n",
    "g += rdflib.Graph().parse('./fb15k-wikitop2021-yago-full-types.nt', format='ntriples')\n",
    "\n",
    "from rdflib.namespace import RDF\n",
    "for line in open('fb15k-wikitop2021.tsv').readlines()[1:]:\n",
    "    subject = rdflib.URIRef( line.split('\\t')[6][1:-1] ) # take the URI in column 6\n",
    "    g.add( (subject, RDF.type, rdflib.URIRef('http://example.com/popularEntity')) )"
   ]
  },
  {
   "cell_type": "code",
   "execution_count": 38,
   "metadata": {},
   "outputs": [
    {
     "name": "stdout",
     "output_type": "stream",
     "text": [
      "22-rdf-syntax-ns#type                    popularEntity                            186                                     \n",
      "22-rdf-syntax-ns#type                    Human                                    134                                     \n",
      "knowsLanguage                            English_language                         118                                     \n",
      "nationality                              United_States                            93                                      \n",
      "hasOccupation                            Actor                                    77                                      \n",
      "hasOccupation                            Film_producer                            51                                      \n",
      "hasOccupation                            Screenwriter                             37                                      \n",
      "hasOccupation                            Film_director                            32                                      \n",
      "memberOf                                 Democratic_Party_(United_States)         29                                      \n",
      "22-rdf-syntax-ns#type                    Country                                  25                                      \n"
     ]
    }
   ],
   "source": [
    "r = g.query(\"\"\"\n",
    "select (count(*) as ?count) ?p ?o  where \n",
    "{\n",
    "    ?s <http://www.w3.org/1999/02/22-rdf-syntax-ns#type> <http://example.com/popularEntity> .\n",
    "    ?s ?p ?o .\n",
    "} \n",
    "group by ?p ?o \n",
    "order by desc(?count)\n",
    "limit 10\n",
    "\"\"\")\n",
    "for b in r.bindings:\n",
    "    print(*[f'{x.split(\"/\")[-1][:40]:40s}' for x in b.values()])\n"
   ]
  },
  {
   "cell_type": "code",
   "execution_count": 53,
   "metadata": {},
   "outputs": [
    {
     "name": "stdout",
     "output_type": "stream",
     "text": [
      "The ipython_sparql_pandas extension is already loaded. To reload it, use:\n",
      "  %reload_ext ipython_sparql_pandas\n"
     ]
    }
   ],
   "source": [
    "%load_ext ipython_sparql_pandas"
   ]
  },
  {
   "cell_type": "code",
   "execution_count": 40,
   "metadata": {},
   "outputs": [
    {
     "data": {
      "text/html": [
       "<div>\n",
       "<style scoped>\n",
       "    .dataframe tbody tr th:only-of-type {\n",
       "        vertical-align: middle;\n",
       "    }\n",
       "\n",
       "    .dataframe tbody tr th {\n",
       "        vertical-align: top;\n",
       "    }\n",
       "\n",
       "    .dataframe thead th {\n",
       "        text-align: right;\n",
       "    }\n",
       "</style>\n",
       "<table border=\"1\" class=\"dataframe\">\n",
       "  <thead>\n",
       "    <tr style=\"text-align: right;\">\n",
       "      <th></th>\n",
       "      <th>count</th>\n",
       "      <th>p</th>\n",
       "      <th>o</th>\n",
       "    </tr>\n",
       "  </thead>\n",
       "  <tbody>\n",
       "    <tr>\n",
       "      <th>0</th>\n",
       "      <td>186</td>\n",
       "      <td>http://www.w3.org/1999/02/22-rdf-syntax-ns#type</td>\n",
       "      <td>http://example.com/popularEntity</td>\n",
       "    </tr>\n",
       "    <tr>\n",
       "      <th>1</th>\n",
       "      <td>134</td>\n",
       "      <td>http://www.w3.org/1999/02/22-rdf-syntax-ns#type</td>\n",
       "      <td>http://yago-knowledge.org/resource/Human</td>\n",
       "    </tr>\n",
       "    <tr>\n",
       "      <th>2</th>\n",
       "      <td>118</td>\n",
       "      <td>http://schema.org/knowsLanguage</td>\n",
       "      <td>http://yago-knowledge.org/resource/English_lan...</td>\n",
       "    </tr>\n",
       "    <tr>\n",
       "      <th>3</th>\n",
       "      <td>93</td>\n",
       "      <td>http://schema.org/nationality</td>\n",
       "      <td>http://yago-knowledge.org/resource/United_States</td>\n",
       "    </tr>\n",
       "    <tr>\n",
       "      <th>4</th>\n",
       "      <td>77</td>\n",
       "      <td>http://schema.org/hasOccupation</td>\n",
       "      <td>http://yago-knowledge.org/resource/Actor</td>\n",
       "    </tr>\n",
       "    <tr>\n",
       "      <th>5</th>\n",
       "      <td>51</td>\n",
       "      <td>http://schema.org/hasOccupation</td>\n",
       "      <td>http://yago-knowledge.org/resource/Film_producer</td>\n",
       "    </tr>\n",
       "    <tr>\n",
       "      <th>6</th>\n",
       "      <td>37</td>\n",
       "      <td>http://schema.org/hasOccupation</td>\n",
       "      <td>http://yago-knowledge.org/resource/Screenwriter</td>\n",
       "    </tr>\n",
       "    <tr>\n",
       "      <th>7</th>\n",
       "      <td>32</td>\n",
       "      <td>http://schema.org/hasOccupation</td>\n",
       "      <td>http://yago-knowledge.org/resource/Film_director</td>\n",
       "    </tr>\n",
       "    <tr>\n",
       "      <th>8</th>\n",
       "      <td>29</td>\n",
       "      <td>http://schema.org/memberOf</td>\n",
       "      <td>http://yago-knowledge.org/resource/Democratic_...</td>\n",
       "    </tr>\n",
       "    <tr>\n",
       "      <th>9</th>\n",
       "      <td>25</td>\n",
       "      <td>http://www.w3.org/1999/02/22-rdf-syntax-ns#type</td>\n",
       "      <td>http://schema.org/Country</td>\n",
       "    </tr>\n",
       "  </tbody>\n",
       "</table>\n",
       "</div>"
      ],
      "text/plain": [
       "   count                                                p  \\\n",
       "0    186  http://www.w3.org/1999/02/22-rdf-syntax-ns#type   \n",
       "1    134  http://www.w3.org/1999/02/22-rdf-syntax-ns#type   \n",
       "2    118                  http://schema.org/knowsLanguage   \n",
       "3     93                    http://schema.org/nationality   \n",
       "4     77                  http://schema.org/hasOccupation   \n",
       "5     51                  http://schema.org/hasOccupation   \n",
       "6     37                  http://schema.org/hasOccupation   \n",
       "7     32                  http://schema.org/hasOccupation   \n",
       "8     29                       http://schema.org/memberOf   \n",
       "9     25  http://www.w3.org/1999/02/22-rdf-syntax-ns#type   \n",
       "\n",
       "                                                   o  \n",
       "0                   http://example.com/popularEntity  \n",
       "1           http://yago-knowledge.org/resource/Human  \n",
       "2  http://yago-knowledge.org/resource/English_lan...  \n",
       "3   http://yago-knowledge.org/resource/United_States  \n",
       "4           http://yago-knowledge.org/resource/Actor  \n",
       "5   http://yago-knowledge.org/resource/Film_producer  \n",
       "6    http://yago-knowledge.org/resource/Screenwriter  \n",
       "7   http://yago-knowledge.org/resource/Film_director  \n",
       "8  http://yago-knowledge.org/resource/Democratic_...  \n",
       "9                          http://schema.org/Country  "
      ]
     },
     "execution_count": 40,
     "metadata": {},
     "output_type": "execute_result"
    }
   ],
   "source": [
    "%%sparql http://DESKTOP-D6TQ7G4:7200/repositories/20qs -s res \n",
    "select (count(*) as ?count) ?p ?o  where \n",
    "{\n",
    "    ?s <http://www.w3.org/1999/02/22-rdf-syntax-ns#type> <http://example.com/popularEntity> .\n",
    "    ?s ?p ?o .\n",
    "} \n",
    "group by ?p ?o \n",
    "order by desc(?count)\n",
    "limit 10"
   ]
  },
  {
   "cell_type": "code",
   "execution_count": 41,
   "metadata": {},
   "outputs": [
    {
     "data": {
      "text/plain": [
       "0    186\n",
       "1    134\n",
       "2    118\n",
       "3     93\n",
       "4     77\n",
       "5     51\n",
       "6     37\n",
       "7     32\n",
       "8     29\n",
       "9     25\n",
       "Name: count, dtype: int64"
      ]
     },
     "execution_count": 41,
     "metadata": {},
     "output_type": "execute_result"
    }
   ],
   "source": [
    "count=res['count']\n",
    "count"
   ]
  },
  {
   "cell_type": "code",
   "execution_count": 65,
   "metadata": {},
   "outputs": [],
   "source": [
    "#from the query results extract a list that contains the counts after splitting on certain attributes\n",
    "PosAttr=['?s <http://www.w3.org/1999/02/22-rdf-syntax-ns#type> <http://example.com/popularEntity> .']\n",
    "NegAttr=[]\n",
    "def extractCountAndAttr(result):\n",
    "    listOfSplits = res['count']\n",
    "    listOfObj = res['o']\n",
    "    listOfPred= res['p']\n",
    "    return(listOfSplits,listOfObj,listOfPred)\n",
    "\n",
    "#function to approximate index element of list that provides best split\n",
    "def bestSplit(listOfNumbers, ElementsLeft):\n",
    "    currentBest=1\n",
    "    indexBest=-1\n",
    "    for i in range(len(listOfNumbers)):\n",
    "        splitScore = abs((listOfNumbers[i]/ElementsLeft)-0.5)\n",
    "        if splitScore<currentBest:\n",
    "            currentBest=splitScore\n",
    "            indexBest=i\n",
    "    return indexBest\n",
    "\n",
    "\n",
    "def generateQuestion(listOfPred, listOfObj, index):\n",
    "    userAnswer = input(f'Does the thing you are looking for have the attribute: {listOfPred[index].split(\"/\")[-1]} {listOfObj[index].split(\"/\")[-1]} ?' )\n",
    "    if userAnswer.startswith('y'):\n",
    "        PosAttr.append('?s <' + str(listOfPred[index]) +'> <'+str(listOfObj[index])+ '>.' )   \n",
    "    elif userAnswer.startswith('n'):\n",
    "        NegAttr.append('FILTER NOT EXISTS {{ \\n ?s <' + str(listOfPred[index]) +'> <'+str(listOfObj[index])+ '>. }}' )   \n",
    "    else:\n",
    "        generateQuestion(listOfPred, listOfObj, index+1)\n",
    "    NegFilters = \"\\n\".join(NegAttr)\n",
    "    PosFilters = \"\\n\".join(PosAttr)\n",
    "    return (PosFilters, NegFilters)\n",
    "\n",
    "\n",
    "  \n",
    "def updateQuery( PosFilters, NegFilters):\n",
    "\n",
    "    FilterQuestion =  f\"\"\"\n",
    "    select (count(*) as ?count) ?p ?o  where \n",
    "    {{\n",
    "\n",
    "    {PosFilters}\n",
    "     ?s ?p ?o .\n",
    "    {NegFilters}\n",
    "    }} \n",
    "    group by ?p ?o \n",
    "    order by desc(?count)\n",
    "    limit 25\n",
    "    \"\"\"\n",
    "        \n",
    "    return FilterQuestion\n",
    "\n",
    "\n"
   ]
  },
  {
   "cell_type": "code",
   "execution_count": null,
   "metadata": {},
   "outputs": [
    {
     "name": "stdout",
     "output_type": "stream",
     "text": [
      "22-rdf-syntax-ns#type                    popularEntity                            186                                     \n",
      "22-rdf-syntax-ns#type                    Human                                    134                                     \n",
      "knowsLanguage                            English_language                         118                                     \n",
      "nationality                              United_States                            93                                      \n",
      "hasOccupation                            Actor                                    77                                      \n",
      "hasOccupation                            Film_producer                            51                                      \n",
      "hasOccupation                            Screenwriter                             37                                      \n",
      "hasOccupation                            Film_director                            32                                      \n",
      "memberOf                                 Democratic_Party_(United_States)         29                                      \n",
      "22-rdf-syntax-ns#type                    Country                                  25                                      \n"
     ]
    }
   ],
   "source": [
    "qres = g.query(\"\"\"\n",
    "select (count(*) as ?count) ?p ?o  where \n",
    "{\n",
    "    ?s <http://www.w3.org/1999/02/22-rdf-syntax-ns#type> <http://example.com/popularEntity> .\n",
    "    ?s ?p ?o .\n",
    "} \n",
    "group by ?p ?o \n",
    "order by desc(?count)\n",
    "limit 10\n",
    "\"\"\")\n",
    "for b in qres.bindings:\n",
    "    print(*[f'{x.split(\"/\")[-1][:40]:40s}' for x in b.values()])\n",
    "availableSplits, listOfObj ,listOfPred = extractCountAndAttr(r)\n",
    "index= bestSplit(availableSplits, availableSplits[0])\n"
   ]
  },
  {
   "cell_type": "code",
   "execution_count": 16,
   "metadata": {},
   "outputs": [
    {
     "name": "stdin",
     "output_type": "stream",
     "text": [
      "Does the thing you are looking for have the attribute: nationality United_States ? n\n",
      "Does the thing you are looking for have the attribute: 22-rdf-syntax-ns#type Human ? y\n",
      "Does the thing you are looking for have the attribute: nationality United_Kingdom ? l\n",
      "Does the thing you are looking for have the attribute: hasOccupation Actor ? l\n",
      "Does the thing you are looking for have the attribute: hasOccupation Singer-songwriter ? y\n",
      "Does the thing you are looking for have the attribute: award Rock_and_Roll_Hall_of_Fame ? y\n",
      "Does the thing you are looking for have the attribute: award Grammy_Lifetime_Achievement_Award ? y\n",
      "Does the thing you are looking for have the attribute: birthPlace Liverpool ? y\n",
      "Does the thing you are looking for have the attribute: alumniOf Calderstones_School ? y\n"
     ]
    },
    {
     "name": "stdout",
     "output_type": "stream",
     "text": [
      "Your Answer is: John_Lennon\n"
     ]
    }
   ],
   "source": [
    "#without printing results\n",
    "i=0\n",
    "while i< 20:\n",
    "   \n",
    "        \n",
    "    availableSplits, listOfObj ,listOfPred = extractCountAndAttr(qres)\n",
    "    if availableSplits[0]<=1:\n",
    "        break\n",
    "    index= bestSplit(availableSplits, availableSplits[0])\n",
    "    PosFilters, NegFilters = generateQuestion(listOfPred, listOfObj, index)\n",
    "    query = updateQuery(PosFilters, NegFilters)\n",
    "    qres = g.query(query)\n",
    "\n",
    "finalResult= f\"\"\"\n",
    "            select distinct ?s\n",
    "            where \n",
    "            {{\n",
    "            \n",
    "            {PosFilters}\n",
    "            ?s ?p ?o\n",
    "            {NegFilters}\n",
    "            }} \"\"\"\n",
    "finalRes = g.query(finalResult)\n",
    "for b in finalRes.bindings:\n",
    "    print(*[f'Your Answer is: {x.split(\"/\")[-1]}' for x in b.values()][0:10]) "
   ]
  },
  {
   "cell_type": "code",
   "execution_count": 13,
   "metadata": {},
   "outputs": [
    {
     "name": "stdin",
     "output_type": "stream",
     "text": [
      "Does the thing you are looking for have the attribute: nationality United_States ? n\n"
     ]
    },
    {
     "name": "stdout",
     "output_type": "stream",
     "text": [
      "22-rdf-syntax-ns#type                    popularEntity                            93                                      \n",
      "22-rdf-syntax-ns#type                    Human                                    41                                      \n",
      "knowsLanguage                            English_language                         34                                      \n",
      "22-rdf-syntax-ns#type                    Country                                  25                                      \n",
      "memberOf                                 United_Nations                           21                                      \n",
      "nationality                              United_Kingdom                           20                                      \n",
      "22-rdf-syntax-ns#type                    Sovereign_state                          20                                      \n",
      "memberOf                                 International_Bank_for_Reconstruction_an 19                                      \n",
      "memberOf                                 Multilateral_Investment_Guarantee_Agency 19                                      \n",
      "memberOf                                 International_Telecommunication_Union    19                                      \n",
      "memberOf                                 International_Finance_Corporation        19                                      \n",
      "memberOf                                 Universal_Postal_Union                   19                                      \n",
      "memberOf                                 Interpol                                 19                                      \n",
      "memberOf                                 World_Trade_Organization                 19                                      \n",
      "memberOf                                 International_Development_Association    18                                      \n",
      "memberOf                                 Organisation_for_the_Prohibition_of_Chem 18                                      \n",
      "memberOf                                 International_Hydrographic_Organization  17                                      \n",
      "memberOf                                 Asian_Development_Bank                   17                                      \n",
      "memberOf                                 UNESCO                                   17                                      \n",
      "memberOf                                 Group_on_Earth_Observations              16                                      \n",
      "hasOccupation                            Actor                                    16                                      \n",
      "memberOf                                 International_Centre_for_Settlement_of_I 15                                      \n",
      "memberOf                                 Missile_Technology_Control_Regime        12                                      \n",
      "memberOf                                 Nuclear_Suppliers_Group                  12                                      \n",
      "memberOf                                 G20                                      12                                      \n"
     ]
    },
    {
     "name": "stdin",
     "output_type": "stream",
     "text": [
      "Does the thing you are looking for have the attribute: 22-rdf-syntax-ns#type Human ? n\n"
     ]
    },
    {
     "name": "stdout",
     "output_type": "stream",
     "text": [
      "22-rdf-syntax-ns#type                    popularEntity                            52                                      \n",
      "22-rdf-syntax-ns#type                    Country                                  25                                      \n",
      "memberOf                                 United_Nations                           21                                      \n",
      "22-rdf-syntax-ns#type                    Sovereign_state                          20                                      \n",
      "memberOf                                 International_Bank_for_Reconstruction_an 19                                      \n",
      "memberOf                                 Multilateral_Investment_Guarantee_Agency 19                                      \n",
      "memberOf                                 International_Telecommunication_Union    19                                      \n",
      "memberOf                                 International_Finance_Corporation        19                                      \n",
      "memberOf                                 Universal_Postal_Union                   19                                      \n",
      "memberOf                                 Interpol                                 19                                      \n",
      "memberOf                                 World_Trade_Organization                 19                                      \n",
      "memberOf                                 International_Development_Association    18                                      \n",
      "memberOf                                 Organisation_for_the_Prohibition_of_Chem 18                                      \n",
      "memberOf                                 International_Hydrographic_Organization  17                                      \n",
      "memberOf                                 Asian_Development_Bank                   17                                      \n",
      "memberOf                                 UNESCO                                   17                                      \n",
      "memberOf                                 Group_on_Earth_Observations              16                                      \n",
      "memberOf                                 International_Centre_for_Settlement_of_I 15                                      \n",
      "memberOf                                 Missile_Technology_Control_Regime        12                                      \n",
      "memberOf                                 Nuclear_Suppliers_Group                  12                                      \n",
      "memberOf                                 G20                                      12                                      \n",
      "memberOf                                 African_Development_Bank                 10                                      \n",
      "memberOf                                 Asia-Pacific_Economic_Cooperation        10                                      \n",
      "memberOf                                 OECD                                     10                                      \n",
      "memberOf                                 International_Energy_Agency              9                                       \n"
     ]
    },
    {
     "name": "stdin",
     "output_type": "stream",
     "text": [
      "Does the thing you are looking for have the attribute: 22-rdf-syntax-ns#type Country ? n\n"
     ]
    },
    {
     "name": "stdout",
     "output_type": "stream",
     "text": [
      "22-rdf-syntax-ns#type                    popularEntity                            27                                      \n",
      "countryOfOrigin                          United_States                            7                                       \n",
      "inLanguage                               English_language                         6                                       \n",
      "sport                                    Association_football                     5                                       \n",
      "22-rdf-syntax-ns#type                    TVSeries                                 5                                       \n",
      "22-rdf-syntax-ns#type                    NGO                                      4                                       \n",
      "22-rdf-syntax-ns#type                    SportsOrganization                       4                                       \n",
      "22-rdf-syntax-ns#type                    Thing                                    3                                       \n",
      "22-rdf-syntax-ns#type                    Business                                 2                                       \n",
      "genre                                    Action_film                              2                                       \n",
      "genre                                    Thriller_film                            2                                       \n",
      "22-rdf-syntax-ns#type                    Movie                                    2                                       \n",
      "award                                    BBC_Sports_Team_of_the_Year_Award        2                                       \n",
      "22-rdf-syntax-ns#type                    SportsTeam                               2                                       \n",
      "22-rdf-syntax-ns#type                    City                                     2                                       \n",
      "inLanguage                               Russian_language                         2                                       \n",
      "inLanguage                               Japanese_language                        2                                       \n",
      "22-rdf-syntax-ns#type                    Proprietary_software                     2                                       \n",
      "memberOf                                 International_Finance_Corporation        2                                       \n",
      "memberOf                                 G20                                      2                                       \n",
      "memberOf                                 International_Hydrographic_Organization  2                                       \n",
      "memberOf                                 Organization_for_Security_and_Co-operati 2                                       \n",
      "memberOf                                 Council_of_Europe                        2                                       \n",
      "memberOf                                 United_Nations                           2                                       \n",
      "memberOf                                 International_Bank_for_Reconstruction_an 2                                       \n"
     ]
    },
    {
     "name": "stdin",
     "output_type": "stream",
     "text": [
      "Does the thing you are looking for have the attribute: countryOfOrigin United_States ? n\n"
     ]
    },
    {
     "name": "stdout",
     "output_type": "stream",
     "text": [
      "22-rdf-syntax-ns#type                    popularEntity                            20                                      \n",
      "sport                                    Association_football                     5                                       \n",
      "22-rdf-syntax-ns#type                    NGO                                      4                                       \n",
      "22-rdf-syntax-ns#type                    SportsOrganization                       4                                       \n",
      "22-rdf-syntax-ns#type                    Thing                                    3                                       \n",
      "22-rdf-syntax-ns#type                    Business                                 2                                       \n",
      "award                                    BBC_Sports_Team_of_the_Year_Award        2                                       \n",
      "22-rdf-syntax-ns#type                    SportsTeam                               2                                       \n",
      "22-rdf-syntax-ns#type                    City                                     2                                       \n",
      "inLanguage                               Russian_language                         2                                       \n",
      "inLanguage                               English_language                         2                                       \n",
      "inLanguage                               Japanese_language                        2                                       \n",
      "22-rdf-syntax-ns#type                    Proprietary_software                     2                                       \n",
      "memberOf                                 International_Finance_Corporation        2                                       \n",
      "memberOf                                 G20                                      2                                       \n",
      "memberOf                                 International_Hydrographic_Organization  2                                       \n",
      "memberOf                                 Organization_for_Security_and_Co-operati 2                                       \n",
      "memberOf                                 Council_of_Europe                        2                                       \n",
      "memberOf                                 United_Nations                           2                                       \n",
      "memberOf                                 International_Bank_for_Reconstruction_an 2                                       \n",
      "memberOf                                 International_Telecommunication_Union    2                                       \n",
      "memberOf                                 Universal_Postal_Union                   2                                       \n",
      "memberOf                                 Interpol                                 2                                       \n",
      "memberOf                                 Group_of_Eight                           2                                       \n",
      "memberOf                                 Organisation_for_the_Prohibition_of_Chem 2                                       \n"
     ]
    },
    {
     "name": "stdin",
     "output_type": "stream",
     "text": [
      "Does the thing you are looking for have the attribute: sport Association_football ? n\n"
     ]
    },
    {
     "name": "stdout",
     "output_type": "stream",
     "text": [
      "22-rdf-syntax-ns#type                    popularEntity                            15                                      \n",
      "22-rdf-syntax-ns#type                    City                                     2                                       \n",
      "22-rdf-syntax-ns#type                    Thing                                    2                                       \n",
      "inLanguage                               Russian_language                         2                                       \n",
      "inLanguage                               English_language                         2                                       \n",
      "inLanguage                               Japanese_language                        2                                       \n",
      "22-rdf-syntax-ns#type                    Proprietary_software                     2                                       \n",
      "memberOf                                 International_Finance_Corporation        2                                       \n",
      "memberOf                                 G20                                      2                                       \n",
      "memberOf                                 International_Hydrographic_Organization  2                                       \n",
      "memberOf                                 Organization_for_Security_and_Co-operati 2                                       \n",
      "memberOf                                 Council_of_Europe                        2                                       \n",
      "memberOf                                 United_Nations                           2                                       \n",
      "memberOf                                 International_Bank_for_Reconstruction_an 2                                       \n",
      "memberOf                                 International_Telecommunication_Union    2                                       \n",
      "memberOf                                 Universal_Postal_Union                   2                                       \n",
      "memberOf                                 Interpol                                 2                                       \n",
      "memberOf                                 Group_of_Eight                           2                                       \n",
      "memberOf                                 Organisation_for_the_Prohibition_of_Chem 2                                       \n",
      "memberOf                                 UNESCO                                   2                                       \n",
      "memberOf                                 Multilateral_Investment_Guarantee_Agency 2                                       \n",
      "memberOf                                 World_Trade_Organization                 2                                       \n",
      "memberOf                                 Group_on_Earth_Observations              2                                       \n",
      "memberOf                                 Nuclear_Suppliers_Group                  2                                       \n",
      "memberOf                                 Missile_Technology_Control_Regime        2                                       \n"
     ]
    },
    {
     "name": "stdin",
     "output_type": "stream",
     "text": [
      "Does the thing you are looking for have the attribute: 22-rdf-syntax-ns#type City ? y\n"
     ]
    },
    {
     "name": "stdout",
     "output_type": "stream",
     "text": [
      "22-rdf-syntax-ns#type                    City                                     2                                       \n",
      "22-rdf-syntax-ns#type                    popularEntity                            2                                       \n",
      "image                                    EmpireStateNewYokCity.jpg                1                                       \n",
      "containsPlace                            Staten_Island                            1                                       \n",
      "geo                                      geo:40.67000000000033,-73.9400000000006  1                                       \n",
      "url                                                                               1                                       \n",
      "containedInPlace                         New_York_metropolitan_area               1                                       \n",
      "containedInPlace                         New_York_(state)                         1                                       \n",
      "iataCode                                 NYC                                      1                                       \n",
      "location                                 New_York_metropolitan_area               1                                       \n",
      "location                                 New_York_(state)                         1                                       \n",
      "foundingDate                             1624                                     1                                       \n",
      "leiCode                                  549300ABYZD2SFD5JB29                     1                                       \n",
      "22-rdf-syntax-ns#type                    Place                                    1                                       \n",
      "22-rdf-syntax-ns#type                    Corporation                              1                                       \n",
      "image                                    London%20Montage%20L.jpg                 1                                       \n",
      "geo                                      geo:51.50722222222264,-0.127500000000001 1                                       \n",
      "url                                                                               1                                       \n",
      "containedInPlace                         Great_Britain                            1                                       \n",
      "containedInPlace                         Greater_London                           1                                       \n",
      "iataCode                                 LON                                      1                                       \n",
      "location                                 Great_Britain                            1                                       \n",
      "location                                 Greater_London                           1                                       \n",
      "elevation                                e98d1721e91d342a0c94a27c3881f061         1                                       \n",
      "22-rdf-syntax-ns#type                    Financial_centre                         1                                       \n"
     ]
    },
    {
     "name": "stdin",
     "output_type": "stream",
     "text": [
      "Does the thing you are looking for have the attribute: image EmpireStateNewYokCity.jpg ? y\n"
     ]
    },
    {
     "name": "stdout",
     "output_type": "stream",
     "text": [
      "image                                    EmpireStateNewYokCity.jpg                1                                       \n",
      "containsPlace                            Staten_Island                            1                                       \n",
      "geo                                      geo:40.67000000000033,-73.9400000000006  1                                       \n",
      "url                                                                               1                                       \n",
      "containedInPlace                         New_York_metropolitan_area               1                                       \n",
      "containedInPlace                         New_York_(state)                         1                                       \n",
      "iataCode                                 NYC                                      1                                       \n",
      "location                                 New_York_metropolitan_area               1                                       \n",
      "location                                 New_York_(state)                         1                                       \n",
      "foundingDate                             1624                                     1                                       \n",
      "leiCode                                  549300ABYZD2SFD5JB29                     1                                       \n",
      "22-rdf-syntax-ns#type                    City                                     1                                       \n",
      "22-rdf-syntax-ns#type                    Place                                    1                                       \n",
      "22-rdf-syntax-ns#type                    Corporation                              1                                       \n",
      "22-rdf-syntax-ns#type                    popularEntity                            1                                       \n"
     ]
    },
    {
     "name": "stdin",
     "output_type": "stream",
     "text": [
      "Does the thing you are looking for have the attribute: image EmpireStateNewYokCity.jpg ? y\n"
     ]
    },
    {
     "name": "stdout",
     "output_type": "stream",
     "text": [
      "image                                    EmpireStateNewYokCity.jpg                1                                       \n",
      "containsPlace                            Staten_Island                            1                                       \n",
      "geo                                      geo:40.67000000000033,-73.9400000000006  1                                       \n",
      "url                                                                               1                                       \n",
      "containedInPlace                         New_York_metropolitan_area               1                                       \n",
      "containedInPlace                         New_York_(state)                         1                                       \n",
      "iataCode                                 NYC                                      1                                       \n",
      "location                                 New_York_metropolitan_area               1                                       \n",
      "location                                 New_York_(state)                         1                                       \n",
      "foundingDate                             1624                                     1                                       \n",
      "leiCode                                  549300ABYZD2SFD5JB29                     1                                       \n",
      "22-rdf-syntax-ns#type                    City                                     1                                       \n",
      "22-rdf-syntax-ns#type                    Place                                    1                                       \n",
      "22-rdf-syntax-ns#type                    Corporation                              1                                       \n",
      "22-rdf-syntax-ns#type                    popularEntity                            1                                       \n",
      "Your Answer is: New_York_City\n"
     ]
    }
   ],
   "source": [
    "#Always pritning the posible spilits \n",
    "i=0\n",
    "while i< 20:\n",
    "    if availableSplits[0]<=1:\n",
    "        break\n",
    "        \n",
    "    availableSplits, listOfObj ,listOfPred = extractCountAndAttr(qres)\n",
    "    index= bestSplit(availableSplits, availableSplits[0])\n",
    "    PosFilters, NegFilters = generateQuestion(listOfPred, listOfObj, index)\n",
    "    query = updateQuery(PosFilters, NegFilters)\n",
    "    qres = g.query(query)\n",
    "    for b in qres.bindings:\n",
    "        print(*[f'{x.split(\"/\")[-1][:40]:40s}' for x in b.values()][0:10]) \n",
    "\n",
    "finalResult= f\"\"\"\n",
    "            select distinct ?s\n",
    "            where \n",
    "            {{\n",
    "            \n",
    "            {PosFilters}\n",
    "            ?s ?p ?o\n",
    "            {NegFilters}\n",
    "            }} \"\"\"\n",
    "finalRes = g.query(finalResult)\n",
    "for b in finalRes.bindings:\n",
    "    print(*[f'Your Answer is: {x.split(\"/\")[-1]}' for x in b.values()][0:10]) "
   ]
  },
  {
   "cell_type": "code",
   "execution_count": 50,
   "metadata": {
    "colab": {
     "base_uri": "https://localhost:8080/"
    },
    "executionInfo": {
     "elapsed": 14129,
     "status": "ok",
     "timestamp": 1666254104762,
     "user": {
      "displayName": "BB Kruit",
      "userId": "04023879009079817469"
     },
     "user_tz": -120
    },
    "id": "e6f82c24",
    "outputId": "750edc7f-8497-4873-b9c0-be3fead68873"
   },
   "outputs": [],
   "source": [
    "#Cell To Reset the program:\n",
    "PosAttr=['?s <http://www.w3.org/1999/02/22-rdf-syntax-ns#type> <http://example.com/popularEntity> .']\n",
    "NegAttr=[]\n",
    "qres = g.query(\"\"\"\n",
    "select (count(*) as ?count) ?p ?o  where \n",
    "{\n",
    "    ?s <http://www.w3.org/1999/02/22-rdf-syntax-ns#type> <http://example.com/popularEntity> .\n",
    "    ?s ?p ?o .\n",
    "} \n",
    "group by ?p ?o \n",
    "order by desc(?count)\n",
    "limit 10\n",
    "\"\"\")\n",
    "availableSplits, listOfObj ,listOfPred = extractCountAndAttr(qres)\n",
    "index= bestSplit(availableSplits, availableSplits[0])"
   ]
  },
  {
   "cell_type": "code",
   "execution_count": 74,
   "metadata": {},
   "outputs": [
    {
     "name": "stdin",
     "output_type": "stream",
     "text": [
      "Does the thing you are looking for have the attribute: nationality United_States ? y\n"
     ]
    }
   ],
   "source": [
    "availableSplits, listOfObj ,listOfPred = extractCountAndAttr(qres)\n",
    "index= bestSplit(availableSplits, availableSplits[0])\n",
    "PosFilters, NegFilters = generateQuestion(listOfPred, listOfObj, index)\n",
    "query = updateQuery(PosFilters, NegFilters)\n",
    "\n"
   ]
  },
  {
   "cell_type": "code",
   "execution_count": 123,
   "metadata": {},
   "outputs": [],
   "source": [
    "from SPARQLWrapper import SPARQLWrapper , JSON, CSV, TSV, TURTLE\n",
    "import pandas as pd"
   ]
  },
  {
   "cell_type": "code",
   "execution_count": 124,
   "metadata": {},
   "outputs": [],
   "source": [
    "sparql = SPARQLWrapper(\"http://DESKTOP-D6TQ7G4:7200/repositories/20qs\")"
   ]
  },
  {
   "cell_type": "code",
   "execution_count": 161,
   "metadata": {},
   "outputs": [],
   "source": [
    "sparql.setQuery(query)\n",
    "sparql.setReturnFormat(JSON)\n",
    "qres = sparql.query().convert()\n",
    "\n",
    "    \n"
   ]
  },
  {
   "cell_type": "code",
   "execution_count": 159,
   "metadata": {},
   "outputs": [
    {
     "ename": "KeyError",
     "evalue": "'results'",
     "output_type": "error",
     "traceback": [
      "\u001b[1;31m---------------------------------------------------------------------------\u001b[0m",
      "\u001b[1;31mKeyError\u001b[0m                                  Traceback (most recent call last)",
      "Input \u001b[1;32mIn [159]\u001b[0m, in \u001b[0;36m<cell line: 1>\u001b[1;34m()\u001b[0m\n\u001b[1;32m----> 1\u001b[0m \u001b[38;5;28;01mfor\u001b[39;00m result \u001b[38;5;129;01min\u001b[39;00m \u001b[43mqres\u001b[49m\u001b[43m[\u001b[49m\u001b[38;5;124;43m'\u001b[39;49m\u001b[38;5;124;43mhead\u001b[39;49m\u001b[38;5;124;43m'\u001b[39;49m\u001b[43m]\u001b[49m\u001b[43m[\u001b[49m\u001b[38;5;124;43m'\u001b[39;49m\u001b[38;5;124;43mresults\u001b[39;49m\u001b[38;5;124;43m'\u001b[39;49m\u001b[43m]\u001b[49m:\n\u001b[0;32m      2\u001b[0m     \u001b[38;5;28mprint\u001b[39m(result)\n",
      "\u001b[1;31mKeyError\u001b[0m: 'results'"
     ]
    }
   ],
   "source": [
    "\n",
    "for result in qres['head']['results']:\n",
    "    print(result)"
   ]
  },
  {
   "cell_type": "code",
   "execution_count": 164,
   "metadata": {},
   "outputs": [
    {
     "name": "stdout",
     "output_type": "stream",
     "text": [
      "head {'vars': ['count', 'p', 'o']}\n",
      "results {'bindings': [{'count': {'datatype': 'http://www.w3.org/2001/XMLSchema#integer', 'type': 'literal', 'value': '93'}, 'p': {'type': 'uri', 'value': 'http://www.w3.org/1999/02/22-rdf-syntax-ns#type'}, 'o': {'type': 'uri', 'value': 'http://example.com/popularEntity'}}, {'count': {'datatype': 'http://www.w3.org/2001/XMLSchema#integer', 'type': 'literal', 'value': '93'}, 'p': {'type': 'uri', 'value': 'http://www.w3.org/1999/02/22-rdf-syntax-ns#type'}, 'o': {'type': 'uri', 'value': 'http://yago-knowledge.org/resource/Human'}}, {'count': {'datatype': 'http://www.w3.org/2001/XMLSchema#integer', 'type': 'literal', 'value': '93'}, 'p': {'type': 'uri', 'value': 'http://schema.org/nationality'}, 'o': {'type': 'uri', 'value': 'http://yago-knowledge.org/resource/United_States'}}, {'count': {'datatype': 'http://www.w3.org/2001/XMLSchema#integer', 'type': 'literal', 'value': '84'}, 'p': {'type': 'uri', 'value': 'http://schema.org/knowsLanguage'}, 'o': {'type': 'uri', 'value': 'http://yago-knowledge.org/resource/English_language'}}, {'count': {'datatype': 'http://www.w3.org/2001/XMLSchema#integer', 'type': 'literal', 'value': '61'}, 'p': {'type': 'uri', 'value': 'http://schema.org/hasOccupation'}, 'o': {'type': 'uri', 'value': 'http://yago-knowledge.org/resource/Actor'}}, {'count': {'datatype': 'http://www.w3.org/2001/XMLSchema#integer', 'type': 'literal', 'value': '44'}, 'p': {'type': 'uri', 'value': 'http://schema.org/hasOccupation'}, 'o': {'type': 'uri', 'value': 'http://yago-knowledge.org/resource/Film_producer'}}, {'count': {'datatype': 'http://www.w3.org/2001/XMLSchema#integer', 'type': 'literal', 'value': '34'}, 'p': {'type': 'uri', 'value': 'http://schema.org/hasOccupation'}, 'o': {'type': 'uri', 'value': 'http://yago-knowledge.org/resource/Screenwriter'}}, {'count': {'datatype': 'http://www.w3.org/2001/XMLSchema#integer', 'type': 'literal', 'value': '28'}, 'p': {'type': 'uri', 'value': 'http://schema.org/memberOf'}, 'o': {'type': 'uri', 'value': 'http://yago-knowledge.org/resource/Democratic_Party_(United_States)'}}, {'count': {'datatype': 'http://www.w3.org/2001/XMLSchema#integer', 'type': 'literal', 'value': '26'}, 'p': {'type': 'uri', 'value': 'http://schema.org/hasOccupation'}, 'o': {'type': 'uri', 'value': 'http://yago-knowledge.org/resource/Film_director'}}, {'count': {'datatype': 'http://www.w3.org/2001/XMLSchema#integer', 'type': 'literal', 'value': '18'}, 'p': {'type': 'uri', 'value': 'http://schema.org/homeLocation'}, 'o': {'type': 'uri', 'value': 'http://yago-knowledge.org/resource/Los_Angeles'}}, {'count': {'datatype': 'http://www.w3.org/2001/XMLSchema#integer', 'type': 'literal', 'value': '18'}, 'p': {'type': 'uri', 'value': 'http://schema.org/hasOccupation'}, 'o': {'type': 'uri', 'value': 'http://yago-knowledge.org/resource/Stage_actor'}}, {'count': {'datatype': 'http://www.w3.org/2001/XMLSchema#integer', 'type': 'literal', 'value': '13'}, 'p': {'type': 'uri', 'value': 'http://schema.org/hasOccupation'}, 'o': {'type': 'uri', 'value': 'http://yago-knowledge.org/resource/Politician'}}, {'count': {'datatype': 'http://www.w3.org/2001/XMLSchema#integer', 'type': 'literal', 'value': '13'}, 'p': {'type': 'uri', 'value': 'http://schema.org/hasOccupation'}, 'o': {'type': 'uri', 'value': 'http://yago-knowledge.org/resource/Songwriter'}}, {'count': {'datatype': 'http://www.w3.org/2001/XMLSchema#integer', 'type': 'literal', 'value': '12'}, 'p': {'type': 'uri', 'value': 'http://schema.org/hasOccupation'}, 'o': {'type': 'uri', 'value': 'http://yago-knowledge.org/resource/Writer'}}, {'count': {'datatype': 'http://www.w3.org/2001/XMLSchema#integer', 'type': 'literal', 'value': '11'}, 'p': {'type': 'uri', 'value': 'http://schema.org/memberOf'}, 'o': {'type': 'uri', 'value': 'http://yago-knowledge.org/resource/American_Academy_of_Arts_and_Sciences'}}, {'count': {'datatype': 'http://www.w3.org/2001/XMLSchema#integer', 'type': 'literal', 'value': '11'}, 'p': {'type': 'uri', 'value': 'http://schema.org/hasOccupation'}, 'o': {'type': 'uri', 'value': 'http://yago-knowledge.org/resource/Businessperson'}}, {'count': {'datatype': 'http://www.w3.org/2001/XMLSchema#integer', 'type': 'literal', 'value': '11'}, 'p': {'type': 'uri', 'value': 'http://schema.org/hasOccupation'}, 'o': {'type': 'uri', 'value': 'http://yago-knowledge.org/resource/Singer-songwriter'}}, {'count': {'datatype': 'http://www.w3.org/2001/XMLSchema#integer', 'type': 'literal', 'value': '10'}, 'p': {'type': 'uri', 'value': 'http://schema.org/award'}, 'o': {'type': 'uri', 'value': 'http://yago-knowledge.org/resource/Presidential_Medal_of_Freedom'}}, {'count': {'datatype': 'http://www.w3.org/2001/XMLSchema#integer', 'type': 'literal', 'value': '9'}, 'p': {'type': 'uri', 'value': 'http://schema.org/hasOccupation'}, 'o': {'type': 'uri', 'value': 'http://yago-knowledge.org/resource/Statesman'}}, {'count': {'datatype': 'http://www.w3.org/2001/XMLSchema#integer', 'type': 'literal', 'value': '8'}, 'p': {'type': 'uri', 'value': 'http://schema.org/memberOf'}, 'o': {'type': 'uri', 'value': 'http://yago-knowledge.org/resource/Republican_Party_(United_States)'}}, {'count': {'datatype': 'http://www.w3.org/2001/XMLSchema#integer', 'type': 'literal', 'value': '7'}, 'p': {'type': 'uri', 'value': 'http://schema.org/knowsLanguage'}, 'o': {'type': 'uri', 'value': 'http://yago-knowledge.org/resource/German_language'}}, {'count': {'datatype': 'http://www.w3.org/2001/XMLSchema#integer', 'type': 'literal', 'value': '7'}, 'p': {'type': 'uri', 'value': 'http://schema.org/alumniOf'}, 'o': {'type': 'uri', 'value': 'http://yago-knowledge.org/resource/Lee_Strasberg_Theatre_and_Film_Institute'}}, {'count': {'datatype': 'http://www.w3.org/2001/XMLSchema#integer', 'type': 'literal', 'value': '6'}, 'p': {'type': 'uri', 'value': 'http://schema.org/hasOccupation'}, 'o': {'type': 'uri', 'value': 'http://yago-knowledge.org/resource/Character_actor'}}, {'count': {'datatype': 'http://www.w3.org/2001/XMLSchema#integer', 'type': 'literal', 'value': '6'}, 'p': {'type': 'uri', 'value': 'http://schema.org/birthPlace'}, 'o': {'type': 'uri', 'value': 'http://yago-knowledge.org/resource/Los_Angeles'}}, {'count': {'datatype': 'http://www.w3.org/2001/XMLSchema#integer', 'type': 'literal', 'value': '6'}, 'p': {'type': 'uri', 'value': 'http://schema.org/award'}, 'o': {'type': 'uri', 'value': 'http://yago-knowledge.org/resource/Theatre_World_Award'}}]}\n"
     ]
    }
   ],
   "source": [
    "for i,j in qres.items():\n",
    "    print(i,j)"
   ]
  },
  {
   "cell_type": "code",
   "execution_count": 132,
   "metadata": {},
   "outputs": [
    {
     "data": {
      "text/html": [
       "<div>\n",
       "<style scoped>\n",
       "    .dataframe tbody tr th:only-of-type {\n",
       "        vertical-align: middle;\n",
       "    }\n",
       "\n",
       "    .dataframe tbody tr th {\n",
       "        vertical-align: top;\n",
       "    }\n",
       "\n",
       "    .dataframe thead th {\n",
       "        text-align: right;\n",
       "    }\n",
       "</style>\n",
       "<table border=\"1\" class=\"dataframe\">\n",
       "  <thead>\n",
       "    <tr style=\"text-align: right;\">\n",
       "      <th></th>\n",
       "      <th>head</th>\n",
       "      <th>results</th>\n",
       "    </tr>\n",
       "  </thead>\n",
       "  <tbody>\n",
       "    <tr>\n",
       "      <th>vars</th>\n",
       "      <td>[count, p, o]</td>\n",
       "      <td>NaN</td>\n",
       "    </tr>\n",
       "    <tr>\n",
       "      <th>bindings</th>\n",
       "      <td>NaN</td>\n",
       "      <td>[{'count': {'datatype': 'http://www.w3.org/200...</td>\n",
       "    </tr>\n",
       "  </tbody>\n",
       "</table>\n",
       "</div>"
      ],
      "text/plain": [
       "                   head                                            results\n",
       "vars      [count, p, o]                                                NaN\n",
       "bindings            NaN  [{'count': {'datatype': 'http://www.w3.org/200..."
      ]
     },
     "execution_count": 132,
     "metadata": {},
     "output_type": "execute_result"
    }
   ],
   "source": []
  },
  {
   "cell_type": "code",
   "execution_count": null,
   "metadata": {},
   "outputs": [],
   "source": []
  }
 ],
 "metadata": {
  "kernelspec": {
   "display_name": "Python 3 (ipykernel)",
   "language": "python",
   "name": "python3"
  },
  "language_info": {
   "codemirror_mode": {
    "name": "ipython",
    "version": 3
   },
   "file_extension": ".py",
   "mimetype": "text/x-python",
   "name": "python",
   "nbconvert_exporter": "python",
   "pygments_lexer": "ipython3",
   "version": "3.9.7"
  }
 },
 "nbformat": 4,
 "nbformat_minor": 4
}
