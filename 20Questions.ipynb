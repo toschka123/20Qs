{
 "cells": [
  {
   "cell_type": "code",
   "execution_count": 79,
   "metadata": {},
   "outputs": [
    {
     "data": {
      "text/plain": [
       "<Graph identifier=N147c964a488c4db5beacf00d21d6d2c0 (<class 'rdflib.graph.Graph'>)>"
      ]
     },
     "execution_count": 79,
     "metadata": {},
     "output_type": "execute_result"
    }
   ],
   "source": [
    "import rdflib\n",
    "import html\n",
    "g = rdflib.Graph().parse('./fb15k-wikitop2021-yago-facts.nt', format='ntriples')\n",
    "g += rdflib.Graph().parse('./fb15k-wikitop2021-yago-full-types.nt', format='ntriples')\n",
    "\n",
    "from rdflib.namespace import RDF\n",
    "for line in open('fb15k-wikitop2021.tsv').readlines()[1:]:\n",
    "    subject = rdflib.URIRef( line.split('\\t')[6][1:-1] ) # take the URI in column 6\n",
    "    g.add( (subject, RDF.type, rdflib.URIRef('http://example.com/popularEntity')) )\n",
    "    \n",
    "g.remove((None, rdflib.URIRef('http://schema.org/image') , None))\n",
    "g.remove((None, rdflib.URIRef('http://schema.org/url') , None))\n",
    "g.serialize(destination='20q-updated.ttl', format='turtle')"
   ]
  },
  {
   "cell_type": "code",
   "execution_count": 77,
   "metadata": {},
   "outputs": [],
   "source": [
    "r = g.query(\"\"\"\n",
    "select *  where \n",
    "{\n",
    "    ?s <http://www.w3.org/1999/02/22-rdf-syntax-ns#type> <http://example.com/popularEntity> .\n",
    "    ?s <http://schema.org/url> ?o .\n",
    "} \n",
    "\"\"\")\n",
    "for b in r.bindings:\n",
    "    print(*[f'{x}' for x in b.values()])"
   ]
  },
  {
   "cell_type": "markdown",
   "metadata": {},
   "source": [
    "## Code"
   ]
  },
  {
   "cell_type": "code",
   "execution_count": 1,
   "metadata": {},
   "outputs": [],
   "source": [
    "%load_ext ipython_sparql_pandas"
   ]
  },
  {
   "cell_type": "code",
   "execution_count": 80,
   "metadata": {},
   "outputs": [],
   "source": [
    "from SPARQLWrapper import SPARQLWrapper, JSON\n",
    "sparql = SPARQLWrapper('http://localhost:7200/repositories/20qs-updated')\n",
    "sparql.setReturnFormat(JSON)"
   ]
  },
  {
   "cell_type": "code",
   "execution_count": 81,
   "metadata": {},
   "outputs": [],
   "source": [
    "#from the query results extract a list that contains the counts after splitting on certain attributes\n",
    "PosAttr=['?s <http://www.w3.org/1999/02/22-rdf-syntax-ns#type> <http://example.com/popularEntity> .']\n",
    "NegAttr=[]\n",
    "AttrHistory = ['<http://www.w3.org/1999/02/22-rdf-syntax-ns#type> <http://example.com/popularEntity>']\n",
    "def extractCountAndAttr(result):\n",
    "    number = []\n",
    "    listOfObj = []\n",
    "    listOfPred= []\n",
    "    #ret = result.queryAndConvert()\n",
    "    for attr in result[\"results\"][\"bindings\"]:\n",
    "        listOfObj.append(attr['o'][\"value\"])\n",
    "        listOfPred.append(attr['p'][\"value\"])\n",
    "    return(listOfObj,listOfPred)\n",
    "\n",
    "\"\"\"\n",
    "def generateQuestion(listOfPred, listOfObj, index):\n",
    "    userAnswer = input(f'Does the thing you are looking for have the attribute: {listOfPred[index].split(\"/\")[-1]} {listOfObj[index].split(\"/\")[-1]} ?' ).startswith('y')\n",
    "    if userAnswer:\n",
    "        PosAttr.append('?s <' + str(listOfPred[index]) +'> <'+str(listOfObj[index])+ '>.' )   \n",
    "    else:\n",
    "        NegAttr.append('FILTER NOT EXISTS {{ \\n ?s <' + str(listOfPred[index]) +'> <'+str(listOfObj[index])+ '>. }}' )   \n",
    "    NegFilters = \"\\n\".join(NegAttr)\n",
    "    PosFilters = \"\\n\".join(PosAttr)\n",
    "    return (PosFilters, NegFilters)\"\"\"\n",
    "\n",
    "\n",
    "def generateQuestion(listOfPred, listOfObj, index):\n",
    "    if ('<' + str(listOfPred[index]) +'> <'+str(listOfObj[index])+ '>') in AttrHistory:\n",
    "        generateQuestion(listOfPred, listOfObj, index+1)\n",
    "        \n",
    "    else:\n",
    "        AttrHistory.append('<' + str(listOfPred[index]) +'> <'+str(listOfObj[index])+ '>')\n",
    "    userAnswer = input(f'Does the thing you are looking for have the attribute: {listOfPred[index].split(\"/\")[-1]} {listOfObj[index].split(\"/\")[-1]}?' )\n",
    "    \n",
    "    if userAnswer.startswith('y'):\n",
    "        PosAttr.append('?s <' + str(listOfPred[index]) +'> <'+str(listOfObj[index])+ '>.')    \n",
    "        \n",
    "    elif userAnswer.startswith('n'):\n",
    "        NegAttr.append('FILTER NOT EXISTS {{ \\n ?s <' + str(listOfPred[index]) +'> <'+str(listOfObj[index])+ '>. }}')   \n",
    "        \n",
    "    else:\n",
    "        generateQuestion(listOfPred, listOfObj, index+1)\n",
    "    NegFilters = \"\\n\".join(NegAttr)\n",
    "    PosFilters = \"\\n\".join(PosAttr)\n",
    "    return (PosFilters, NegFilters)\n",
    "\n",
    "\n",
    "  \n",
    "def updateQuery(left, PosFilters, NegFilters):\n",
    "    FilterQuestion =  (f\"\"\"\n",
    "            select (count(*) as ?count) ?p ?o  where \n",
    "            {{\n",
    "            \n",
    "            {PosFilters}\n",
    "             ?s ?p ?o .\n",
    "            {NegFilters}\n",
    "            }} \n",
    "            group by ?p ?o \n",
    "            ORDER BY ABS( {left} - ?count )\n",
    "            Limit 10\n",
    "            \n",
    "            \"\"\") \n",
    "        \n",
    "    return FilterQuestion"
   ]
  },
  {
   "cell_type": "code",
   "execution_count": 82,
   "metadata": {},
   "outputs": [],
   "source": [
    "def numberleft(PosFilters,NegFilters):\n",
    "    query =  f\"\"\"\n",
    "            select ?s where \n",
    "            {{\n",
    "            \n",
    "            {PosFilters}\n",
    "            ?s <http://www.w3.org/1999/02/22-rdf-syntax-ns#type> <http://example.com/popularEntity> .\n",
    "            {NegFilters} \n",
    "            \n",
    "            }}\n",
    "            \n",
    "            \"\"\" \n",
    "    sparql.setQuery(query)\n",
    "    sparql.setReturnFormat(JSON)\n",
    "    qres = sparql.query().convert() \n",
    "    return len(qres[\"results\"][\"bindings\"])"
   ]
  },
  {
   "cell_type": "code",
   "execution_count": 83,
   "metadata": {},
   "outputs": [],
   "source": [
    "# resets are variables\n",
    "def game_reset():\n",
    "    PosAttr= ['?s <http://www.w3.org/1999/02/22-rdf-syntax-ns#type> <http://example.com/popularEntity> .']\n",
    "    NegAttr= ['']\n",
    "    AttrHistory = ['<http://www.w3.org/1999/02/22-rdf-syntax-ns#type> <http://example.com/popularEntity>']\n",
    "    left = numberleft(\"\".join(PosAttr), \"\".join(NegAttr))\n",
    "    FilterQuestion =  f\"\"\"\n",
    "        select (count(*) as ?count) ?p ?o  where \n",
    "        {{\n",
    "\n",
    "        ?s <http://www.w3.org/1999/02/22-rdf-syntax-ns#type> <http://example.com/popularEntity> .\n",
    "        ?s ?p ?o .\n",
    "        }} \n",
    "        group by ?p ?o \n",
    "        ORDER BY ABS( %s - ?count )\n",
    "        limit 10\n",
    "        \"\"\" %((left/2))\n",
    "    sparql.setQuery(FilterQuestion)\n",
    "    sparql.setReturnFormat(JSON)\n",
    "    qres = sparql.query().convert()\n",
    "    listOfObj ,listOfPred = extractCountAndAttr(qres)\n",
    "    return (left, qres, PosAttr, NegAttr, AttrHistory)"
   ]
  },
  {
   "cell_type": "code",
   "execution_count": 84,
   "metadata": {},
   "outputs": [
    {
     "name": "stdout",
     "output_type": "stream",
     "text": [
      "Question: 1\n"
     ]
    },
    {
     "name": "stdin",
     "output_type": "stream",
     "text": [
      "Does the thing you are looking for have the attribute: nationality United_States? y\n"
     ]
    },
    {
     "name": "stdout",
     "output_type": "stream",
     "text": [
      "Question: 2\n"
     ]
    },
    {
     "name": "stdin",
     "output_type": "stream",
     "text": [
      "Does the thing you are looking for have the attribute: hasOccupation Film_producer? y\n"
     ]
    },
    {
     "name": "stdout",
     "output_type": "stream",
     "text": [
      "Question: 3\n"
     ]
    },
    {
     "name": "stdin",
     "output_type": "stream",
     "text": [
      "Does the thing you are looking for have the attribute: hasOccupation Film_director? y\n"
     ]
    },
    {
     "name": "stdout",
     "output_type": "stream",
     "text": [
      "Question: 4\n"
     ]
    },
    {
     "name": "stdin",
     "output_type": "stream",
     "text": [
      "Does the thing you are looking for have the attribute: memberOf Democratic_Party_(United_States)? y\n"
     ]
    },
    {
     "name": "stdout",
     "output_type": "stream",
     "text": [
      "Question: 5\n"
     ]
    },
    {
     "name": "stdin",
     "output_type": "stream",
     "text": [
      "Does the thing you are looking for have the attribute: award Theatre_World_Award? y\n"
     ]
    },
    {
     "name": "stdout",
     "output_type": "stream",
     "text": [
      "Question: 6\n"
     ]
    },
    {
     "name": "stdin",
     "output_type": "stream",
     "text": [
      "Does the thing you are looking for have the attribute: birthPlace Newton,_Massachusetts? y\n"
     ]
    },
    {
     "name": "stdout",
     "output_type": "stream",
     "text": [
      "Your Answer is: John_Krasinski\n"
     ]
    }
   ],
   "source": [
    "#without printing results\n",
    "left,qres,PosAttr,NegAttr,AttrHistory = game_reset()\n",
    "i=0\n",
    "while i < 20:\n",
    "   \n",
    "    listOfObj ,listOfPred = extractCountAndAttr(qres)\n",
    "    if left<=1:\n",
    "        break\n",
    "    print('Question: %s' %(i+1))\n",
    "    PosFilters, NegFilters = generateQuestion(listOfPred, listOfObj, 0)\n",
    "    left = numberleft(PosFilters, NegFilters)\n",
    "    query = updateQuery(left/2,PosFilters, NegFilters)\n",
    "    sparql.setQuery(query)\n",
    "    qres = sparql.queryAndConvert()\n",
    "    i += 1\n",
    "\n",
    "if i != 20:\n",
    "    finalResult= f\"\"\"\n",
    "                select distinct ?s\n",
    "                where \n",
    "                {{\n",
    "\n",
    "                {PosFilters}\n",
    "                ?s ?p ?o\n",
    "                {NegFilters}\n",
    "                }} \"\"\"\n",
    "    sparql.setQuery(finalResult)\n",
    "    finalRes = sparql.queryAndConvert()\n",
    "    for attr in finalRes[\"results\"][\"bindings\"]:\n",
    "        print(*[f'Your Answer is: {x.split(\"/\")[-1]}' for x in [attr['s']['value']]][0:10]) \n",
    "else: \n",
    "    print('lost')"
   ]
  },
  {
   "cell_type": "code",
   "execution_count": 85,
   "metadata": {},
   "outputs": [
    {
     "name": "stdout",
     "output_type": "stream",
     "text": [
      "Question: 1\n"
     ]
    },
    {
     "name": "stdin",
     "output_type": "stream",
     "text": [
      "Does the thing you are looking for have the attribute: nationality United_States? y\n"
     ]
    },
    {
     "name": "stdout",
     "output_type": "stream",
     "text": [
      "44                                       hasOccupation                            Film_producer                           \n",
      "34                                       hasOccupation                            Screenwriter                            \n",
      "61                                       hasOccupation                            Actor                                   \n",
      "28                                       memberOf                                 Democratic_Party_(United_States)        \n",
      "26                                       hasOccupation                            Film_director                           \n",
      "18                                       hasOccupation                            Stage_actor                             \n",
      "18                                       homeLocation                             Los_Angeles                             \n",
      "13                                       hasOccupation                            Songwriter                              \n",
      "13                                       hasOccupation                            Politician                              \n",
      "12                                       hasOccupation                            Writer                                  \n",
      "Question: 2\n"
     ]
    },
    {
     "name": "stdin",
     "output_type": "stream",
     "text": [
      "Does the thing you are looking for have the attribute: hasOccupation Film_producer? y\n"
     ]
    },
    {
     "name": "stdout",
     "output_type": "stream",
     "text": [
      "22                                       hasOccupation                            Film_director                           \n",
      "25                                       hasOccupation                            Screenwriter                            \n",
      "13                                       memberOf                                 Democratic_Party_(United_States)        \n",
      "13                                       homeLocation                             Los_Angeles                             \n",
      "9                                        hasOccupation                            Stage_actor                             \n",
      "37                                       hasOccupation                            Actor                                   \n",
      "6                                        hasOccupation                            Character_actor                         \n",
      "5                                        hasOccupation                            Singer-songwriter                       \n",
      "5                                        hasOccupation                            Songwriter                              \n",
      "5                                        hasOccupation                            Executive_producer                      \n",
      "Question: 3\n"
     ]
    },
    {
     "name": "stdin",
     "output_type": "stream",
     "text": [
      "Does the thing you are looking for have the attribute: hasOccupation Film_director? y\n"
     ]
    },
    {
     "name": "stdout",
     "output_type": "stream",
     "text": [
      "7                                        memberOf                                 Democratic_Party_(United_States)        \n",
      "7                                        homeLocation                             Los_Angeles                             \n",
      "16                                       hasOccupation                            Screenwriter                            \n",
      "16                                       hasOccupation                            Actor                                   \n",
      "6                                        hasOccupation                            Character_actor                         \n",
      "5                                        hasOccupation                            Writer                                  \n",
      "4                                        hasOccupation                            Stage_actor                             \n",
      "3                                        award                                    Theatre_World_Award                     \n",
      "3                                        award                                    Academy_Award_for_Best_Picture          \n",
      "3                                        award                                    Golden_Globe_Award_for_Best_Actor_–_Moti\n",
      "Question: 4\n"
     ]
    },
    {
     "name": "stdin",
     "output_type": "stream",
     "text": [
      "Does the thing you are looking for have the attribute: memberOf Democratic_Party_(United_States)? y\n"
     ]
    },
    {
     "name": "stdout",
     "output_type": "stream",
     "text": [
      "3                                        award                                    Theatre_World_Award                     \n",
      "3                                        homeLocation                             Los_Angeles                             \n",
      "4                                        hasOccupation                            Character_actor                         \n",
      "2                                        givenName                                John_(given_name)                       \n",
      "5                                        hasOccupation                            Screenwriter                            \n",
      "2                                        hasOccupation                            Stage_actor                             \n",
      "2                                        award                                    National_Society_of_Film_Critics_Award_f\n",
      "2                                        award                                    New_York_Film_Critics_Circle_Award_for_B\n",
      "2                                        award                                    Academy_Award_for_Best_Picture          \n",
      "2                                        award                                    Screen_Actors_Guild_Award_for_Outstandin\n",
      "Question: 5\n"
     ]
    },
    {
     "name": "stdin",
     "output_type": "stream",
     "text": [
      "Does the thing you are looking for have the attribute: award Theatre_World_Award? y\n"
     ]
    },
    {
     "name": "stdout",
     "output_type": "stream",
     "text": [
      "1                                        birthPlace                               Newton,_Massachusetts                   \n",
      "1                                        spouse                                   Emily_Blunt                             \n",
      "1                                        givenName                                John_(given_name)                       \n",
      "1                                        alumniOf                                 Newton_South_High_School                \n",
      "1                                        alumniOf                                 Brown_University                        \n",
      "1                                        birthDate                                1979-10-20                              \n",
      "2                                        hasOccupation                            Screenwriter                            \n",
      "2                                        hasOccupation                            Stage_actor                             \n",
      "1                                        birthPlace                               Amityville,_New_York                    \n",
      "1                                        award                                    Primetime_Emmy_Award_for_Outstanding_Sup\n",
      "Question: 6\n"
     ]
    },
    {
     "name": "stdin",
     "output_type": "stream",
     "text": [
      "Does the thing you are looking for have the attribute: birthPlace Newton,_Massachusetts? y\n"
     ]
    },
    {
     "name": "stdout",
     "output_type": "stream",
     "text": [
      "1                                        22-rdf-syntax-ns#type                    Human                                   \n",
      "1                                        22-rdf-syntax-ns#type                    popularEntity                           \n",
      "1                                        nationality                              United_States                           \n",
      "1                                        birthPlace                               Newton,_Massachusetts                   \n",
      "1                                        award                                    Theatre_World_Award                     \n",
      "1                                        spouse                                   Emily_Blunt                             \n",
      "1                                        givenName                                John_(given_name)                       \n",
      "1                                        alumniOf                                 Newton_South_High_School                \n",
      "1                                        alumniOf                                 Brown_University                        \n",
      "1                                        birthDate                                1979-10-20                              \n",
      "Your Answer is: John_Krasinski\n"
     ]
    }
   ],
   "source": [
    "# with count print\n",
    "left,qres,PosAttr,NegAttr,AttrHistory = game_reset()\n",
    "i=0\n",
    "while i < 20:\n",
    "    listOfObj ,listOfPred = extractCountAndAttr(qres)\n",
    "    if left<=1:\n",
    "        break\n",
    "    print('Question: %s' %(i+1))\n",
    "    PosFilters, NegFilters = generateQuestion(listOfPred, listOfObj, 0)\n",
    "    left = numberleft(PosFilters, NegFilters)\n",
    "    query = updateQuery(left/2,PosFilters, NegFilters)\n",
    "    sparql.setQuery(query)\n",
    "    qres = sparql.queryAndConvert()\n",
    "    for r in qres[\"results\"][\"bindings\"]:\n",
    "        print(*[f'{x.split(\"/\")[-1][:40]:40s}' for x in [r['count'][\"value\"],r['p'][\"value\"],r['o'][\"value\"]]])\n",
    "    i+=1\n",
    "\n",
    "if i != 20:\n",
    "    finalResult= f\"\"\"\n",
    "                select distinct ?s\n",
    "                where \n",
    "                {{\n",
    "\n",
    "                {PosFilters}\n",
    "                ?s ?p ?o\n",
    "                {NegFilters}\n",
    "                }} \"\"\"\n",
    "    sparql.setQuery(finalResult)\n",
    "    finalRes = sparql.queryAndConvert()\n",
    "    for attr in finalRes[\"results\"][\"bindings\"]:\n",
    "        print(*[f'Your Answer is: {x.split(\"/\")[-1]}' for x in [attr['s']['value']]][0:10]) \n",
    "else:\n",
    "    print('lost')"
   ]
  },
  {
   "cell_type": "code",
   "execution_count": 40,
   "metadata": {},
   "outputs": [
    {
     "name": "stdout",
     "output_type": "stream",
     "text": [
      "Question: 1\n",
      "['<http://www.w3.org/1999/02/22-rdf-syntax-ns#type> <http://example.com/popularEntity>']\n"
     ]
    },
    {
     "name": "stdin",
     "output_type": "stream",
     "text": [
      "Does the thing you are looking for have the attribute: nationality United_States? y\n"
     ]
    },
    {
     "name": "stdout",
     "output_type": "stream",
     "text": [
      "Possible Guesses:\n",
      "Kanye_West\n",
      "Eminem\n",
      "Jennifer_Aniston\n",
      "George_W._Bush\n",
      "Prince_(musician)\n",
      "John_Krasinski\n",
      "Val_Kilmer\n",
      "Brad_Pitt\n",
      "Barack_Obama\n",
      "Bill_Clinton\n",
      "Donald_Trump\n",
      "Jimmy_Carter\n",
      "Martin_Luther_King_Jr.\n",
      "Ronald_Reagan\n",
      "Matthew_Perry\n",
      "Robert_Downey_Jr.\n",
      "Marilyn_Manson\n",
      "Ben_Affleck\n",
      "Serena_Williams\n",
      "Michael_Jackson\n",
      "Nicolas_Cage\n",
      "Johnny_Depp\n",
      "Tobey_Maguire\n",
      "Sandra_Bullock\n",
      "Paul_Walker\n",
      "Mark_Wahlberg\n",
      "Alec_Baldwin\n",
      "Stanley_Tucci\n",
      "Frank_Sinatra\n",
      "Salma_Hayek\n",
      "Ryan_Reynolds\n",
      "Snoop_Dogg\n",
      "Ernest_Hemingway\n",
      "Brittany_Murphy\n",
      "Lady_Gaga\n",
      "Robin_Williams\n",
      "Will_Smith\n",
      "Mila_Kunis\n",
      "Quentin_Tarantino\n",
      "Tom_Hanks\n",
      "Arnold_Schwarzenegger\n",
      "Clint_Eastwood\n",
      "Julia_Roberts\n",
      "Sylvester_Stallone\n",
      "Judy_Garland\n",
      "Jake_Gyllenhaal\n",
      "Betty_White\n",
      "Tom_Cruise\n",
      "Jason_Sudeikis\n",
      "Scarlett_Johansson\n",
      "Elvis_Presley\n",
      "Vin_Diesel\n",
      "Angelina_Jolie\n",
      "Britney_Spears\n",
      "Emily_Blunt\n",
      "Selena_Gomez\n",
      "Blake_Lively\n",
      "Marilyn_Monroe\n",
      "Matthew_McConaughey\n",
      "Dwayne_Johnson\n",
      "Tupac_Shakur\n",
      "Abraham_Lincoln\n",
      "Macaulay_Culkin\n",
      "Kristen_Stewart\n",
      "Albert_Einstein\n",
      "Nicki_Minaj\n",
      "Emma_Stone\n",
      "Olivia_Wilde\n",
      "Aretha_Franklin\n",
      "Jennifer_Lawrence\n",
      "Bruce_Lee\n",
      "Aaliyah\n",
      "Chris_Evans_(actor)\n",
      "John_F._Kennedy\n",
      "Leonardo_DiCaprio\n",
      "Jason_Momoa\n",
      "Nicole_Kidman\n",
      "George_Washington\n",
      "Taylor_Swift\n",
      "DMX_(rapper)\n",
      "Megan_Fox\n",
      "Shaquille_O'Neal\n",
      "Franklin_D._Roosevelt\n",
      "Demi_Lovato\n",
      "Kobe_Bryant\n",
      "Kim_Kardashian\n",
      "Tom_Brady\n",
      "Travis_Barker\n",
      "Michael_Jordan\n",
      "Steve_Jobs\n",
      "LeBron_James\n",
      "Joe_Biden\n",
      "Nancy_Pelosi\n",
      "\n",
      "Question: 2\n",
      "['<http://www.w3.org/1999/02/22-rdf-syntax-ns#type> <http://example.com/popularEntity>', '<http://schema.org/nationality> <http://yago-knowledge.org/resource/United_States>']\n"
     ]
    },
    {
     "name": "stdin",
     "output_type": "stream",
     "text": [
      "Does the thing you are looking for have the attribute: hasOccupation Film_producer? y\n"
     ]
    },
    {
     "name": "stdout",
     "output_type": "stream",
     "text": [
      "Possible Guesses:\n",
      "Eminem\n",
      "Jennifer_Aniston\n",
      "Prince_(musician)\n",
      "John_Krasinski\n",
      "Val_Kilmer\n",
      "Brad_Pitt\n",
      "Matthew_Perry\n",
      "Robert_Downey_Jr.\n",
      "Ben_Affleck\n",
      "Nicolas_Cage\n",
      "Johnny_Depp\n",
      "Tobey_Maguire\n",
      "Sandra_Bullock\n",
      "Paul_Walker\n",
      "Mark_Wahlberg\n",
      "Alec_Baldwin\n",
      "Stanley_Tucci\n",
      "Frank_Sinatra\n",
      "Salma_Hayek\n",
      "Ryan_Reynolds\n",
      "Snoop_Dogg\n",
      "Robin_Williams\n",
      "Will_Smith\n",
      "Quentin_Tarantino\n",
      "Tom_Hanks\n",
      "Arnold_Schwarzenegger\n",
      "Clint_Eastwood\n",
      "Julia_Roberts\n",
      "Sylvester_Stallone\n",
      "Tom_Cruise\n",
      "Vin_Diesel\n",
      "Angelina_Jolie\n",
      "Selena_Gomez\n",
      "Marilyn_Monroe\n",
      "Matthew_McConaughey\n",
      "Dwayne_Johnson\n",
      "Jennifer_Lawrence\n",
      "Bruce_Lee\n",
      "Chris_Evans_(actor)\n",
      "Leonardo_DiCaprio\n",
      "Jason_Momoa\n",
      "Nicole_Kidman\n",
      "Shaquille_O'Neal\n",
      "Steve_Jobs\n",
      "\n",
      "Question: 3\n",
      "['<http://www.w3.org/1999/02/22-rdf-syntax-ns#type> <http://example.com/popularEntity>', '<http://schema.org/nationality> <http://yago-knowledge.org/resource/United_States>', '<http://schema.org/hasOccupation> <http://yago-knowledge.org/resource/Film_producer>']\n"
     ]
    },
    {
     "name": "stdin",
     "output_type": "stream",
     "text": [
      "Does the thing you are looking for have the attribute: hasOccupation Film_director? y\n"
     ]
    },
    {
     "name": "stdout",
     "output_type": "stream",
     "text": [
      "Possible Guesses:\n",
      "Prince_(musician)\n",
      "John_Krasinski\n",
      "Brad_Pitt\n",
      "Matthew_Perry\n",
      "Robert_Downey_Jr.\n",
      "Ben_Affleck\n",
      "Nicolas_Cage\n",
      "Johnny_Depp\n",
      "Alec_Baldwin\n",
      "Stanley_Tucci\n",
      "Salma_Hayek\n",
      "Quentin_Tarantino\n",
      "Tom_Hanks\n",
      "Arnold_Schwarzenegger\n",
      "Clint_Eastwood\n",
      "Sylvester_Stallone\n",
      "Tom_Cruise\n",
      "Vin_Diesel\n",
      "Angelina_Jolie\n",
      "Bruce_Lee\n",
      "Chris_Evans_(actor)\n",
      "Jason_Momoa\n",
      "\n",
      "Question: 4\n",
      "['<http://www.w3.org/1999/02/22-rdf-syntax-ns#type> <http://example.com/popularEntity>', '<http://schema.org/nationality> <http://yago-knowledge.org/resource/United_States>', '<http://schema.org/hasOccupation> <http://yago-knowledge.org/resource/Film_producer>', '<http://schema.org/hasOccupation> <http://yago-knowledge.org/resource/Film_director>']\n"
     ]
    },
    {
     "name": "stdin",
     "output_type": "stream",
     "text": [
      "Does the thing you are looking for have the attribute: memberOf Democratic_Party_(United_States)? y\n"
     ]
    },
    {
     "name": "stdout",
     "output_type": "stream",
     "text": [
      "Possible Guesses:\n",
      "John_Krasinski\n",
      "Brad_Pitt\n",
      "Ben_Affleck\n",
      "Nicolas_Cage\n",
      "Johnny_Depp\n",
      "Alec_Baldwin\n",
      "Tom_Hanks\n",
      "\n",
      "Question: 5\n",
      "['<http://www.w3.org/1999/02/22-rdf-syntax-ns#type> <http://example.com/popularEntity>', '<http://schema.org/nationality> <http://yago-knowledge.org/resource/United_States>', '<http://schema.org/hasOccupation> <http://yago-knowledge.org/resource/Film_producer>', '<http://schema.org/hasOccupation> <http://yago-knowledge.org/resource/Film_director>', '<http://schema.org/memberOf> <http://yago-knowledge.org/resource/Democratic_Party_(United_States)>']\n"
     ]
    },
    {
     "name": "stdin",
     "output_type": "stream",
     "text": [
      "Does the thing you are looking for have the attribute: award Theatre_World_Award? y\n"
     ]
    },
    {
     "name": "stdout",
     "output_type": "stream",
     "text": [
      "Possible Guesses:\n",
      "John_Krasinski\n",
      "Alec_Baldwin\n",
      "Tom_Hanks\n",
      "\n",
      "Question: 6\n",
      "['<http://www.w3.org/1999/02/22-rdf-syntax-ns#type> <http://example.com/popularEntity>', '<http://schema.org/nationality> <http://yago-knowledge.org/resource/United_States>', '<http://schema.org/hasOccupation> <http://yago-knowledge.org/resource/Film_producer>', '<http://schema.org/hasOccupation> <http://yago-knowledge.org/resource/Film_director>', '<http://schema.org/memberOf> <http://yago-knowledge.org/resource/Democratic_Party_(United_States)>', '<http://schema.org/award> <http://yago-knowledge.org/resource/Theatre_World_Award>']\n"
     ]
    },
    {
     "name": "stdin",
     "output_type": "stream",
     "text": [
      "Does the thing you are looking for have the attribute: birthPlace Newton,_Massachusetts? y\n"
     ]
    },
    {
     "name": "stdout",
     "output_type": "stream",
     "text": [
      "Possible Guesses:\n",
      "John_Krasinski\n",
      "\n",
      "Your Answer is: John_Krasinski\n"
     ]
    }
   ],
   "source": [
    "# with guess print\n",
    "def guess(PosFilters, NegFilters):\n",
    "    FilterQuestion =  f\"\"\"\n",
    "            select ?s  where \n",
    "            {{\n",
    "            {PosFilters}\n",
    "             ?s <http://www.w3.org/1999/02/22-rdf-syntax-ns#type> <http://example.com/popularEntity> .\n",
    "            {NegFilters}\n",
    "            }} \n",
    "            \"\"\"\n",
    "        \n",
    "    return FilterQuestion\n",
    "\n",
    "i=0\n",
    "left, qres, PosAttr, NegAttr, AttrHistory = game_reset()\n",
    "while i < 20:\n",
    "   \n",
    "    listOfObj ,listOfPred = extractCountAndAttr(qres)\n",
    "    if left<=1:\n",
    "        break\n",
    "    print('Question: %s' %(i+1))\n",
    "    PosFilters, NegFilters = generateQuestion(listOfPred, listOfObj, 0)\n",
    "    left = numberleft(PosFilters, NegFilters)\n",
    "    query = updateQuery(left/2, PosFilters, NegFilters)\n",
    "    sparql.setQuery(query)\n",
    "    qres = sparql.queryAndConvert()\n",
    "    guesses = guess(PosFilters, NegFilters)\n",
    "    sparql.setQuery(guesses)\n",
    "    subjectsleft = sparql.queryAndConvert()\n",
    "    print('Possible Guesses:')\n",
    "    for subject in subjectsleft['results']['bindings']:\n",
    "        print(*[f'{x.split(\"/\")[-1]}' for x in [subject['s']['value']]][0:10]) \n",
    "    print()\n",
    "    i += 1\n",
    "    \n",
    "if i != 20:\n",
    "    finalResult= f\"\"\"\n",
    "                select distinct ?s\n",
    "                where \n",
    "                {{\n",
    "\n",
    "                {PosFilters}\n",
    "                ?s ?p ?o\n",
    "                {NegFilters}\n",
    "                }} \"\"\"\n",
    "    sparql.setQuery(finalResult)\n",
    "    finalRes = sparql.queryAndConvert()\n",
    "    for attr in finalRes[\"results\"][\"bindings\"]:\n",
    "        print(*[f'Your Answer is: {x.split(\"/\")[-1]}' for x in [attr['s']['value']]][0:10]) "
   ]
  }
 ],
 "metadata": {
  "kernelspec": {
   "display_name": "Python 3 (ipykernel)",
   "language": "python",
   "name": "python3"
  },
  "language_info": {
   "codemirror_mode": {
    "name": "ipython",
    "version": 3
   },
   "file_extension": ".py",
   "mimetype": "text/x-python",
   "name": "python",
   "nbconvert_exporter": "python",
   "pygments_lexer": "ipython3",
   "version": "3.9.16"
  }
 },
 "nbformat": 4,
 "nbformat_minor": 4
}
