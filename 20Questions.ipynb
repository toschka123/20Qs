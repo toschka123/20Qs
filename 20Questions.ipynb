{
 "cells": [
  {
   "cell_type": "code",
   "execution_count": null,
   "metadata": {},
   "outputs": [],
   "source": [
    "import rdflib\n",
    "import html\n",
    "g = rdflib.Graph().parse('./fb15k-wikitop2021-yago-facts.nt', format='ntriples')\n",
    "g += rdflib.Graph().parse('./fb15k-wikitop2021-yago-full-types.nt', format='ntriples')\n",
    "\n",
    "from rdflib.namespace import RDF\n",
    "for line in open('fb15k-wikitop2021.tsv').readlines()[1:]:\n",
    "    subject = rdflib.URIRef( line.split('\\t')[6][1:-1] ) # take the URI in column 6\n",
    "    g.add( (subject, RDF.type, rdflib.URIRef('http://example.com/popularEntity')) )\n",
    "    \n",
    "g.remove((None, rdflib.URIRef('http://schema.org/image') , None))\n",
    "g.remove((None, rdflib.URIRef('http://schema.org/url') , None))\n",
    "g.serialize(destination='20q-updated.ttl', format='turtle')"
   ]
  },
  {
   "cell_type": "code",
   "execution_count": null,
   "metadata": {},
   "outputs": [],
   "source": [
    "r = g.query(\"\"\"\n",
    "select *  where \n",
    "{\n",
    "    ?s <http://www.w3.org/1999/02/22-rdf-syntax-ns#type> <http://example.com/popularEntity> .\n",
    "    ?s <http://schema.org/url> ?o .\n",
    "} \n",
    "\"\"\")\n",
    "for b in r.bindings:\n",
    "    print(*[f'{x}' for x in b.values()])"
   ]
  },
  {
   "cell_type": "markdown",
   "metadata": {},
   "source": [
    "## Code"
   ]
  },
  {
   "cell_type": "code",
   "execution_count": 17,
   "metadata": {},
   "outputs": [
    {
     "name": "stdout",
     "output_type": "stream",
     "text": [
      "The ipython_sparql_pandas extension is already loaded. To reload it, use:\n",
      "  %reload_ext ipython_sparql_pandas\n"
     ]
    }
   ],
   "source": [
    "%load_ext ipython_sparql_pandas"
   ]
  },
  {
   "cell_type": "code",
   "execution_count": 18,
   "metadata": {},
   "outputs": [],
   "source": [
    "from SPARQLWrapper import SPARQLWrapper, JSON\n",
    "sparql = SPARQLWrapper('http://localhost:7200/repositories/20qs-updated')\n",
    "sparql.setReturnFormat(JSON)"
   ]
  },
  {
   "cell_type": "code",
   "execution_count": 19,
   "metadata": {},
   "outputs": [],
   "source": [
    "#from the query results extract a list that contains the counts after splitting on certain attributes\n",
    "PosAttr=['?s <http://www.w3.org/1999/02/22-rdf-syntax-ns#type> <http://example.com/popularEntity> .']\n",
    "NegAttr=[]\n",
    "AttrHistory = ['<http://www.w3.org/1999/02/22-rdf-syntax-ns#type> <http://example.com/popularEntity>']\n",
    "def extractCountAndAttr(result):\n",
    "    number = []\n",
    "    listOfObj = []\n",
    "    listOfPred= []\n",
    "    #ret = result.queryAndConvert()\n",
    "    for attr in result[\"results\"][\"bindings\"]:\n",
    "        listOfObj.append(attr['o'][\"value\"])\n",
    "        listOfPred.append(attr['p'][\"value\"])\n",
    "    return(listOfObj,listOfPred)\n",
    "\n",
    "\"\"\"\n",
    "def generateQuestion(listOfPred, listOfObj, index):\n",
    "    userAnswer = input(f'Does the thing you are looking for have the attribute: {listOfPred[index].split(\"/\")[-1]} {listOfObj[index].split(\"/\")[-1]} ?' ).startswith('y')\n",
    "    if userAnswer:\n",
    "        PosAttr.append('?s <' + str(listOfPred[index]) +'> <'+str(listOfObj[index])+ '>.' )   \n",
    "    else:\n",
    "        NegAttr.append('FILTER NOT EXISTS {{ \\n ?s <' + str(listOfPred[index]) +'> <'+str(listOfObj[index])+ '>. }}' )   \n",
    "    NegFilters = \"\\n\".join(NegAttr)\n",
    "    PosFilters = \"\\n\".join(PosAttr)\n",
    "    return (PosFilters, NegFilters)\"\"\"\n",
    "\n",
    "\n",
    "def generateQuestion(listOfPred, listOfObj, index):\n",
    "    if ('<' + str(listOfPred[index]) +'> <'+str(listOfObj[index])+ '>') in AttrHistory:\n",
    "        generateQuestion(listOfPred, listOfObj, index+1)\n",
    "        \n",
    "    else:\n",
    "        AttrHistory.append('<' + str(listOfPred[index]) +'> <'+str(listOfObj[index])+ '>')\n",
    "    userAnswer = input(f'Does the thing you are looking for have the attribute: {listOfPred[index].split(\"/\")[-1]} {listOfObj[index].split(\"/\")[-1]}?' )\n",
    "    \n",
    "    if userAnswer.startswith('y'):\n",
    "        PosAttr.append('?s <' + str(listOfPred[index]) +'> <'+str(listOfObj[index])+ '>.')    \n",
    "        \n",
    "    elif userAnswer.startswith('n'):\n",
    "        NegAttr.append('FILTER NOT EXISTS {{ \\n ?s <' + str(listOfPred[index]) +'> <'+str(listOfObj[index])+ '>. }}')   \n",
    "        \n",
    "    else:\n",
    "        generateQuestion(listOfPred, listOfObj, index+1)\n",
    "    NegFilters = \"\\n\".join(NegAttr)\n",
    "    PosFilters = \"\\n\".join(PosAttr)\n",
    "    return (PosFilters, NegFilters)\n",
    "\n",
    "\n",
    "  \n",
    "def updateQuery(left, PosFilters, NegFilters):\n",
    "    FilterQuestion =  (f\"\"\"\n",
    "            select (count(*) as ?count) ?p ?o  where \n",
    "            {{\n",
    "            \n",
    "            {PosFilters}\n",
    "             ?s ?p ?o .\n",
    "            {NegFilters}\n",
    "            }} \n",
    "            group by ?p ?o \n",
    "            ORDER BY ABS( {left} - ?count )\n",
    "            Limit 10\n",
    "            \n",
    "            \"\"\") \n",
    "        \n",
    "    return FilterQuestion"
   ]
  },
  {
   "cell_type": "code",
   "execution_count": 20,
   "metadata": {},
   "outputs": [],
   "source": [
    "def numberleft(PosFilters,NegFilters):\n",
    "    query =  f\"\"\"\n",
    "            select ?s where \n",
    "            {{\n",
    "            \n",
    "            {PosFilters}\n",
    "            ?s <http://www.w3.org/1999/02/22-rdf-syntax-ns#type> <http://example.com/popularEntity> .\n",
    "            {NegFilters} \n",
    "            \n",
    "            }}\n",
    "            \n",
    "            \"\"\" \n",
    "    sparql.setQuery(query)\n",
    "    sparql.setReturnFormat(JSON)\n",
    "    qres = sparql.query().convert() \n",
    "    return len(qres[\"results\"][\"bindings\"])"
   ]
  },
  {
   "cell_type": "code",
   "execution_count": 21,
   "metadata": {},
   "outputs": [],
   "source": [
    "def popentities(PosFilters,NegFilters):\n",
    "    query =  f\"\"\"\n",
    "            select ?s where \n",
    "            {{\n",
    "            \n",
    "            {PosFilters}\n",
    "            ?s <http://www.w3.org/1999/02/22-rdf-syntax-ns#type> <http://example.com/popularEntity> .\n",
    "            {NegFilters} \n",
    "            \n",
    "            }}\n",
    "            \n",
    "            \"\"\" \n",
    "    sparql.setQuery(query)\n",
    "    sparql.setReturnFormat(JSON)\n",
    "    qres = sparql.query().convert() \n",
    "    return qres[\"results\"][\"bindings\"]"
   ]
  },
  {
   "cell_type": "code",
   "execution_count": 22,
   "metadata": {},
   "outputs": [],
   "source": [
    "# resets are variables\n",
    "def game_reset():\n",
    "    PosAttr= ['?s <http://www.w3.org/1999/02/22-rdf-syntax-ns#type> <http://example.com/popularEntity> .']\n",
    "    NegAttr= ['']\n",
    "    AttrHistory = ['<http://www.w3.org/1999/02/22-rdf-syntax-ns#type> <http://example.com/popularEntity>']\n",
    "    left = numberleft(\"\".join(PosAttr), \"\".join(NegAttr))\n",
    "    FilterQuestion =  f\"\"\"\n",
    "        select (count(*) as ?count) ?p ?o  where \n",
    "        {{\n",
    "\n",
    "        ?s <http://www.w3.org/1999/02/22-rdf-syntax-ns#type> <http://example.com/popularEntity> .\n",
    "        ?s ?p ?o .\n",
    "        }} \n",
    "        group by ?p ?o \n",
    "        ORDER BY ABS( %s - ?count )\n",
    "        limit 10\n",
    "        \"\"\" %((left/2))\n",
    "    sparql.setQuery(FilterQuestion)\n",
    "    sparql.setReturnFormat(JSON)\n",
    "    qres = sparql.query().convert()\n",
    "    listOfObj ,listOfPred = extractCountAndAttr(qres)\n",
    "    return (left, qres, PosAttr, NegAttr, AttrHistory)"
   ]
  },
  {
   "cell_type": "code",
   "execution_count": 23,
   "metadata": {},
   "outputs": [
    {
     "ename": "EndPointNotFound",
     "evalue": "EndPointNotFound: It was not possible to connect to the given endpoint: check it is correct. \n\nResponse:\nb'Unknown repository: 20qs-updated'",
     "output_type": "error",
     "traceback": [
      "\u001b[1;31m---------------------------------------------------------------------------\u001b[0m",
      "\u001b[1;31mHTTPError\u001b[0m                                 Traceback (most recent call last)",
      "File \u001b[1;32mE:\\Conda\\lib\\site-packages\\SPARQLWrapper\\Wrapper.py:926\u001b[0m, in \u001b[0;36mSPARQLWrapper._query\u001b[1;34m(self)\u001b[0m\n\u001b[0;32m    925\u001b[0m \u001b[38;5;28;01melse\u001b[39;00m:\n\u001b[1;32m--> 926\u001b[0m     response \u001b[38;5;241m=\u001b[39m \u001b[43murlopener\u001b[49m\u001b[43m(\u001b[49m\u001b[43mrequest\u001b[49m\u001b[43m)\u001b[49m\n\u001b[0;32m    927\u001b[0m \u001b[38;5;28;01mreturn\u001b[39;00m response, \u001b[38;5;28mself\u001b[39m\u001b[38;5;241m.\u001b[39mreturnFormat\n",
      "File \u001b[1;32mE:\\Conda\\lib\\urllib\\request.py:214\u001b[0m, in \u001b[0;36murlopen\u001b[1;34m(url, data, timeout, cafile, capath, cadefault, context)\u001b[0m\n\u001b[0;32m    213\u001b[0m     opener \u001b[38;5;241m=\u001b[39m _opener\n\u001b[1;32m--> 214\u001b[0m \u001b[38;5;28;01mreturn\u001b[39;00m \u001b[43mopener\u001b[49m\u001b[38;5;241;43m.\u001b[39;49m\u001b[43mopen\u001b[49m\u001b[43m(\u001b[49m\u001b[43murl\u001b[49m\u001b[43m,\u001b[49m\u001b[43m \u001b[49m\u001b[43mdata\u001b[49m\u001b[43m,\u001b[49m\u001b[43m \u001b[49m\u001b[43mtimeout\u001b[49m\u001b[43m)\u001b[49m\n",
      "File \u001b[1;32mE:\\Conda\\lib\\urllib\\request.py:523\u001b[0m, in \u001b[0;36mOpenerDirector.open\u001b[1;34m(self, fullurl, data, timeout)\u001b[0m\n\u001b[0;32m    522\u001b[0m     meth \u001b[38;5;241m=\u001b[39m \u001b[38;5;28mgetattr\u001b[39m(processor, meth_name)\n\u001b[1;32m--> 523\u001b[0m     response \u001b[38;5;241m=\u001b[39m \u001b[43mmeth\u001b[49m\u001b[43m(\u001b[49m\u001b[43mreq\u001b[49m\u001b[43m,\u001b[49m\u001b[43m \u001b[49m\u001b[43mresponse\u001b[49m\u001b[43m)\u001b[49m\n\u001b[0;32m    525\u001b[0m \u001b[38;5;28;01mreturn\u001b[39;00m response\n",
      "File \u001b[1;32mE:\\Conda\\lib\\urllib\\request.py:632\u001b[0m, in \u001b[0;36mHTTPErrorProcessor.http_response\u001b[1;34m(self, request, response)\u001b[0m\n\u001b[0;32m    631\u001b[0m \u001b[38;5;28;01mif\u001b[39;00m \u001b[38;5;129;01mnot\u001b[39;00m (\u001b[38;5;241m200\u001b[39m \u001b[38;5;241m<\u001b[39m\u001b[38;5;241m=\u001b[39m code \u001b[38;5;241m<\u001b[39m \u001b[38;5;241m300\u001b[39m):\n\u001b[1;32m--> 632\u001b[0m     response \u001b[38;5;241m=\u001b[39m \u001b[38;5;28;43mself\u001b[39;49m\u001b[38;5;241;43m.\u001b[39;49m\u001b[43mparent\u001b[49m\u001b[38;5;241;43m.\u001b[39;49m\u001b[43merror\u001b[49m\u001b[43m(\u001b[49m\n\u001b[0;32m    633\u001b[0m \u001b[43m        \u001b[49m\u001b[38;5;124;43m'\u001b[39;49m\u001b[38;5;124;43mhttp\u001b[39;49m\u001b[38;5;124;43m'\u001b[39;49m\u001b[43m,\u001b[49m\u001b[43m \u001b[49m\u001b[43mrequest\u001b[49m\u001b[43m,\u001b[49m\u001b[43m \u001b[49m\u001b[43mresponse\u001b[49m\u001b[43m,\u001b[49m\u001b[43m \u001b[49m\u001b[43mcode\u001b[49m\u001b[43m,\u001b[49m\u001b[43m \u001b[49m\u001b[43mmsg\u001b[49m\u001b[43m,\u001b[49m\u001b[43m \u001b[49m\u001b[43mhdrs\u001b[49m\u001b[43m)\u001b[49m\n\u001b[0;32m    635\u001b[0m \u001b[38;5;28;01mreturn\u001b[39;00m response\n",
      "File \u001b[1;32mE:\\Conda\\lib\\urllib\\request.py:561\u001b[0m, in \u001b[0;36mOpenerDirector.error\u001b[1;34m(self, proto, *args)\u001b[0m\n\u001b[0;32m    560\u001b[0m args \u001b[38;5;241m=\u001b[39m (\u001b[38;5;28mdict\u001b[39m, \u001b[38;5;124m'\u001b[39m\u001b[38;5;124mdefault\u001b[39m\u001b[38;5;124m'\u001b[39m, \u001b[38;5;124m'\u001b[39m\u001b[38;5;124mhttp_error_default\u001b[39m\u001b[38;5;124m'\u001b[39m) \u001b[38;5;241m+\u001b[39m orig_args\n\u001b[1;32m--> 561\u001b[0m \u001b[38;5;28;01mreturn\u001b[39;00m \u001b[38;5;28;43mself\u001b[39;49m\u001b[38;5;241;43m.\u001b[39;49m\u001b[43m_call_chain\u001b[49m\u001b[43m(\u001b[49m\u001b[38;5;241;43m*\u001b[39;49m\u001b[43margs\u001b[49m\u001b[43m)\u001b[49m\n",
      "File \u001b[1;32mE:\\Conda\\lib\\urllib\\request.py:494\u001b[0m, in \u001b[0;36mOpenerDirector._call_chain\u001b[1;34m(self, chain, kind, meth_name, *args)\u001b[0m\n\u001b[0;32m    493\u001b[0m func \u001b[38;5;241m=\u001b[39m \u001b[38;5;28mgetattr\u001b[39m(handler, meth_name)\n\u001b[1;32m--> 494\u001b[0m result \u001b[38;5;241m=\u001b[39m \u001b[43mfunc\u001b[49m\u001b[43m(\u001b[49m\u001b[38;5;241;43m*\u001b[39;49m\u001b[43margs\u001b[49m\u001b[43m)\u001b[49m\n\u001b[0;32m    495\u001b[0m \u001b[38;5;28;01mif\u001b[39;00m result \u001b[38;5;129;01mis\u001b[39;00m \u001b[38;5;129;01mnot\u001b[39;00m \u001b[38;5;28;01mNone\u001b[39;00m:\n",
      "File \u001b[1;32mE:\\Conda\\lib\\urllib\\request.py:641\u001b[0m, in \u001b[0;36mHTTPDefaultErrorHandler.http_error_default\u001b[1;34m(self, req, fp, code, msg, hdrs)\u001b[0m\n\u001b[0;32m    640\u001b[0m \u001b[38;5;28;01mdef\u001b[39;00m \u001b[38;5;21mhttp_error_default\u001b[39m(\u001b[38;5;28mself\u001b[39m, req, fp, code, msg, hdrs):\n\u001b[1;32m--> 641\u001b[0m     \u001b[38;5;28;01mraise\u001b[39;00m HTTPError(req\u001b[38;5;241m.\u001b[39mfull_url, code, msg, hdrs, fp)\n",
      "\u001b[1;31mHTTPError\u001b[0m: HTTP Error 404: ",
      "\nDuring handling of the above exception, another exception occurred:\n",
      "\u001b[1;31mEndPointNotFound\u001b[0m                          Traceback (most recent call last)",
      "Input \u001b[1;32mIn [23]\u001b[0m, in \u001b[0;36m<cell line: 5>\u001b[1;34m()\u001b[0m\n\u001b[0;32m      2\u001b[0m \u001b[38;5;28;01mimport\u001b[39;00m \u001b[38;5;21;01mrandom\u001b[39;00m\n\u001b[0;32m      4\u001b[0m \u001b[38;5;66;03m# Resets all variables\u001b[39;00m\n\u001b[1;32m----> 5\u001b[0m left,qres,PosAttr,NegAttr,AttrHistory \u001b[38;5;241m=\u001b[39m \u001b[43mgame_reset\u001b[49m\u001b[43m(\u001b[49m\u001b[43m)\u001b[49m\n\u001b[0;32m      6\u001b[0m i\u001b[38;5;241m=\u001b[39m\u001b[38;5;241m0\u001b[39m\n\u001b[0;32m      7\u001b[0m outofguess \u001b[38;5;241m=\u001b[39m []\n",
      "Input \u001b[1;32mIn [22]\u001b[0m, in \u001b[0;36mgame_reset\u001b[1;34m()\u001b[0m\n\u001b[0;32m      4\u001b[0m NegAttr\u001b[38;5;241m=\u001b[39m [\u001b[38;5;124m'\u001b[39m\u001b[38;5;124m'\u001b[39m]\n\u001b[0;32m      5\u001b[0m AttrHistory \u001b[38;5;241m=\u001b[39m [\u001b[38;5;124m'\u001b[39m\u001b[38;5;124m<http://www.w3.org/1999/02/22-rdf-syntax-ns#type> <http://example.com/popularEntity>\u001b[39m\u001b[38;5;124m'\u001b[39m]\n\u001b[1;32m----> 6\u001b[0m left \u001b[38;5;241m=\u001b[39m \u001b[43mnumberleft\u001b[49m\u001b[43m(\u001b[49m\u001b[38;5;124;43m\"\u001b[39;49m\u001b[38;5;124;43m\"\u001b[39;49m\u001b[38;5;241;43m.\u001b[39;49m\u001b[43mjoin\u001b[49m\u001b[43m(\u001b[49m\u001b[43mPosAttr\u001b[49m\u001b[43m)\u001b[49m\u001b[43m,\u001b[49m\u001b[43m \u001b[49m\u001b[38;5;124;43m\"\u001b[39;49m\u001b[38;5;124;43m\"\u001b[39;49m\u001b[38;5;241;43m.\u001b[39;49m\u001b[43mjoin\u001b[49m\u001b[43m(\u001b[49m\u001b[43mNegAttr\u001b[49m\u001b[43m)\u001b[49m\u001b[43m)\u001b[49m\n\u001b[0;32m      7\u001b[0m FilterQuestion \u001b[38;5;241m=\u001b[39m  \u001b[38;5;124mf\u001b[39m\u001b[38;5;124m\"\"\"\u001b[39m\n\u001b[0;32m      8\u001b[0m \u001b[38;5;124m    select (count(*) as ?count) ?p ?o  where \u001b[39m\n\u001b[0;32m      9\u001b[0m \u001b[38;5;124m    \u001b[39m\u001b[38;5;130;01m{{\u001b[39;00m\n\u001b[1;32m   (...)\u001b[0m\n\u001b[0;32m     16\u001b[0m \u001b[38;5;124m    limit 10\u001b[39m\n\u001b[0;32m     17\u001b[0m \u001b[38;5;124m    \u001b[39m\u001b[38;5;124m\"\"\"\u001b[39m \u001b[38;5;241m%\u001b[39m((left\u001b[38;5;241m/\u001b[39m\u001b[38;5;241m2\u001b[39m))\n\u001b[0;32m     18\u001b[0m sparql\u001b[38;5;241m.\u001b[39msetQuery(FilterQuestion)\n",
      "Input \u001b[1;32mIn [20]\u001b[0m, in \u001b[0;36mnumberleft\u001b[1;34m(PosFilters, NegFilters)\u001b[0m\n\u001b[0;32m     13\u001b[0m sparql\u001b[38;5;241m.\u001b[39msetQuery(query)\n\u001b[0;32m     14\u001b[0m sparql\u001b[38;5;241m.\u001b[39msetReturnFormat(JSON)\n\u001b[1;32m---> 15\u001b[0m qres \u001b[38;5;241m=\u001b[39m \u001b[43msparql\u001b[49m\u001b[38;5;241;43m.\u001b[39;49m\u001b[43mquery\u001b[49m\u001b[43m(\u001b[49m\u001b[43m)\u001b[49m\u001b[38;5;241m.\u001b[39mconvert() \n\u001b[0;32m     16\u001b[0m \u001b[38;5;28;01mreturn\u001b[39;00m \u001b[38;5;28mlen\u001b[39m(qres[\u001b[38;5;124m\"\u001b[39m\u001b[38;5;124mresults\u001b[39m\u001b[38;5;124m\"\u001b[39m][\u001b[38;5;124m\"\u001b[39m\u001b[38;5;124mbindings\u001b[39m\u001b[38;5;124m\"\u001b[39m])\n",
      "File \u001b[1;32mE:\\Conda\\lib\\site-packages\\SPARQLWrapper\\Wrapper.py:960\u001b[0m, in \u001b[0;36mSPARQLWrapper.query\u001b[1;34m(self)\u001b[0m\n\u001b[0;32m    942\u001b[0m \u001b[38;5;28;01mdef\u001b[39;00m \u001b[38;5;21mquery\u001b[39m(\u001b[38;5;28mself\u001b[39m) \u001b[38;5;241m-\u001b[39m\u001b[38;5;241m>\u001b[39m \u001b[38;5;124m\"\u001b[39m\u001b[38;5;124mQueryResult\u001b[39m\u001b[38;5;124m\"\u001b[39m:\n\u001b[0;32m    943\u001b[0m \u001b[38;5;250m    \u001b[39m\u001b[38;5;124;03m\"\"\"\u001b[39;00m\n\u001b[0;32m    944\u001b[0m \u001b[38;5;124;03m    Execute the query.\u001b[39;00m\n\u001b[0;32m    945\u001b[0m \u001b[38;5;124;03m    Exceptions can be raised if either the URI is wrong or the HTTP sends back an error (this is also the\u001b[39;00m\n\u001b[1;32m   (...)\u001b[0m\n\u001b[0;32m    958\u001b[0m \u001b[38;5;124;03m    :rtype: :class:`QueryResult` instance\u001b[39;00m\n\u001b[0;32m    959\u001b[0m \u001b[38;5;124;03m    \"\"\"\u001b[39;00m\n\u001b[1;32m--> 960\u001b[0m     \u001b[38;5;28;01mreturn\u001b[39;00m QueryResult(\u001b[38;5;28;43mself\u001b[39;49m\u001b[38;5;241;43m.\u001b[39;49m\u001b[43m_query\u001b[49m\u001b[43m(\u001b[49m\u001b[43m)\u001b[49m)\n",
      "File \u001b[1;32mE:\\Conda\\lib\\site-packages\\SPARQLWrapper\\Wrapper.py:932\u001b[0m, in \u001b[0;36mSPARQLWrapper._query\u001b[1;34m(self)\u001b[0m\n\u001b[0;32m    930\u001b[0m     \u001b[38;5;28;01mraise\u001b[39;00m QueryBadFormed(e\u001b[38;5;241m.\u001b[39mread())\n\u001b[0;32m    931\u001b[0m \u001b[38;5;28;01melif\u001b[39;00m e\u001b[38;5;241m.\u001b[39mcode \u001b[38;5;241m==\u001b[39m \u001b[38;5;241m404\u001b[39m:\n\u001b[1;32m--> 932\u001b[0m     \u001b[38;5;28;01mraise\u001b[39;00m EndPointNotFound(e\u001b[38;5;241m.\u001b[39mread())\n\u001b[0;32m    933\u001b[0m \u001b[38;5;28;01melif\u001b[39;00m e\u001b[38;5;241m.\u001b[39mcode \u001b[38;5;241m==\u001b[39m \u001b[38;5;241m401\u001b[39m:\n\u001b[0;32m    934\u001b[0m     \u001b[38;5;28;01mraise\u001b[39;00m Unauthorized(e\u001b[38;5;241m.\u001b[39mread())\n",
      "\u001b[1;31mEndPointNotFound\u001b[0m: EndPointNotFound: It was not possible to connect to the given endpoint: check it is correct. \n\nResponse:\nb'Unknown repository: 20qs-updated'"
     ]
    }
   ],
   "source": [
    "#without printing results\n",
    "import random\n",
    "\n",
    "# Resets all variables\n",
    "left,qres,PosAttr,NegAttr,AttrHistory = game_reset()\n",
    "i=0\n",
    "outofguess = []\n",
    "\n",
    "while i < 20:\n",
    "   \n",
    "    # list of Pred and Obj for questions\n",
    "    listOfObj ,listOfPred = extractCountAndAttr(qres)\n",
    "    \n",
    "    # if only 1 popular entity is left break\n",
    "    if left<=1:\n",
    "        break\n",
    "    \n",
    "    # ask question and add filters to query\n",
    "    print('Question: %s' %(i+1))\n",
    "    PosFilters, NegFilters = generateQuestion(listOfPred, listOfObj, 0)\n",
    "    \n",
    "    # number of popular entities left\n",
    "    left = numberleft(PosFilters, NegFilters)\n",
    "    \n",
    "    # run query\n",
    "    query = updateQuery(left/2,PosFilters, NegFilters)\n",
    "    sparql.setQuery(query)\n",
    "    qres = sparql.queryAndConvert()\n",
    "    \n",
    "    i+=1\n",
    "\n",
    "# Prints answer\n",
    "if i != 20:\n",
    "    for attr in popentities(PosFilters, NegFilters):\n",
    "        print(*[f'Your Answer is: {x.split(\"/\")[-1]}' for x in [attr['s']['value']]][0:10]) \n",
    "\n",
    "# ran out of questions\n",
    "else:\n",
    "    print('Final Question:')\n",
    "    for j in popentities(PosFilters, NegFilters):\n",
    "            outofguess.append(f'{j[0].split(\"/\")[-1][:40]:40s}')\n",
    "    guess = random.choice(outofguess)\n",
    "    print(guess)\n",
    "    answer = (input('Is this correct?').startswith('y'))\n",
    "    if answer is True:\n",
    "        print('Win')\n",
    "    else:\n",
    "        print('game over')"
   ]
  },
  {
   "cell_type": "code",
   "execution_count": 11,
   "metadata": {},
   "outputs": [
    {
     "name": "stdout",
     "output_type": "stream",
     "text": [
      "Question: 1\n"
     ]
    },
    {
     "name": "stdin",
     "output_type": "stream",
     "text": [
      "Does the thing you are looking for have the attribute: nationality United_States? y\n"
     ]
    },
    {
     "name": "stdout",
     "output_type": "stream",
     "text": [
      "44                                       hasOccupation                            Film_producer                           \n",
      "34                                       hasOccupation                            Screenwriter                            \n",
      "61                                       hasOccupation                            Actor                                   \n",
      "28                                       memberOf                                 Democratic_Party_(United_States)        \n",
      "26                                       hasOccupation                            Film_director                           \n",
      "18                                       hasOccupation                            Stage_actor                             \n",
      "18                                       homeLocation                             Los_Angeles                             \n",
      "13                                       hasOccupation                            Songwriter                              \n",
      "13                                       hasOccupation                            Politician                              \n",
      "12                                       hasOccupation                            Writer                                  \n",
      "Question: 2\n"
     ]
    },
    {
     "name": "stdin",
     "output_type": "stream",
     "text": [
      "Does the thing you are looking for have the attribute: hasOccupation Film_producer? y\n"
     ]
    },
    {
     "name": "stdout",
     "output_type": "stream",
     "text": [
      "22                                       hasOccupation                            Film_director                           \n",
      "25                                       hasOccupation                            Screenwriter                            \n",
      "13                                       memberOf                                 Democratic_Party_(United_States)        \n",
      "13                                       homeLocation                             Los_Angeles                             \n",
      "9                                        hasOccupation                            Stage_actor                             \n",
      "37                                       hasOccupation                            Actor                                   \n",
      "6                                        hasOccupation                            Character_actor                         \n",
      "5                                        hasOccupation                            Singer-songwriter                       \n",
      "5                                        hasOccupation                            Songwriter                              \n",
      "5                                        hasOccupation                            Executive_producer                      \n",
      "Question: 3\n"
     ]
    },
    {
     "name": "stdin",
     "output_type": "stream",
     "text": [
      "Does the thing you are looking for have the attribute: hasOccupation Film_director? y\n"
     ]
    },
    {
     "name": "stdout",
     "output_type": "stream",
     "text": [
      "7                                        memberOf                                 Democratic_Party_(United_States)        \n",
      "7                                        homeLocation                             Los_Angeles                             \n",
      "16                                       hasOccupation                            Screenwriter                            \n",
      "16                                       hasOccupation                            Actor                                   \n",
      "6                                        hasOccupation                            Character_actor                         \n",
      "5                                        hasOccupation                            Writer                                  \n",
      "4                                        hasOccupation                            Stage_actor                             \n",
      "3                                        award                                    Theatre_World_Award                     \n",
      "3                                        award                                    Academy_Award_for_Best_Picture          \n",
      "3                                        award                                    Golden_Globe_Award_for_Best_Actor_–_Moti\n",
      "Question: 4\n"
     ]
    },
    {
     "name": "stdin",
     "output_type": "stream",
     "text": [
      "Does the thing you are looking for have the attribute: memberOf Democratic_Party_(United_States)? y\n"
     ]
    },
    {
     "name": "stdout",
     "output_type": "stream",
     "text": [
      "3                                        award                                    Theatre_World_Award                     \n",
      "3                                        homeLocation                             Los_Angeles                             \n",
      "4                                        hasOccupation                            Character_actor                         \n",
      "2                                        givenName                                John_(given_name)                       \n",
      "5                                        hasOccupation                            Screenwriter                            \n",
      "2                                        hasOccupation                            Stage_actor                             \n",
      "2                                        award                                    National_Society_of_Film_Critics_Award_f\n",
      "2                                        award                                    New_York_Film_Critics_Circle_Award_for_B\n",
      "2                                        award                                    Academy_Award_for_Best_Picture          \n",
      "2                                        award                                    Screen_Actors_Guild_Award_for_Outstandin\n",
      "Question: 5\n"
     ]
    },
    {
     "name": "stdin",
     "output_type": "stream",
     "text": [
      "Does the thing you are looking for have the attribute: award Theatre_World_Award? y\n"
     ]
    },
    {
     "name": "stdout",
     "output_type": "stream",
     "text": [
      "1                                        birthPlace                               Newton,_Massachusetts                   \n",
      "1                                        spouse                                   Emily_Blunt                             \n",
      "1                                        givenName                                John_(given_name)                       \n",
      "1                                        alumniOf                                 Newton_South_High_School                \n",
      "1                                        alumniOf                                 Brown_University                        \n",
      "1                                        birthDate                                1979-10-20                              \n",
      "2                                        hasOccupation                            Screenwriter                            \n",
      "2                                        hasOccupation                            Stage_actor                             \n",
      "1                                        birthPlace                               Amityville,_New_York                    \n",
      "1                                        award                                    Primetime_Emmy_Award_for_Outstanding_Sup\n",
      "Question: 6\n"
     ]
    },
    {
     "name": "stdin",
     "output_type": "stream",
     "text": [
      "Does the thing you are looking for have the attribute: birthPlace Newton,_Massachusetts? y\n"
     ]
    },
    {
     "name": "stdout",
     "output_type": "stream",
     "text": [
      "1                                        22-rdf-syntax-ns#type                    Human                                   \n",
      "1                                        22-rdf-syntax-ns#type                    popularEntity                           \n",
      "1                                        nationality                              United_States                           \n",
      "1                                        birthPlace                               Newton,_Massachusetts                   \n",
      "1                                        award                                    Theatre_World_Award                     \n",
      "1                                        spouse                                   Emily_Blunt                             \n",
      "1                                        givenName                                John_(given_name)                       \n",
      "1                                        alumniOf                                 Newton_South_High_School                \n",
      "1                                        alumniOf                                 Brown_University                        \n",
      "1                                        birthDate                                1979-10-20                              \n",
      "Your Answer is: John_Krasinski\n"
     ]
    }
   ],
   "source": [
    "# with count print\n",
    "import random\n",
    "\n",
    "# Resets all variables\n",
    "left,qres,PosAttr,NegAttr,AttrHistory = game_reset()\n",
    "i=0\n",
    "outofguess = []\n",
    "\n",
    "while i < 20:\n",
    "    \n",
    "    # list of Pred and Obj for questions\n",
    "    listOfObj ,listOfPred = extractCountAndAttr(qres)\n",
    "    \n",
    "    # if only 1 popular entity is left break\n",
    "    if left<=1:\n",
    "        break\n",
    "     \n",
    "    # ask question and add filters to query\n",
    "    print('Question: %s' %(i+1))\n",
    "    PosFilters, NegFilters = generateQuestion(listOfPred, listOfObj, 0)\n",
    "    \n",
    "    # number of popular entities left\n",
    "    left = numberleft(PosFilters, NegFilters)\n",
    "    \n",
    "    # run query\n",
    "    query = updateQuery(left/2,PosFilters, NegFilters)\n",
    "    sparql.setQuery(query)\n",
    "    qres = sparql.queryAndConvert()\n",
    "    \n",
    "    # prints splits for top Pred and Objs \n",
    "    for r in qres[\"results\"][\"bindings\"]:\n",
    "        print(*[f'{x.split(\"/\")[-1][:40]:40s}' for x in [r['count'][\"value\"],r['p'][\"value\"],r['o'][\"value\"]]])\n",
    "        \n",
    "    i+=1\n",
    "\n",
    "# Prints answer\n",
    "if i != 20:\n",
    "    for attr in popentities(PosFilters, NegFilters):\n",
    "        print(*[f'Your Answer is: {x.split(\"/\")[-1]}' for x in [attr['s']['value']]][0:10])\n",
    "        \n",
    "# ran out of questions\n",
    "else:\n",
    "    print('Final Question:')\n",
    "    for j in popentities(PosFilters, NegFilters):\n",
    "            outofguess.append(f'{j[0].split(\"/\")[-1][:40]:40s}')\n",
    "    guess = random.choice(outofguess)\n",
    "    print(guess)\n",
    "    answer = (input('Is this correct?').startswith('y'))\n",
    "    if answer is True:\n",
    "        print('Win')\n",
    "    else:\n",
    "        print('game over')"
   ]
  },
  {
   "cell_type": "code",
   "execution_count": 12,
   "metadata": {},
   "outputs": [
    {
     "name": "stdout",
     "output_type": "stream",
     "text": [
      "Question: 1\n"
     ]
    },
    {
     "name": "stdin",
     "output_type": "stream",
     "text": [
      "Does the thing you are looking for have the attribute: nationality United_States? y\n"
     ]
    },
    {
     "name": "stdout",
     "output_type": "stream",
     "text": [
      "Possible Guesses:\n",
      "Kanye_West\n",
      "Eminem\n",
      "Jennifer_Aniston\n",
      "George_W._Bush\n",
      "Prince_(musician)\n",
      "John_Krasinski\n",
      "Val_Kilmer\n",
      "Brad_Pitt\n",
      "Barack_Obama\n",
      "Bill_Clinton\n",
      "Donald_Trump\n",
      "Jimmy_Carter\n",
      "Martin_Luther_King_Jr.\n",
      "Ronald_Reagan\n",
      "Matthew_Perry\n",
      "Robert_Downey_Jr.\n",
      "Marilyn_Manson\n",
      "Ben_Affleck\n",
      "Serena_Williams\n",
      "Michael_Jackson\n",
      "Nicolas_Cage\n",
      "Johnny_Depp\n",
      "Tobey_Maguire\n",
      "Sandra_Bullock\n",
      "Paul_Walker\n",
      "Mark_Wahlberg\n",
      "Alec_Baldwin\n",
      "Stanley_Tucci\n",
      "Frank_Sinatra\n",
      "Salma_Hayek\n",
      "Ryan_Reynolds\n",
      "Snoop_Dogg\n",
      "Ernest_Hemingway\n",
      "Brittany_Murphy\n",
      "Lady_Gaga\n",
      "Robin_Williams\n",
      "Will_Smith\n",
      "Mila_Kunis\n",
      "Quentin_Tarantino\n",
      "Tom_Hanks\n",
      "Arnold_Schwarzenegger\n",
      "Clint_Eastwood\n",
      "Julia_Roberts\n",
      "Sylvester_Stallone\n",
      "Judy_Garland\n",
      "Jake_Gyllenhaal\n",
      "Betty_White\n",
      "Tom_Cruise\n",
      "Jason_Sudeikis\n",
      "Scarlett_Johansson\n",
      "Elvis_Presley\n",
      "Vin_Diesel\n",
      "Angelina_Jolie\n",
      "Britney_Spears\n",
      "Emily_Blunt\n",
      "Selena_Gomez\n",
      "Blake_Lively\n",
      "Marilyn_Monroe\n",
      "Matthew_McConaughey\n",
      "Dwayne_Johnson\n",
      "Tupac_Shakur\n",
      "Abraham_Lincoln\n",
      "Macaulay_Culkin\n",
      "Kristen_Stewart\n",
      "Albert_Einstein\n",
      "Nicki_Minaj\n",
      "Emma_Stone\n",
      "Olivia_Wilde\n",
      "Aretha_Franklin\n",
      "Jennifer_Lawrence\n",
      "Bruce_Lee\n",
      "Aaliyah\n",
      "Chris_Evans_(actor)\n",
      "John_F._Kennedy\n",
      "Leonardo_DiCaprio\n",
      "Jason_Momoa\n",
      "Nicole_Kidman\n",
      "George_Washington\n",
      "Taylor_Swift\n",
      "DMX_(rapper)\n",
      "Megan_Fox\n",
      "Shaquille_O'Neal\n",
      "Franklin_D._Roosevelt\n",
      "Demi_Lovato\n",
      "Kobe_Bryant\n",
      "Kim_Kardashian\n",
      "Tom_Brady\n",
      "Travis_Barker\n",
      "Michael_Jordan\n",
      "Steve_Jobs\n",
      "LeBron_James\n",
      "Joe_Biden\n",
      "Nancy_Pelosi\n",
      "\n",
      "Question: 2\n"
     ]
    },
    {
     "name": "stdin",
     "output_type": "stream",
     "text": [
      "Does the thing you are looking for have the attribute: hasOccupation Film_producer? y\n"
     ]
    },
    {
     "name": "stdout",
     "output_type": "stream",
     "text": [
      "Possible Guesses:\n",
      "Eminem\n",
      "Jennifer_Aniston\n",
      "Prince_(musician)\n",
      "John_Krasinski\n",
      "Val_Kilmer\n",
      "Brad_Pitt\n",
      "Matthew_Perry\n",
      "Robert_Downey_Jr.\n",
      "Ben_Affleck\n",
      "Nicolas_Cage\n",
      "Johnny_Depp\n",
      "Tobey_Maguire\n",
      "Sandra_Bullock\n",
      "Paul_Walker\n",
      "Mark_Wahlberg\n",
      "Alec_Baldwin\n",
      "Stanley_Tucci\n",
      "Frank_Sinatra\n",
      "Salma_Hayek\n",
      "Ryan_Reynolds\n",
      "Snoop_Dogg\n",
      "Robin_Williams\n",
      "Will_Smith\n",
      "Quentin_Tarantino\n",
      "Tom_Hanks\n",
      "Arnold_Schwarzenegger\n",
      "Clint_Eastwood\n",
      "Julia_Roberts\n",
      "Sylvester_Stallone\n",
      "Tom_Cruise\n",
      "Vin_Diesel\n",
      "Angelina_Jolie\n",
      "Selena_Gomez\n",
      "Marilyn_Monroe\n",
      "Matthew_McConaughey\n",
      "Dwayne_Johnson\n",
      "Jennifer_Lawrence\n",
      "Bruce_Lee\n",
      "Chris_Evans_(actor)\n",
      "Leonardo_DiCaprio\n",
      "Jason_Momoa\n",
      "Nicole_Kidman\n",
      "Shaquille_O'Neal\n",
      "Steve_Jobs\n",
      "\n",
      "Question: 3\n"
     ]
    },
    {
     "name": "stdin",
     "output_type": "stream",
     "text": [
      "Does the thing you are looking for have the attribute: hasOccupation Film_director? y\n"
     ]
    },
    {
     "name": "stdout",
     "output_type": "stream",
     "text": [
      "Possible Guesses:\n",
      "Prince_(musician)\n",
      "John_Krasinski\n",
      "Brad_Pitt\n",
      "Matthew_Perry\n",
      "Robert_Downey_Jr.\n",
      "Ben_Affleck\n",
      "Nicolas_Cage\n",
      "Johnny_Depp\n",
      "Alec_Baldwin\n",
      "Stanley_Tucci\n",
      "Salma_Hayek\n",
      "Quentin_Tarantino\n",
      "Tom_Hanks\n",
      "Arnold_Schwarzenegger\n",
      "Clint_Eastwood\n",
      "Sylvester_Stallone\n",
      "Tom_Cruise\n",
      "Vin_Diesel\n",
      "Angelina_Jolie\n",
      "Bruce_Lee\n",
      "Chris_Evans_(actor)\n",
      "Jason_Momoa\n",
      "\n",
      "Question: 4\n"
     ]
    },
    {
     "name": "stdin",
     "output_type": "stream",
     "text": [
      "Does the thing you are looking for have the attribute: memberOf Democratic_Party_(United_States)? y\n"
     ]
    },
    {
     "name": "stdout",
     "output_type": "stream",
     "text": [
      "Possible Guesses:\n",
      "John_Krasinski\n",
      "Brad_Pitt\n",
      "Ben_Affleck\n",
      "Nicolas_Cage\n",
      "Johnny_Depp\n",
      "Alec_Baldwin\n",
      "Tom_Hanks\n",
      "\n",
      "Question: 5\n"
     ]
    },
    {
     "name": "stdin",
     "output_type": "stream",
     "text": [
      "Does the thing you are looking for have the attribute: award Theatre_World_Award? y\n"
     ]
    },
    {
     "name": "stdout",
     "output_type": "stream",
     "text": [
      "Possible Guesses:\n",
      "John_Krasinski\n",
      "Alec_Baldwin\n",
      "Tom_Hanks\n",
      "\n",
      "Question: 6\n"
     ]
    },
    {
     "name": "stdin",
     "output_type": "stream",
     "text": [
      "Does the thing you are looking for have the attribute: birthPlace Newton,_Massachusetts? y\n"
     ]
    },
    {
     "name": "stdout",
     "output_type": "stream",
     "text": [
      "Possible Guesses:\n",
      "John_Krasinski\n",
      "\n",
      "Your Answer is: John_Krasinski\n"
     ]
    }
   ],
   "source": [
    "# with guess print\n",
    "import random\n",
    "\n",
    "# Resets all variables\n",
    "left, qres, PosAttr, NegAttr, AttrHistory = game_reset()\n",
    "i=0\n",
    "outofguess = []\n",
    "\n",
    "while i < 20:\n",
    "   \n",
    "    # list of Pred and Obj for questions\n",
    "    listOfObj ,listOfPred = extractCountAndAttr(qres)\n",
    "    \n",
    "    # if only 1 popular entity is left break\n",
    "    if left<=1:\n",
    "        break\n",
    "        \n",
    "    # ask question and add filters to query\n",
    "    print('Question: %s' %(i+1))\n",
    "    PosFilters, NegFilters = generateQuestion(listOfPred, listOfObj, 0)\n",
    "    \n",
    "    # number of popular entities left\n",
    "    left = numberleft(PosFilters, NegFilters)\n",
    "    \n",
    "    # run query\n",
    "    query = updateQuery(left/2, PosFilters, NegFilters)\n",
    "    sparql.setQuery(query)\n",
    "    qres = sparql.queryAndConvert()\n",
    "    \n",
    "    # prints possible entities left\n",
    "    print('Possible Guesses:')\n",
    "    for subject in popentities(PosFilters, NegFilters):\n",
    "        print(*[f'{x.split(\"/\")[-1]}' for x in [subject['s']['value']]][0:10]) \n",
    "        \n",
    "    print()\n",
    "    i+=1\n",
    "\n",
    "# Prints answer\n",
    "if i != 20:\n",
    "    for attr in popentities(PosFilters, NegFilters):\n",
    "        print(*[f'Your Answer is: {x.split(\"/\")[-1]}' for x in [attr['s']['value']]][0:10])\n",
    "        \n",
    "# ran out of questions\n",
    "else:\n",
    "    print('Final Question:')\n",
    "    for j in popentities(PosFilters, NegFilters):\n",
    "            outofguess.append(f'{j[0].split(\"/\")[-1][:40]:40s}')\n",
    "    guess = random.choice(outofguess)\n",
    "    print(guess)\n",
    "    answer = (input('Is this correct?').startswith('y'))\n",
    "    if answer is True:\n",
    "        print('Win')\n",
    "    else:\n",
    "        print('game over')"
   ]
  }
 ],
 "metadata": {
  "kernelspec": {
   "display_name": "Python 3 (ipykernel)",
   "language": "python",
   "name": "python3"
  },
  "language_info": {
   "codemirror_mode": {
    "name": "ipython",
    "version": 3
   },
   "file_extension": ".py",
   "mimetype": "text/x-python",
   "name": "python",
   "nbconvert_exporter": "python",
   "pygments_lexer": "ipython3",
   "version": "3.9.7"
  }
 },
 "nbformat": 4,
 "nbformat_minor": 4
}
