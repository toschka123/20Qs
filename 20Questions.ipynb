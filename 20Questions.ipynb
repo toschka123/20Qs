{
 "cells": [
  {
   "cell_type": "code",
<<<<<<< Updated upstream
   "execution_count": 4,
=======
   "execution_count": null,
>>>>>>> Stashed changes
   "metadata": {},
   "outputs": [],
   "source": [
    "import rdflib\n",
    "import html\n",
    "g = rdflib.Graph().parse('./fb15k-wikitop2021-yago-facts.nt', format='ntriples')\n",
    "g += rdflib.Graph().parse('./fb15k-wikitop2021-yago-full-types.nt', format='ntriples')\n",
    "\n",
    "from rdflib.namespace import RDF\n",
    "for line in open('fb15k-wikitop2021.tsv').readlines()[1:]:\n",
    "    subject = rdflib.URIRef( line.split('\\t')[6][1:-1] ) # take the URI in column 6\n",
    "    g.add( (subject, RDF.type, rdflib.URIRef('http://example.com/popularEntity')) )"
   ]
  },
  {
   "cell_type": "code",
<<<<<<< Updated upstream
   "execution_count": 5,
=======
   "execution_count": null,
>>>>>>> Stashed changes
   "metadata": {},
   "outputs": [],
   "source": [
    "r = g.query(\"\"\"\n",
    "select (count(*) as ?count) ?p ?o  where \n",
    "{\n",
    "    ?s <http://www.w3.org/1999/02/22-rdf-syntax-ns#type> <http://example.com/popularEntity> .\n",
    "    ?s ?p ?o .\n",
    "} \n",
    "group by ?p ?o \n",
    "order by desc(?count)\n",
    "limit 10\n",
    "\"\"\")\n",
    "\n",
    "for b in r.bindings:\n",
    "    print(*[f'{x.split(\"/\")[-1][:40]:40s}' for x in b.values()])\n"
   ]
  },
  {
   "cell_type": "code",
<<<<<<< Updated upstream
   "execution_count": 6,
=======
   "execution_count": null,
   "metadata": {},
   "outputs": [],
   "source": [
    "%load_ext ipython_sparql_pandas\n",
    "sparql = SPARQLWrapper(\"http://MacBook-Air-van-Daphne.local:7200/repositories/20qs\")"
   ]
  },
  {
   "cell_type": "code",
   "execution_count": null,
   "metadata": {},
   "outputs": [],
   "source": [
    "%%sparql http://MacBook-Air-van-Daphne.local:7200/repositories/20qs -s qres \n",
    "select (count(*) as ?count) ?p ?o  where \n",
    "{\n",
    "    ?s <http://www.w3.org/1999/02/22-rdf-syntax-ns#type> <http://example.com/popularEntity> .\n",
    "    ?s ?p ?o .\n",
    "} \n",
    "group by ?p ?o \n",
    "order by desc(?count)\n",
    "limit 10"
   ]
  },
  {
   "cell_type": "code",
   "execution_count": null,
>>>>>>> Stashed changes
   "metadata": {},
   "outputs": [],
   "source": [
    "#from the query results extract a list that contains the counts after splitting on certain attributes\n",
    "PosAttr=['?s <http://www.w3.org/1999/02/22-rdf-syntax-ns#type> <http://example.com/popularEntity> .']\n",
    "NegAttr=[]\n",
    "def extractCountAndAttr(result):\n",
    "    listOfSplits = []\n",
    "    listOfObj = []\n",
    "    listOfPred= []\n",
    "    for count, pred, obj in result:\n",
    "        listOfSplits.append(int(count))\n",
    "        listOfObj.append(obj)\n",
    "        listOfPred.append(pred)\n",
    "    return(listOfSplits,listOfObj,listOfPred)\n",
    "\n",
    "#function to approximate index element of list that provides best split\n",
    "def bestSplit(listOfNumbers, ElementsLeft):\n",
    "    currentBest=1\n",
    "    indexBest=-1\n",
    "    for i in range(len(listOfNumbers)):\n",
    "        splitScore = abs((listOfNumbers[i]/ElementsLeft)-0.5)\n",
    "        if splitScore<currentBest:\n",
    "            currentBest=splitScore\n",
    "            indexBest=i\n",
    "    return indexBest\n",
    "\"\"\"\n",
    "def generateQuestion(listOfPred, listOfObj, index):\n",
    "    userAnswer = input(f'Does the thing you are looking for have the attribute: {listOfPred[index].split(\"/\")[-1]} {listOfObj[index].split(\"/\")[-1]} ?' ).startswith('y')\n",
    "    if userAnswer:\n",
    "        PosAttr.append('?s <' + str(listOfPred[index]) +'> <'+str(listOfObj[index])+ '>.' )   \n",
    "    else:\n",
    "        NegAttr.append('FILTER NOT EXISTS {{ \\n ?s <' + str(listOfPred[index]) +'> <'+str(listOfObj[index])+ '>. }}' )   \n",
    "    NegFilters = \"\\n\".join(NegAttr)\n",
    "    PosFilters = \"\\n\".join(PosAttr)\n",
    "    return (PosFilters, NegFilters)\"\"\"\n",
    "\n",
    "\n",
    "def generateQuestion(listOfPred, listOfObj, index):\n",
    "    userAnswer = input(f'Does the thing you are looking for have the attribute: {listOfPred[index].split(\"/\")[-1]} {listOfObj[index].split(\"/\")[-1]} ?' )\n",
    "    if userAnswer.startswith('y'):\n",
    "        PosAttr.append('?s <' + str(listOfPred[index]) +'> <'+str(listOfObj[index])+ '>.' )   \n",
    "    elif userAnswer.startswith('n'):\n",
    "        NegAttr.append('FILTER NOT EXISTS {{ \\n ?s <' + str(listOfPred[index]) +'> <'+str(listOfObj[index])+ '>. }}' )   \n",
    "    else:\n",
    "        generateQuestion(listOfPred, listOfObj, index+1)\n",
    "    NegFilters = \"\\n\".join(NegAttr)\n",
    "    PosFilters = \"\\n\".join(PosAttr)\n",
    "    return (PosFilters, NegFilters)\n",
    "\n",
    "\n",
    "  \n",
    "def updateQuery( PosFilters, NegFilters):\n",
    "\n",
    "    FilterQuestion =  f\"\"\"\n",
    "            select (count(*) as ?count) ?p ?o  where \n",
    "            {{\n",
    "            \n",
    "            {PosFilters}\n",
    "             ?s ?p ?o .\n",
    "            {NegFilters}\n",
    "            }} \n",
    "            group by ?p ?o \n",
    "            order by desc(?count)\n",
    "            limit 25\n",
    "            \"\"\"\n",
    "        \n",
    "    return FilterQuestion\n",
    "\n",
    "\n"
   ]
  },
  {
   "cell_type": "code",
<<<<<<< Updated upstream
   "execution_count": 7,
=======
   "execution_count": null,
>>>>>>> Stashed changes
   "metadata": {},
   "outputs": [
    {
     "name": "stdout",
     "output_type": "stream",
     "text": [
      "22-rdf-syntax-ns#type                    popularEntity                            186                                     \n",
      "22-rdf-syntax-ns#type                    Human                                    134                                     \n",
      "knowsLanguage                            English_language                         118                                     \n",
      "nationality                              United_States                            93                                      \n",
      "hasOccupation                            Actor                                    77                                      \n",
      "hasOccupation                            Film_producer                            51                                      \n",
      "hasOccupation                            Screenwriter                             37                                      \n",
      "hasOccupation                            Film_director                            32                                      \n",
      "memberOf                                 Democratic_Party_(United_States)         29                                      \n",
      "22-rdf-syntax-ns#type                    Country                                  25                                      \n"
     ]
    }
   ],
   "source": [
    "qres = g.query(\"\"\"\n",
    "select (count(*) as ?count) ?p ?o  where \n",
    "{\n",
    "    ?s <http://www.w3.org/1999/02/22-rdf-syntax-ns#type> <http://example.com/popularEntity> .\n",
    "    ?s ?p ?o .\n",
    "} \n",
    "group by ?p ?o \n",
    "order by desc(?count)\n",
    "limit 10\n",
    "\"\"\")\n",
    "for b in qres.bindings:\n",
    "    print(*[f'{x.split(\"/\")[-1][:40]:40s}' for x in b.values()])\n",
    "availableSplits, listOfObj ,listOfPred = extractCountAndAttr(r)\n",
    "index= bestSplit(availableSplits, availableSplits[0])\n"
   ]
  },
  {
   "cell_type": "code",
<<<<<<< Updated upstream
   "execution_count": 21,
   "metadata": {},
   "outputs": [
    {
     "name": "stdin",
     "output_type": "stream",
     "text": [
      "Does the thing you are looking for have the attribute: nationality United_States ? y\n",
      "Does the thing you are looking for have the attribute: hasOccupation Film_producer ? n\n",
      "Does the thing you are looking for have the attribute: hasOccupation Actor ? \n",
      "Does the thing you are looking for have the attribute: memberOf Democratic_Party_(United_States) ? y\n",
      "Does the thing you are looking for have the attribute: hasOccupation Politician ? y\n",
      "Does the thing you are looking for have the attribute: award Presidential_Medal_of_Freedom ? no\n",
      "Does the thing you are looking for have the attribute: award Time_Person_of_the_Year ? y\n",
      "Does the thing you are looking for have the attribute: award NAACP_Image_Award_for_Outstanding_Literary_Work,_Nonfiction ? y\n"
     ]
    },
    {
     "name": "stdout",
     "output_type": "stream",
     "text": [
      "Your Answer is: Barack_Obama\n"
     ]
    }
   ],
=======
   "execution_count": null,
   "metadata": {},
   "outputs": [],
>>>>>>> Stashed changes
   "source": [
    "#without printing results\n",
    "i=0\n",
    "while i< 20:\n",
    "   \n",
    "        \n",
    "    availableSplits, listOfObj ,listOfPred = extractCountAndAttr(qres)\n",
    "    if availableSplits[0]<=1:\n",
    "        break\n",
    "    index= bestSplit(availableSplits, availableSplits[0])\n",
    "    PosFilters, NegFilters = generateQuestion(listOfPred, listOfObj, index)\n",
    "    query = updateQuery(PosFilters, NegFilters)\n",
    "    qres = g.query(query)\n",
    "\n",
    "finalResult= f\"\"\"\n",
    "            select distinct ?s\n",
    "            where \n",
    "            {{\n",
    "            \n",
    "            {PosFilters}\n",
    "            ?s ?p ?o\n",
    "            {NegFilters}\n",
    "            }} \"\"\"\n",
    "finalRes = g.query(finalResult)\n",
    "for b in finalRes.bindings:\n",
    "    print(*[f'Your Answer is: {x.split(\"/\")[-1]}' for x in b.values()][0:10]) "
   ]
  },
  {
   "cell_type": "code",
<<<<<<< Updated upstream
   "execution_count": 10,
   "metadata": {},
   "outputs": [
    {
     "name": "stdin",
     "output_type": "stream",
     "text": [
      "Does the thing you are looking for have the attribute: nationality United_States ? n\n"
     ]
    },
    {
     "name": "stdout",
     "output_type": "stream",
     "text": [
      "22-rdf-syntax-ns#type                    popularEntity                            93                                      \n",
      "22-rdf-syntax-ns#type                    Human                                    41                                      \n",
      "knowsLanguage                            English_language                         34                                      \n",
      "22-rdf-syntax-ns#type                    Country                                  25                                      \n",
      "memberOf                                 United_Nations                           21                                      \n",
      "nationality                              United_Kingdom                           20                                      \n",
      "22-rdf-syntax-ns#type                    Sovereign_state                          20                                      \n",
      "memberOf                                 International_Bank_for_Reconstruction_an 19                                      \n",
      "memberOf                                 Multilateral_Investment_Guarantee_Agency 19                                      \n",
      "memberOf                                 International_Telecommunication_Union    19                                      \n",
      "memberOf                                 International_Finance_Corporation        19                                      \n",
      "memberOf                                 Universal_Postal_Union                   19                                      \n",
      "memberOf                                 Interpol                                 19                                      \n",
      "memberOf                                 World_Trade_Organization                 19                                      \n",
      "memberOf                                 International_Development_Association    18                                      \n",
      "memberOf                                 Organisation_for_the_Prohibition_of_Chem 18                                      \n",
      "memberOf                                 International_Hydrographic_Organization  17                                      \n",
      "memberOf                                 Asian_Development_Bank                   17                                      \n",
      "memberOf                                 UNESCO                                   17                                      \n",
      "memberOf                                 Group_on_Earth_Observations              16                                      \n",
      "hasOccupation                            Actor                                    16                                      \n",
      "memberOf                                 International_Centre_for_Settlement_of_I 15                                      \n",
      "memberOf                                 Missile_Technology_Control_Regime        12                                      \n",
      "memberOf                                 Nuclear_Suppliers_Group                  12                                      \n",
      "memberOf                                 G20                                      12                                      \n"
     ]
    },
    {
     "name": "stdin",
     "output_type": "stream",
     "text": [
      "Does the thing you are looking for have the attribute: 22-rdf-syntax-ns#type Human ? y\n"
     ]
    },
    {
     "name": "stdout",
     "output_type": "stream",
     "text": [
      "22-rdf-syntax-ns#type                    Human                                    41                                      \n",
      "22-rdf-syntax-ns#type                    popularEntity                            41                                      \n",
      "knowsLanguage                            English_language                         33                                      \n",
      "nationality                              United_Kingdom                           20                                      \n",
      "hasOccupation                            Actor                                    16                                      \n",
      "hasOccupation                            Singer-songwriter                        10                                      \n",
      "hasOccupation                            Guitarist                                8                                       \n",
      "hasOccupation                            Politician                               8                                       \n",
      "hasOccupation                            Film_producer                            7                                       \n",
      "hasOccupation                            Pianist                                  7                                       \n",
      "hasOccupation                            Stage_actor                              7                                       \n",
      "award                                    Order_of_the_Elephant                    6                                       \n",
      "hasOccupation                            Film_director                            6                                       \n",
      "award                                    Order_of_the_British_Empire              6                                       \n",
      "knowsLanguage                            French_language                          5                                       \n",
      "knowsLanguage                            German_language                          5                                       \n",
      "hasOccupation                            Songwriter                               5                                       \n",
      "award                                    Rock_and_Roll_Hall_of_Fame               5                                       \n",
      "award                                    Time_Person_of_the_Year                  4                                       \n",
      "award                                    Order_of_the_Garter                      4                                       \n",
      "award                                    Albert_Medal_(Royal_Society_of_Arts)     4                                       \n",
      "hasOccupation                            Writer                                   4                                       \n",
      "award                                    Grammy_Lifetime_Achievement_Award        4                                       \n",
      "memberOf                                 American_Academy_of_Arts_and_Sciences    4                                       \n",
      "homeLocation                             New_York_City                            4                                       \n"
     ]
    },
    {
     "name": "stdin",
     "output_type": "stream",
     "text": [
      "Does the thing you are looking for have the attribute: nationality United_Kingdom ? idk\n",
      "Does the thing you are looking for have the attribute: hasOccupation Actor ? y\n"
     ]
    },
    {
     "name": "stdout",
     "output_type": "stream",
     "text": [
      "hasOccupation                            Actor                                    16                                      \n",
      "22-rdf-syntax-ns#type                    Human                                    16                                      \n",
      "22-rdf-syntax-ns#type                    popularEntity                            16                                      \n",
      "knowsLanguage                            English_language                         15                                      \n",
      "nationality                              United_Kingdom                           9                                       \n",
      "hasOccupation                            Singer-songwriter                        6                                       \n",
      "hasOccupation                            Film_director                            5                                       \n",
      "hasOccupation                            Stage_actor                              5                                       \n",
      "hasOccupation                            Film_producer                            5                                       \n",
      "hasOccupation                            Guitarist                                5                                       \n",
      "hasOccupation                            Songwriter                               5                                       \n",
      "award                                    Order_of_the_British_Empire              4                                       \n",
      "award                                    Rock_and_Roll_Hall_of_Fame               4                                       \n",
      "hasOccupation                            Pianist                                  4                                       \n",
      "award                                    Grammy_Lifetime_Achievement_Award        3                                       \n",
      "birthPlace                               Liverpool                                3                                       \n",
      "nationality                              Canada                                   3                                       \n",
      "hasOccupation                            Dancer                                   3                                       \n",
      "award                                    New_York_Film_Critics_Circle_Award_for_B 2                                       \n",
      "award                                    Theatre_World_Award                      2                                       \n",
      "homeLocation                             New_York_City                            2                                       \n",
      "birthPlace                               Westminster                              2                                       \n",
      "award                                    Kennedy_Center_Honors                    2                                       \n",
      "alumniOf                                 Liverpool_Institute_High_School_for_Boys 2                                       \n",
      "hasOccupation                            Screenwriter                             2                                       \n"
     ]
    },
    {
     "name": "stdin",
     "output_type": "stream",
     "text": [
      "Does the thing you are looking for have the attribute: nationality United_Kingdom ? k\n",
      "Does the thing you are looking for have the attribute: hasOccupation Singer-songwriter ? y\n"
     ]
    },
    {
     "name": "stdout",
     "output_type": "stream",
     "text": [
      "hasOccupation                            Singer-songwriter                        6                                       \n",
      "hasOccupation                            Actor                                    6                                       \n",
      "knowsLanguage                            English_language                         6                                       \n",
      "22-rdf-syntax-ns#type                    Human                                    6                                       \n",
      "22-rdf-syntax-ns#type                    popularEntity                            6                                       \n",
      "hasOccupation                            Guitarist                                5                                       \n",
      "award                                    Rock_and_Roll_Hall_of_Fame               4                                       \n",
      "nationality                              United_Kingdom                           4                                       \n",
      "hasOccupation                            Pianist                                  4                                       \n",
      "award                                    Grammy_Lifetime_Achievement_Award        3                                       \n",
      "award                                    Order_of_the_British_Empire              3                                       \n",
      "birthPlace                               Liverpool                                3                                       \n",
      "hasOccupation                            Film_producer                            3                                       \n",
      "hasOccupation                            Songwriter                               3                                       \n",
      "alumniOf                                 Liverpool_Institute_High_School_for_Boys 2                                       \n",
      "hasOccupation                            Lyricist                                 2                                       \n",
      "award                                    Billboard_Music_Award                    2                                       \n",
      "hasOccupation                            Public_figure                            2                                       \n",
      "hasOccupation                            Poet                                     2                                       \n",
      "award                                    Wolf_Prize_in_Arts                       1                                       \n",
      "award                                    Academy_Award_for_Best_Original_Score    1                                       \n",
      "award                                    Knight_Bachelor                          1                                       \n",
      "award                                    Kennedy_Center_Honors                    1                                       \n",
      "award                                    MusiCares_Person_of_the_Year             1                                       \n",
      "award                                    Polar_Music_Prize                        1                                       \n"
     ]
    },
    {
     "name": "stdin",
     "output_type": "stream",
     "text": [
      "Does the thing you are looking for have the attribute: award Grammy_Lifetime_Achievement_Award ? y\n"
     ]
    },
    {
     "name": "stdout",
     "output_type": "stream",
     "text": [
      "award                                    Rock_and_Roll_Hall_of_Fame               3                                       \n",
      "award                                    Grammy_Lifetime_Achievement_Award        3                                       \n",
      "nationality                              United_Kingdom                           3                                       \n",
      "hasOccupation                            Pianist                                  3                                       \n",
      "hasOccupation                            Guitarist                                3                                       \n",
      "hasOccupation                            Actor                                    3                                       \n",
      "hasOccupation                            Singer-songwriter                        3                                       \n",
      "knowsLanguage                            English_language                         3                                       \n",
      "22-rdf-syntax-ns#type                    Human                                    3                                       \n",
      "22-rdf-syntax-ns#type                    popularEntity                            3                                       \n",
      "birthPlace                               Liverpool                                2                                       \n",
      "hasOccupation                            Film_producer                            2                                       \n",
      "award                                    Order_of_the_British_Empire              2                                       \n",
      "alumniOf                                 Calderstones_School                      1                                       \n",
      "alumniOf                                 Liverpool_College_of_Art                 1                                       \n",
      "image                                    JohnLennonpeace.jpg                      1                                       \n",
      "spouse                                   Yoko_Ono                                 1                                       \n",
      "spouse                                   Cynthia_Lennon                           1                                       \n",
      "deathDate                                1980-12-08                               1                                       \n",
      "parent                                   Julia_Lennon                             1                                       \n",
      "parent                                   Alfred_Lennon                            1                                       \n",
      "familyName                               Lennon_(name)                            1                                       \n",
      "givenName                                John_(given_name)                        1                                       \n",
      "homeLocation                             Liverpool                                1                                       \n",
      "homeLocation                             New_York_City                            1                                       \n"
     ]
    },
    {
     "name": "stdin",
     "output_type": "stream",
     "text": [
      "Does the thing you are looking for have the attribute: birthPlace Liverpool ? y\n"
     ]
    },
    {
     "name": "stdout",
     "output_type": "stream",
     "text": [
      "award                                    Rock_and_Roll_Hall_of_Fame               2                                       \n",
      "award                                    Grammy_Lifetime_Achievement_Award        2                                       \n",
      "nationality                              United_Kingdom                           2                                       \n",
      "birthPlace                               Liverpool                                2                                       \n",
      "hasOccupation                            Film_producer                            2                                       \n",
      "hasOccupation                            Pianist                                  2                                       \n",
      "hasOccupation                            Guitarist                                2                                       \n",
      "hasOccupation                            Actor                                    2                                       \n",
      "hasOccupation                            Singer-songwriter                        2                                       \n",
      "knowsLanguage                            English_language                         2                                       \n",
      "22-rdf-syntax-ns#type                    Human                                    2                                       \n",
      "22-rdf-syntax-ns#type                    popularEntity                            2                                       \n",
      "alumniOf                                 Calderstones_School                      1                                       \n",
      "alumniOf                                 Liverpool_College_of_Art                 1                                       \n",
      "image                                    JohnLennonpeace.jpg                      1                                       \n",
      "spouse                                   Yoko_Ono                                 1                                       \n",
      "spouse                                   Cynthia_Lennon                           1                                       \n",
      "deathDate                                1980-12-08                               1                                       \n",
      "parent                                   Julia_Lennon                             1                                       \n",
      "parent                                   Alfred_Lennon                            1                                       \n",
      "familyName                               Lennon_(name)                            1                                       \n",
      "givenName                                John_(given_name)                        1                                       \n",
      "homeLocation                             Liverpool                                1                                       \n",
      "homeLocation                             New_York_City                            1                                       \n",
      "homeLocation                             251_Menlove_Avenue                       1                                       \n"
     ]
    },
    {
     "name": "stdin",
     "output_type": "stream",
     "text": [
      "Does the thing you are looking for have the attribute: alumniOf Calderstones_School ? n\n"
     ]
    },
    {
     "name": "stdout",
     "output_type": "stream",
     "text": [
      "award                                    Wolf_Prize_in_Arts                       1                                       \n",
      "award                                    Rock_and_Roll_Hall_of_Fame               1                                       \n",
      "award                                    Academy_Award_for_Best_Original_Score    1                                       \n",
      "award                                    Grammy_Lifetime_Achievement_Award        1                                       \n",
      "award                                    Knight_Bachelor                          1                                       \n",
      "award                                    Kennedy_Center_Honors                    1                                       \n",
      "award                                    MusiCares_Person_of_the_Year             1                                       \n",
      "award                                    Polar_Music_Prize                        1                                       \n",
      "award                                    Grammy_Award_for_Best_Historical_Album   1                                       \n",
      "award                                    Gershwin_Prize                           1                                       \n",
      "award                                    Genesis_Awards                           1                                       \n",
      "award                                    Order_of_the_British_Empire              1                                       \n",
      "award                                    Silver_Clef_Award                        1                                       \n",
      "alumniOf                                 Liverpool_Institute_High_School_for_Boys 1                                       \n",
      "image                                    Paul%20McCartney%20in%20October%202018.j 1                                       \n",
      "spouse                                   Linda_McCartney                          1                                       \n",
      "spouse                                   Heather_Mills                            1                                       \n",
      "nationality                              United_Kingdom                           1                                       \n",
      "familyName                               McCartney_(surname)                      1                                       \n",
      "givenName                                Paul_(given_name)                        1                                       \n",
      "birthPlace                               Liverpool                                1                                       \n",
      "url                                                                               1                                       \n",
      "hasOccupation                            Film_producer                            1                                       \n",
      "hasOccupation                            Screenwriter                             1                                       \n",
      "hasOccupation                            Drummer                                  1                                       \n"
     ]
    },
    {
     "name": "stdin",
     "output_type": "stream",
     "text": [
      "Does the thing you are looking for have the attribute: award Wolf_Prize_in_Arts ? y\n"
     ]
    },
    {
     "name": "stdout",
     "output_type": "stream",
     "text": [
      "award                                    Wolf_Prize_in_Arts                       1                                       \n",
      "award                                    Rock_and_Roll_Hall_of_Fame               1                                       \n",
      "award                                    Academy_Award_for_Best_Original_Score    1                                       \n",
      "award                                    Grammy_Lifetime_Achievement_Award        1                                       \n",
      "award                                    Knight_Bachelor                          1                                       \n",
      "award                                    Kennedy_Center_Honors                    1                                       \n",
      "award                                    MusiCares_Person_of_the_Year             1                                       \n",
      "award                                    Polar_Music_Prize                        1                                       \n",
      "award                                    Grammy_Award_for_Best_Historical_Album   1                                       \n",
      "award                                    Gershwin_Prize                           1                                       \n",
      "award                                    Genesis_Awards                           1                                       \n",
      "award                                    Order_of_the_British_Empire              1                                       \n",
      "award                                    Silver_Clef_Award                        1                                       \n",
      "alumniOf                                 Liverpool_Institute_High_School_for_Boys 1                                       \n",
      "image                                    Paul%20McCartney%20in%20October%202018.j 1                                       \n",
      "spouse                                   Linda_McCartney                          1                                       \n",
      "spouse                                   Heather_Mills                            1                                       \n",
      "nationality                              United_Kingdom                           1                                       \n",
      "familyName                               McCartney_(surname)                      1                                       \n",
      "givenName                                Paul_(given_name)                        1                                       \n",
      "birthPlace                               Liverpool                                1                                       \n",
      "url                                                                               1                                       \n",
      "hasOccupation                            Film_producer                            1                                       \n",
      "hasOccupation                            Screenwriter                             1                                       \n",
      "hasOccupation                            Drummer                                  1                                       \n",
      "Your Answer is: Paul_McCartney\n"
     ]
    }
   ],
=======
   "execution_count": null,
   "metadata": {},
   "outputs": [],
>>>>>>> Stashed changes
   "source": [
    "i=0\n",
    "while i< 20:\n",
    "    if availableSplits[0]<=1:\n",
    "        break\n",
    "        \n",
    "    availableSplits, listOfObj ,listOfPred = extractCountAndAttr(qres)\n",
    "    index= bestSplit(availableSplits, availableSplits[0])\n",
    "    PosFilters, NegFilters = generateQuestion(listOfPred, listOfObj, index)\n",
    "    query = updateQuery(PosFilters, NegFilters)\n",
    "    qres = g.query(query)\n",
    "    for b in qres.bindings:\n",
    "        print(*[f'{x.split(\"/\")[-1][:40]:40s}' for x in b.values()][0:10]) \n",
    "\n",
    "finalResult= f\"\"\"\n",
    "            select distinct ?s\n",
    "            where \n",
    "            {{\n",
    "            \n",
    "            {PosFilters}\n",
    "            ?s ?p ?o\n",
    "            {NegFilters}\n",
    "            }} \"\"\"\n",
    "finalRes = g.query(finalResult)\n",
    "for b in finalRes.bindings:\n",
    "    print(*[f'Your Answer is: {x.split(\"/\")[-1]}' for x in b.values()][0:10]) "
   ]
  },
  {
   "cell_type": "code",
   "execution_count": 20,
   "metadata": {
    "colab": {
     "base_uri": "https://localhost:8080/"
    },
    "executionInfo": {
     "elapsed": 14129,
     "status": "ok",
     "timestamp": 1666254104762,
     "user": {
      "displayName": "BB Kruit",
      "userId": "04023879009079817469"
     },
     "user_tz": -120
    },
    "id": "e6f82c24",
    "outputId": "750edc7f-8497-4873-b9c0-be3fead68873"
   },
   "outputs": [],
   "source": [
    "#Cell To Reset the program:\n",
    "PosAttr=['?s <http://www.w3.org/1999/02/22-rdf-syntax-ns#type> <http://example.com/popularEntity> .']\n",
    "NegAttr=[]\n",
    "qres = g.query(\"\"\"\n",
    "select (count(*) as ?count) ?p ?o  where \n",
    "{\n",
    "    ?s <http://www.w3.org/1999/02/22-rdf-syntax-ns#type> <http://example.com/popularEntity> .\n",
    "    ?s ?p ?o .\n",
    "} \n",
    "group by ?p ?o \n",
    "order by desc(?count)\n",
    "limit 10\n",
    "\"\"\")\n",
    "availableSplits, listOfObj ,listOfPred = extractCountAndAttr(qres)\n",
    "index= bestSplit(availableSplits, availableSplits[0])"
   ]
  },
  {
   "cell_type": "code",
   "execution_count": null,
   "metadata": {},
   "outputs": [],
   "source": []
  }
 ],
 "metadata": {
  "kernelspec": {
   "display_name": "Python 3 (ipykernel)",
   "language": "python",
   "name": "python3"
  },
  "language_info": {
   "codemirror_mode": {
    "name": "ipython",
    "version": 3
   },
   "file_extension": ".py",
   "mimetype": "text/x-python",
   "name": "python",
   "nbconvert_exporter": "python",
   "pygments_lexer": "ipython3",
   "version": "3.9.12"
  }
 },
 "nbformat": 4,
 "nbformat_minor": 4
}
