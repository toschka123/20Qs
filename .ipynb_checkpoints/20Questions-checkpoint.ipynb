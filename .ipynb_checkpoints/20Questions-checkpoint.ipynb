{
 "cells": [
  {
   "cell_type": "code",
   "execution_count": 37,
   "metadata": {},
   "outputs": [],
   "source": [
    "import rdflib\n",
    "import html\n",
    "from SPARQLWrapper import SPARQLWrapper , JSON, CSV, TSV, TURTLE\n",
    "import pandas as pd\n",
    "\n",
    "g = rdflib.Graph().parse('./fb15k-wikitop2021-yago-facts.nt', format='ntriples')\n",
    "g += rdflib.Graph().parse('./fb15k-wikitop2021-yago-full-types.nt', format='ntriples')\n",
    "\n",
    "from rdflib.namespace import RDF\n",
    "for line in open('fb15k-wikitop2021.tsv').readlines()[1:]:\n",
    "    subject = rdflib.URIRef( line.split('\\t')[6][1:-1] ) # take the URI in column 6\n",
    "    g.add( (subject, RDF.type, rdflib.URIRef('http://example.com/popularEntity')) )"
   ]
  },
  {
   "cell_type": "code",
   "execution_count": 38,
   "metadata": {},
   "outputs": [
    {
     "name": "stdout",
     "output_type": "stream",
     "text": [
      "22-rdf-syntax-ns#type                    popularEntity                            186                                     \n",
      "22-rdf-syntax-ns#type                    Human                                    134                                     \n",
      "knowsLanguage                            English_language                         118                                     \n",
      "nationality                              United_States                            93                                      \n",
      "hasOccupation                            Actor                                    77                                      \n",
      "hasOccupation                            Film_producer                            51                                      \n",
      "hasOccupation                            Screenwriter                             37                                      \n",
      "hasOccupation                            Film_director                            32                                      \n",
      "memberOf                                 Democratic_Party_(United_States)         29                                      \n",
      "22-rdf-syntax-ns#type                    Country                                  25                                      \n"
     ]
    }
   ],
   "source": [
    "r = g.query(\"\"\"\n",
    "select (count(*) as ?count) ?p ?o  where \n",
    "{\n",
    "    ?s <http://www.w3.org/1999/02/22-rdf-syntax-ns#type> <http://example.com/popularEntity> .\n",
    "    ?s ?p ?o .\n",
    "} \n",
    "group by ?p ?o \n",
    "order by desc(?count)\n",
    "limit 10\n",
    "\"\"\")\n",
    "for b in r.bindings:\n",
    "    print(*[f'{x.split(\"/\")[-1][:40]:40s}' for x in b.values()])\n"
   ]
  },
  {
   "cell_type": "code",
   "execution_count": 53,
   "metadata": {},
   "outputs": [
    {
     "name": "stdout",
     "output_type": "stream",
     "text": [
      "The ipython_sparql_pandas extension is already loaded. To reload it, use:\n",
      "  %reload_ext ipython_sparql_pandas\n"
     ]
    }
   ],
   "source": [
    "%load_ext ipython_sparql_pandas\n",
    "sparql = SPARQLWrapper(\"http://DESKTOP-D6TQ7G4:7200/repositories/20qs\")"
   ]
  },
  {
   "cell_type": "code",
   "execution_count": 228,
   "metadata": {},
   "outputs": [
    {
     "data": {
      "text/html": [
       "<div>\n",
       "<style scoped>\n",
       "    .dataframe tbody tr th:only-of-type {\n",
       "        vertical-align: middle;\n",
       "    }\n",
       "\n",
       "    .dataframe tbody tr th {\n",
       "        vertical-align: top;\n",
       "    }\n",
       "\n",
       "    .dataframe thead th {\n",
       "        text-align: right;\n",
       "    }\n",
       "</style>\n",
       "<table border=\"1\" class=\"dataframe\">\n",
       "  <thead>\n",
       "    <tr style=\"text-align: right;\">\n",
       "      <th></th>\n",
       "      <th>count</th>\n",
       "      <th>p</th>\n",
       "      <th>o</th>\n",
       "    </tr>\n",
       "  </thead>\n",
       "  <tbody>\n",
       "    <tr>\n",
       "      <th>0</th>\n",
       "      <td>186</td>\n",
       "      <td>http://www.w3.org/1999/02/22-rdf-syntax-ns#type</td>\n",
       "      <td>http://example.com/popularEntity</td>\n",
       "    </tr>\n",
       "    <tr>\n",
       "      <th>1</th>\n",
       "      <td>134</td>\n",
       "      <td>http://www.w3.org/1999/02/22-rdf-syntax-ns#type</td>\n",
       "      <td>http://yago-knowledge.org/resource/Human</td>\n",
       "    </tr>\n",
       "    <tr>\n",
       "      <th>2</th>\n",
       "      <td>118</td>\n",
       "      <td>http://schema.org/knowsLanguage</td>\n",
       "      <td>http://yago-knowledge.org/resource/English_lan...</td>\n",
       "    </tr>\n",
       "    <tr>\n",
       "      <th>3</th>\n",
       "      <td>93</td>\n",
       "      <td>http://schema.org/nationality</td>\n",
       "      <td>http://yago-knowledge.org/resource/United_States</td>\n",
       "    </tr>\n",
       "    <tr>\n",
       "      <th>4</th>\n",
       "      <td>77</td>\n",
       "      <td>http://schema.org/hasOccupation</td>\n",
       "      <td>http://yago-knowledge.org/resource/Actor</td>\n",
       "    </tr>\n",
       "    <tr>\n",
       "      <th>5</th>\n",
       "      <td>51</td>\n",
       "      <td>http://schema.org/hasOccupation</td>\n",
       "      <td>http://yago-knowledge.org/resource/Film_producer</td>\n",
       "    </tr>\n",
       "    <tr>\n",
       "      <th>6</th>\n",
       "      <td>37</td>\n",
       "      <td>http://schema.org/hasOccupation</td>\n",
       "      <td>http://yago-knowledge.org/resource/Screenwriter</td>\n",
       "    </tr>\n",
       "    <tr>\n",
       "      <th>7</th>\n",
       "      <td>32</td>\n",
       "      <td>http://schema.org/hasOccupation</td>\n",
       "      <td>http://yago-knowledge.org/resource/Film_director</td>\n",
       "    </tr>\n",
       "    <tr>\n",
       "      <th>8</th>\n",
       "      <td>29</td>\n",
       "      <td>http://schema.org/memberOf</td>\n",
       "      <td>http://yago-knowledge.org/resource/Democratic_...</td>\n",
       "    </tr>\n",
       "    <tr>\n",
       "      <th>9</th>\n",
       "      <td>25</td>\n",
       "      <td>http://www.w3.org/1999/02/22-rdf-syntax-ns#type</td>\n",
       "      <td>http://schema.org/Country</td>\n",
       "    </tr>\n",
       "  </tbody>\n",
       "</table>\n",
       "</div>"
      ],
      "text/plain": [
       "   count                                                p  \\\n",
       "0    186  http://www.w3.org/1999/02/22-rdf-syntax-ns#type   \n",
       "1    134  http://www.w3.org/1999/02/22-rdf-syntax-ns#type   \n",
       "2    118                  http://schema.org/knowsLanguage   \n",
       "3     93                    http://schema.org/nationality   \n",
       "4     77                  http://schema.org/hasOccupation   \n",
       "5     51                  http://schema.org/hasOccupation   \n",
       "6     37                  http://schema.org/hasOccupation   \n",
       "7     32                  http://schema.org/hasOccupation   \n",
       "8     29                       http://schema.org/memberOf   \n",
       "9     25  http://www.w3.org/1999/02/22-rdf-syntax-ns#type   \n",
       "\n",
       "                                                   o  \n",
       "0                   http://example.com/popularEntity  \n",
       "1           http://yago-knowledge.org/resource/Human  \n",
       "2  http://yago-knowledge.org/resource/English_lan...  \n",
       "3   http://yago-knowledge.org/resource/United_States  \n",
       "4           http://yago-knowledge.org/resource/Actor  \n",
       "5   http://yago-knowledge.org/resource/Film_producer  \n",
       "6    http://yago-knowledge.org/resource/Screenwriter  \n",
       "7   http://yago-knowledge.org/resource/Film_director  \n",
       "8  http://yago-knowledge.org/resource/Democratic_...  \n",
       "9                          http://schema.org/Country  "
      ]
     },
     "execution_count": 228,
     "metadata": {},
     "output_type": "execute_result"
    }
   ],
   "source": [
    "%%sparql http://DESKTOP-D6TQ7G4:7200/repositories/20qs -s qres \n",
    "select (count(*) as ?count) ?p ?o  where \n",
    "{\n",
    "    ?s <http://www.w3.org/1999/02/22-rdf-syntax-ns#type> <http://example.com/popularEntity> .\n",
    "    ?s ?p ?o .\n",
    "} \n",
    "group by ?p ?o \n",
    "order by desc(?count)\n",
    "limit 10"
   ]
  },
  {
   "cell_type": "code",
   "execution_count": 238,
   "metadata": {},
   "outputs": [],
   "source": [
    "#from the query results extract a list that contains the counts after splitting on certain attributes\n",
    "PosAttr=['?s <http://www.w3.org/1999/02/22-rdf-syntax-ns#type> <http://example.com/popularEntity> .']\n",
    "NegAttr=[]\n",
    "def extractCountAndAttr(result):\n",
    "    listResults=[]\n",
    "    res = qres.get('results')\n",
    "    res = res.get('bindings')\n",
    "    for i in res:\n",
    "        for j in i.values():\n",
    "            value = j.get('value')\n",
    "            listResults.append(value)      \n",
    "    listPredicates = listResults[1::3]\n",
    "    listObjects = listResults[2::3]\n",
    "    listCounts = listResults[::3]\n",
    "    listCounts = [eval(i) for i in listCounts]\n",
    "    \n",
    "    return(listCounts, listObjects, listPredicates)\n",
    "\n",
    "#function to approximate index element of list that provides best split\n",
    "def bestSplit(listOfNumbers, ElementsLeft):\n",
    "    currentBest=1\n",
    "    indexBest=-1\n",
    "    for i in range(len(listOfNumbers)):\n",
    "        splitScore = abs((listOfNumbers[i]/ElementsLeft)-0.5)\n",
    "        if splitScore<currentBest:\n",
    "            currentBest=splitScore\n",
    "            indexBest=i\n",
    "    return indexBest\n",
    "\n",
    "\n",
    "def generateQuestion(listOfPred, listOfObj, index):\n",
    "    userAnswer = input(f'Does the thing you are looking for have the attribute: {listOfPred[index].split(\"/\")[-1]} {listOfObj[index].split(\"/\")[-1]} ?' )\n",
    "    if userAnswer.startswith('y'):\n",
    "        PosAttr.append('?s <' + str(listOfPred[index]) +'> <'+str(listOfObj[index])+ '>.' )   \n",
    "    elif userAnswer.startswith('n'):\n",
    "        NegAttr.append('FILTER NOT EXISTS {{ \\n ?s <' + str(listOfPred[index]) +'> <'+str(listOfObj[index])+ '>. }}' )   \n",
    "    else:\n",
    "        generateQuestion(listOfPred, listOfObj, index+1)\n",
    "    NegFilters = \"\\n\".join(NegAttr)\n",
    "    PosFilters = \"\\n\".join(PosAttr)\n",
    "    return (PosFilters, NegFilters)\n",
    "\n",
    "\n",
    "  \n",
    "def updateQuery( PosFilters, NegFilters):\n",
    "\n",
    "    FilterQuestion =  f\"\"\"\n",
    "    select (count(*) as ?count) ?p ?o  where \n",
    "    {{\n",
    "\n",
    "    {PosFilters}\n",
    "     ?s ?p ?o .\n",
    "    {NegFilters}\n",
    "    }} \n",
    "    group by ?p ?o \n",
    "    order by desc(?count)\n",
    "    limit 25\n",
    "    \"\"\"\n",
    "        \n",
    "    return FilterQuestion\n",
    "\n",
    "\n"
   ]
  },
  {
   "cell_type": "code",
   "execution_count": 248,
   "metadata": {},
   "outputs": [],
   "source": [
    "#reset query, resets program\n",
    "FilterQuestion =  f\"\"\"\n",
    "    select (count(*) as ?count) ?p ?o  where \n",
    "    {{\n",
    "\n",
    "    ?s <http://www.w3.org/1999/02/22-rdf-syntax-ns#type> <http://example.com/popularEntity> .\n",
    "     ?s ?p ?o .\n",
    "    }} \n",
    "    group by ?p ?o \n",
    "    order by desc(?count)\n",
    "    limit 25\n",
    "    \"\"\"\n",
    "sparql.setQuery(FilterQuestion)\n",
    "sparql.setReturnFormat(JSON)\n",
    "qres = sparql.query().convert()\n",
    "\n",
    "\n",
    "PosAttr=['?s <http://www.w3.org/1999/02/22-rdf-syntax-ns#type> <http://example.com/popularEntity> .']\n",
    "NegAttr=[]\n",
    "availableSplits, listOfObj ,listOfPred = extractCountAndAttr(qres)\n",
    "index= bestSplit(availableSplits, availableSplits[0])"
   ]
  },
  {
   "cell_type": "code",
   "execution_count": 247,
   "metadata": {},
   "outputs": [
    {
     "name": "stdin",
     "output_type": "stream",
     "text": [
      "Does the thing you are looking for have the attribute: nationality United_States ? y\n",
      "Does the thing you are looking for have the attribute: hasOccupation Film_producer ? n\n",
      "Does the thing you are looking for have the attribute: hasOccupation Actor ? n\n",
      "Does the thing you are looking for have the attribute: memberOf Democratic_Party_(United_States) ? y\n",
      "Does the thing you are looking for have the attribute: award Presidential_Medal_of_Freedom ? n\n",
      "Does the thing you are looking for have the attribute: alumniOf Columbia_University ? n\n",
      "Does the thing you are looking for have the attribute: alumniOf Lee_Strasberg_Theatre_and_Film_Institute ? y\n",
      "Does the thing you are looking for have the attribute: image Scarlett%20Johansson%20by%20Gage%20Skidmore%202%20%28cropped%29%20%28cropped%29.jpg ? y\n"
     ]
    },
    {
     "name": "stdout",
     "output_type": "stream",
     "text": [
      "Your Answer is: Scarlett_Johansson\n"
     ]
    }
   ],
   "source": [
    "#play 20qs\n",
    "i=0\n",
    "while i< 20:\n",
    "   \n",
    "        \n",
    "    availableSplits, listOfObj ,listOfPred = extractCountAndAttr(qres)\n",
    "    if availableSplits[0]<=1:\n",
    "        break\n",
    "    index= bestSplit(availableSplits, availableSplits[0])\n",
    "    PosFilters, NegFilters = generateQuestion(listOfPred, listOfObj, index)\n",
    "    query = updateQuery(PosFilters, NegFilters)\n",
    "    sparql.setQuery(query)\n",
    "    sparql.setReturnFormat(JSON)\n",
    "    qres = sparql.query().convert()\n",
    "\n",
    "    \n",
    "finalResult= f\"\"\"\n",
    "            select distinct ?s\n",
    "            where \n",
    "            {{\n",
    "            \n",
    "            {PosFilters}\n",
    "            ?s ?p ?o\n",
    "            {NegFilters}\n",
    "            }} \"\"\"\n",
    "finalRes = g.query(finalResult)\n",
    "for b in finalRes.bindings:\n",
    "    print(*[f'Your Answer is: {x.split(\"/\")[-1]}' for x in b.values()][0:10]) "
   ]
  },
  {
   "cell_type": "code",
   "execution_count": 241,
   "metadata": {},
   "outputs": [
    {
     "name": "stdout",
     "output_type": "stream",
     "text": [
      "Your Answer is: Jennifer_Lawrence\n"
     ]
    }
   ],
   "source": [
    "#Always pritning the posible spilits , doesnt work now\n",
    "i=0\n",
    "while i< 20:\n",
    "    if availableSplits[0]<=1:\n",
    "        break\n",
    "        \n",
    "    availableSplits, listOfObj ,listOfPred = extractCountAndAttr(qres)\n",
    "    index= bestSplit(availableSplits, availableSplits[0])\n",
    "    PosFilters, NegFilters = generateQuestion(listOfPred, listOfObj, index)\n",
    "    query = updateQuery(PosFilters, NegFilters)\n",
    "    qres = g.query(query)\n",
    "    for b in qres.bindings:\n",
    "        print(*[f'{x.split(\"/\")[-1][:40]:40s}' for x in b.values()][0:10]) \n",
    "\n",
    "finalResult= f\"\"\"\n",
    "            select distinct ?s\n",
    "            where \n",
    "            {{\n",
    "            \n",
    "            {PosFilters}\n",
    "            ?s ?p ?o\n",
    "            {NegFilters}\n",
    "            }} \"\"\"\n",
    "finalRes = g.query(finalResult)\n",
    "for b in finalRes.bindings:\n",
    "    print(*[f'Your Answer is: {x.split(\"/\")[-1]}' for x in b.values()][0:10]) "
   ]
  },
  {
   "cell_type": "code",
   "execution_count": null,
   "metadata": {
    "colab": {
     "base_uri": "https://localhost:8080/"
    },
    "executionInfo": {
     "elapsed": 14129,
     "status": "ok",
     "timestamp": 1666254104762,
     "user": {
      "displayName": "BB Kruit",
      "userId": "04023879009079817469"
     },
     "user_tz": -120
    },
    "id": "e6f82c24",
    "outputId": "750edc7f-8497-4873-b9c0-be3fead68873"
   },
   "outputs": [],
   "source": [
    "#Cell To Reset the program: usless now\n",
    "PosAttr=['?s <http://www.w3.org/1999/02/22-rdf-syntax-ns#type> <http://example.com/popularEntity> .']\n",
    "NegAttr=[]\n",
    "qres = g.query(\"\"\"\n",
    "select (count(*) as ?count) ?p ?o  where \n",
    "{\n",
    "    ?s <http://www.w3.org/1999/02/22-rdf-syntax-ns#type> <http://example.com/popularEntity> .\n",
    "    ?s ?p ?o .\n",
    "} \n",
    "group by ?p ?o \n",
    "order by desc(?count)\n",
    "limit 10\n",
    "\"\"\")\n",
    "availableSplits, listOfObj ,listOfPred = extractCountAndAttr(qres)\n",
    "index= bestSplit(availableSplits, availableSplits[0])"
   ]
  }
 ],
 "metadata": {
  "kernelspec": {
   "display_name": "Python 3 (ipykernel)",
   "language": "python",
   "name": "python3"
  },
  "language_info": {
   "codemirror_mode": {
    "name": "ipython",
    "version": 3
   },
   "file_extension": ".py",
   "mimetype": "text/x-python",
   "name": "python",
   "nbconvert_exporter": "python",
   "pygments_lexer": "ipython3",
   "version": "3.9.7"
  }
 },
 "nbformat": 4,
 "nbformat_minor": 4
}
